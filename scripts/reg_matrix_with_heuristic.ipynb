{
 "cells": [
  {
   "cell_type": "code",
   "execution_count": 43,
   "id": "f8aee5a8-7bf3-4dd1-9d6e-3a3c3449c3cf",
   "metadata": {},
   "outputs": [],
   "source": [
    "import pickle\n",
    "import h5py\n",
    "import matplotlib.pyplot as plt\n",
    "import numpy as np\n",
    "import os\n",
    "from tqdm import tqdm  # Import tqdm for progress tracking\n",
    "from numba import njit, prange\n",
    "from scipy.spatial.distance import cdist\n",
    "# numpy.set_printoptions(threshold=sys.maxsize)"
   ]
  },
  {
   "cell_type": "code",
   "execution_count": 2,
   "id": "a6ba1952-5542-447e-97a2-d07e5db19699",
   "metadata": {},
   "outputs": [],
   "source": [
    "worm = 'sub-20190928-03' # Neel\n",
    "# worm = 'sub-20190928-11' # Maren\n",
    "# worm = 'sub-20190929-06' # Nalini\n",
    "# worm = 'sub-20191030-07' # Ryan\n",
    "\n",
    "with open(f\"/scratch/mie8014/BAN/computer_vision/BrainAlignNet/EY/fold1_lrlarge_2/registered_outputs_{worm}.pkl\", 'rb') as f:\n",
    "    warped_data = pickle.load(f)\n",
    "\n",
    "mappings = list(warped_data.keys())\n",
    "\n",
    "# with open('/scratch/nar8991/computer_vision/BrainAlignNet/demo_notebook/registered_outputs.pkl', 'rb') as f:\n",
    "#     warped_data = pickle.load(f)\n",
    "\n",
    "filepath = '/scratch/mie8014/BAN/computer_vision/data/EY/fold1/test/'\n",
    "\n",
    "fixed_images = h5py.File(f\"{filepath}/{worm}/fixed_images.h5\",'r')\n",
    "fixed_labels = h5py.File(f\"{filepath}/{worm}/fixed_labels.h5\",'r')\n",
    "fixed_rois = h5py.File(f\"{filepath}/{worm}/fixed_rois.h5\",'r')"
   ]
  },
  {
   "cell_type": "markdown",
   "id": "267ec6dd-64a3-468b-9b35-e5f5c3e9ea76",
   "metadata": {},
   "source": [
    "# Structure of Warpped data\n",
    "Worm:\n",
    "\n",
    "    TimeStampMapping:\n",
    "    \n",
    "        warped_moving_image:\n",
    "        \n",
    "        warped_moving_roi:\n",
    "\n",
    "        warped_moving_centroids:"
   ]
  },
  {
   "cell_type": "code",
   "execution_count": 44,
   "id": "267a6287-825f-4663-b980-826483061cb9",
   "metadata": {},
   "outputs": [
    {
     "name": "stdout",
     "output_type": "stream",
     "text": [
      "[1.0, 425.0, 229.0, 152.0, 128.0, 267.0, 274.0, 237.0, 204.0, 8.0, 223.0, 212.0, 9.0, 233.0, 320.0, 163.0, 392.0, 155.0, 323.0, 293.0, 173.0, 104.0, 55.0, 244.0, 278.0, 321.0, 235.0, 306.0, 57.0, 105.0, 143.0, 232.0, 80.0, 386.0, 181.0, 464.0, 451.0, 178.0, 31.0, 92.0, 336.0, 192.0, 46.0, 58.0, 257.0, 364.0, 70.0, 449.0, 44.0, 361.0, 123.0, 411.0, 261.0, 50.0, 140.0, 456.0, 344.0, 81.0, 156.0, 45.0, 333.0, 60.0, 310.0, 291.0, 401.0, 389.0, 30.0, 134.0, 300.0, 414.0, 226.0, 23.0, 262.0, 355.0, 2.0, 82.0, 35.0, 390.0, 356.0, 249.0, 391.0, 138.0, 431.0, 216.0, 365.0, 277.0, 243.0, 6.0, 314.0, 33.0, 19.0, 221.0, 14.0, 26.0, 450.0, 21.0, 17.0, 239.0, 110.0, 430.0, 346.0, 359.0, 322.0, 266.0, 338.0, 53.0, 423.0, 253.0, 256.0, 442.0, 175.0, 295.0, 131.0, 318.0, 189.0, 119.0, 78.0, 458.0, 302.0, 360.0, 461.0, 332.0, 254.0, 394.0, 460.0, 247.0, 12.0, 290.0, 316.0, 385.0, 211.0, 376.0, 63.0, 207.0, 146.0, 428.0, 331.0, 61.0, 198.0, 366.0, 47.0, 203.0, 193.0, 387.0, 74.0, 172.0, 200.0, 416.0, 440.0, 222.0, 405.0, 43.0, 183.0, 448.0, 114.0, 313.0, 125.0, 34.0, 457.0, 299.0, 29.0, 87.0, 409.0, 259.0, 94.0, 251.0, 13.0, 246.0, 328.0, 49.0, 326.0, 436.0, 311.0, 345.0, 149.0, 367.0, 28.0, 124.0, 418.0, 234.0, 400.0, 350.0, 168.0, 36.0, 371.0, 255.0, 194.0, 88.0, 443.0, 218.0, 56.0, 375.0, 20.0, 27.0, 162.0, 307.0, 186.0, 164.0, 402.0, 213.0]\n"
     ]
    }
   ],
   "source": [
    "# Heuristic to get the largest ROIs\n",
    "def get_largest_200(array3d_ROIs):\n",
    "    unique_ROIs = np.unique(array3d_ROIs)\n",
    "    ROI_sizes = {}\n",
    "    for label in unique_ROIs:\n",
    "        ROI_sizes[label] = len(np.where(array3d_ROIs == label)[0])\n",
    "\n",
    "    largest_ROIs = dict(sorted(ROI_sizes.items(), key = lambda x: x[1])).keys()\n",
    "    return list(largest_ROIs)[:200]\n",
    "\n",
    "# Heuristic to get the most distributed ROIs\n",
    "def get_widely_distributed_rois(array3d_ROIs, num_rois=200):\n",
    "    # Get unique ROI labels (excluding background, assuming 0 is background)\n",
    "    unique_ROIs = np.unique(array3d_ROIs)\n",
    "    unique_ROIs = unique_ROIs[unique_ROIs != 0]  # Exclude background if needed\n",
    "\n",
    "    # Compute centroids for each ROI\n",
    "    centroids = []\n",
    "    for roi in unique_ROIs:\n",
    "        indices = np.argwhere(array3d_ROIs == roi)\n",
    "        centroid = np.mean(indices, axis=0)\n",
    "        centroids.append(centroid)\n",
    "    centroids = np.array(centroids)\n",
    "\n",
    "    # Compute pairwise distances between centroids\n",
    "    distances = cdist(centroids, centroids)\n",
    "\n",
    "    # Select ROIs with the greatest distances\n",
    "    selected_rois = []\n",
    "    remaining_indices = list(range(len(unique_ROIs)))\n",
    "\n",
    "    # Start with the first ROI (arbitrary choice)\n",
    "    selected_indices = [remaining_indices.pop(0)]\n",
    "    selected_rois.append(unique_ROIs[selected_indices[-1]])\n",
    "\n",
    "    while len(selected_rois) < num_rois and remaining_indices:\n",
    "        # Calculate the minimum distance from remaining to selected ROIs\n",
    "        min_distances = np.min(distances[remaining_indices][:, selected_indices], axis=1)\n",
    "        \n",
    "        # Find the ROI with the maximum of these minimum distances\n",
    "        farthest_index = remaining_indices[np.argmax(min_distances)]\n",
    "        \n",
    "        # Add to the selected list\n",
    "        selected_indices.append(farthest_index)\n",
    "        selected_rois.append(unique_ROIs[farthest_index])\n",
    "        \n",
    "        # Remove from remaining\n",
    "        remaining_indices.remove(farthest_index)\n",
    "\n",
    "    return selected_rois\n",
    "\n",
    "array1_3d = warped_data[mappings[2]]['warped_moving_roi']\n",
    "array1_3d = array1_3d[array1_3d>0]\n",
    "# slow_largest = get_largest_200(array1_3d)\n",
    "distributed_rois = get_widely_distributed_rois(array1_3d)\n",
    "\n",
    "print(distributed_rois)"
   ]
  },
  {
   "cell_type": "code",
   "execution_count": 32,
   "id": "0f042bfe-d1fa-40b9-8486-c7b56795c0e0",
   "metadata": {},
   "outputs": [],
   "source": [
    "def get_largest_200(array3d_ROIs):\n",
    "    unique_ROIs = np.unique(array3d_ROIs)\n",
    "    ROI_sizes = {}\n",
    "    for label in unique_ROIs:\n",
    "        ROI_sizes[label] = len(np.where(array3d_ROIs == label)[0])\n",
    "\n",
    "    largest_ROIs = dict(sorted(ROI_sizes.items(), key = lambda x: x[1])).keys()\n",
    "    return list(largest_ROIs)[:200]\n",
    "\n",
    "@njit(parallel=True)\n",
    "def IoU_3D(seg1, seg2):\n",
    "    ROIs1=np.unique(seg1)\n",
    "    ROIs2=np.unique(seg2)\n",
    "\n",
    "    # assert(len(ROIs1)==len(ROIs2))\n",
    "\n",
    "    submatrix = np.zeros((400,400))\n",
    "\n",
    "    for i, label1 in enumerate(ROIs1):\n",
    "        if label1>0 and i < 400:\n",
    "            for j,label2 in enumerate(ROIs2):\n",
    "                if label2 > 0 and j < 400:\n",
    "                    intersection = np.where(seg1==label1, np.where(seg2==label2,1,0),0)\n",
    "                    union=np.where((seg1==label1) | (seg2==label2),1,0)#np.where(seg1==label1, np.where(seg2==label2,1,0),0)\n",
    "                    submatrix[i,j]=np.sum(intersection)/np.sum(union)\n",
    "\n",
    "    return submatrix[1:,1:] #exclude background\n",
    "\n",
    "@njit(parallel=True)\n",
    "def IoU_3D_numba(seg1, seg2):\n",
    "    ROIs1 = np.unique(seg1)\n",
    "    ROIs2 = np.unique(seg2)\n",
    "\n",
    "    # Filter only positive ROI labels\n",
    "    ROIs1 = ROIs1[ROIs1 > 0]\n",
    "    ROIs2 = ROIs2[ROIs2 > 0]\n",
    "\n",
    "    # Limit to 200 largest ROIs\n",
    "    ROIs1 = get_largest_200(ROIs1)\n",
    "    ROIs2 = get_largest_200(ROIs2)\n",
    "\n",
    "    # Preallocate matrix\n",
    "    submatrix = np.zeros((len(ROIs1), len(ROIs2)))\n",
    "\n",
    "    for i in prange(len(ROIs1)):  # Use prange for parallel loops\n",
    "        label1 = ROIs1[i]\n",
    "        mask1 = seg1 == label1  # Boolean mask for label1\n",
    "        for j in range(len(ROIs2)):\n",
    "            label2 = ROIs2[j]\n",
    "            mask2 = seg2 == label2  # Boolean mask for label2\n",
    "            intersection = np.sum(mask1 & mask2)\n",
    "            union = np.sum(mask1 | mask2)\n",
    "            if union > 0:\n",
    "                submatrix[i, j] = intersection / union\n",
    "\n",
    "    return submatrix"
   ]
  },
  {
   "cell_type": "code",
   "execution_count": 22,
   "id": "e4671cc2-eda8-4717-b23e-61f542f08469",
   "metadata": {},
   "outputs": [
    {
     "name": "stdout",
     "output_type": "stream",
     "text": [
      "sub-20190928-03_fast_similarity_matrix.h5\n",
      "Total mappings to find matrices for:  962\n"
     ]
    }
   ],
   "source": [
    "# Define the file path to save the matrix_data in HDF5 format\n",
    "matrix_data_file = f'{worm}_fast_similarity_matrix.h5'\n",
    "print(matrix_data_file)\n",
    "# Check if the file already exists\n",
    "if os.path.exists(matrix_data_file):\n",
    "    with h5py.File(matrix_data_file, 'r') as f:\n",
    "        # Load existing matrix_data from the HDF5 file\n",
    "        matrix_data = {key: f[key][...] for key in f.keys()}\n",
    "else:\n",
    "    matrix_data = {}\n",
    "\n",
    "print(\"Total mappings to find matrices for: \", len(mappings))"
   ]
  },
  {
   "cell_type": "code",
   "execution_count": 6,
   "id": "05b5aa01-9da9-4f9e-878d-2524eaa702eb",
   "metadata": {},
   "outputs": [
    {
     "name": "stderr",
     "output_type": "stream",
     "text": [
      "Processing Mappings:   0%|          | 0/962 [00:00<?, ?mapping/s]"
     ]
    },
    {
     "name": "stdout",
     "output_type": "stream",
     "text": [
      "Skipping 0to151, already computed.\n",
      "Skipping 100to454, already computed.\n",
      "Skipping 101to773, already computed.\n",
      "Skipping 102to833, already computed.\n",
      "Skipping 103to171, already computed.\n",
      "Skipping 104to671, already computed.\n",
      "Skipping 105to136, already computed.\n",
      "Skipping 106to850, already computed.\n",
      "Skipping 107to602, already computed.\n",
      "Skipping 108to794, already computed.\n",
      "Skipping 109to179, already computed.\n",
      "Skipping 10to586, already computed.\n",
      "Skipping 110to716, already computed.\n",
      "Skipping 111to766, already computed.\n",
      "Skipping 112to495, already computed.\n",
      "Skipping 113to891, already computed.\n",
      "Skipping 114to680, already computed.\n",
      "Skipping 115to560, already computed.\n",
      "Skipping 116to72, already computed.\n",
      "Skipping 117to795, already computed.\n",
      "Skipping 118to43, already computed.\n",
      "Skipping 119to692, already computed.\n",
      "Skipping 11to707, already computed.\n",
      "Skipping 120to46, already computed.\n",
      "Skipping 121to498, already computed.\n",
      "Skipping 122to550, already computed.\n",
      "Skipping 123to835, already computed.\n",
      "Skipping 124to35, already computed.\n",
      "Skipping 125to858, already computed.\n",
      "Skipping 126to380, already computed.\n",
      "Skipping 127to511, already computed.\n",
      "Skipping 128to799, already computed.\n",
      "Skipping 129to153, already computed.\n",
      "Skipping 12to195, already computed.\n",
      "Skipping 130to888, already computed.\n",
      "Skipping 131to844, already computed.\n",
      "Skipping 132to85, already computed.\n",
      "Skipping 133to539, already computed.\n",
      "Skipping 134to58, already computed.\n",
      "Skipping 135to500, already computed.\n",
      "Skipping 136to392, already computed.\n",
      "Skipping 137to655, already computed.\n",
      "Skipping 138to310, already computed.\n",
      "Skipping 139to796, already computed.\n",
      "Skipping 13to196, already computed.\n",
      "Skipping 140to473, already computed.\n",
      "Skipping 141to425, already computed.\n",
      "Skipping 142to629, already computed.\n",
      "Skipping 143to77, already computed.\n",
      "Skipping 144to829, already computed.\n",
      "Skipping 145to410, already computed.\n",
      "Skipping 146to201, already computed.\n",
      "Skipping 147to131, already computed.\n",
      "Skipping 148to191, already computed.\n",
      "Skipping 149to300, already computed.\n",
      "Skipping 14to243, already computed.\n",
      "Skipping 150to169, already computed.\n",
      "Skipping 151to64, already computed.\n",
      "Skipping 152to758, already computed.\n",
      "Skipping 153to51, already computed.\n",
      "Skipping 154to505, already computed.\n",
      "Skipping 155to185, already computed.\n",
      "Skipping 156to882, already computed.\n",
      "Skipping 157to32, already computed.\n",
      "Skipping 158to237, already computed.\n",
      "Skipping 159to47, already computed.\n",
      "Skipping 15to945, already computed.\n",
      "Skipping 160to123, already computed.\n",
      "Skipping 161to949, already computed.\n",
      "Skipping 162to37, already computed.\n",
      "Skipping 163to522, already computed.\n",
      "Skipping 164to703, already computed.\n",
      "Skipping 165to34, already computed.\n",
      "Skipping 166to67, already computed.\n",
      "Skipping 167to708, already computed.\n",
      "Skipping 168to800, already computed.\n",
      "Skipping 169to176, already computed.\n",
      "Skipping 16to367, already computed.\n",
      "Skipping 170to73, already computed.\n",
      "Skipping 171to224, already computed.\n",
      "Skipping 172to354, already computed.\n",
      "Skipping 173to944, already computed.\n",
      "Skipping 174to216, already computed.\n",
      "Skipping 175to608, already computed.\n",
      "Skipping 176to679, already computed.\n",
      "Skipping 177to600, already computed.\n",
      "Skipping 178to132, already computed.\n",
      "Skipping 179to311, already computed.\n",
      "Skipping 17to80, already computed.\n",
      "Skipping 180to29, already computed.\n",
      "Skipping 181to953, already computed.\n",
      "Skipping 182to635, already computed.\n",
      "Skipping 183to111, already computed.\n",
      "Skipping 184to928, already computed.\n",
      "Skipping 185to234, already computed.\n",
      "Skipping 186to299, already computed.\n",
      "Skipping 187to345, already computed.\n",
      "Skipping 188to786, already computed.\n",
      "Skipping 189to377, already computed.\n",
      "Skipping 18to666, already computed.\n",
      "Skipping 190to307, already computed.\n",
      "Skipping 191to737, already computed.\n",
      "Skipping 192to94, already computed.\n",
      "Skipping 193to639, already computed.\n",
      "Skipping 194to344, already computed.\n",
      "Skipping 195to324, already computed.\n",
      "Skipping 196to564, already computed.\n",
      "Skipping 197to103, already computed.\n",
      "Skipping 198to229, already computed.\n",
      "Skipping 199to99, already computed.\n",
      "Skipping 19to694, already computed.\n",
      "Skipping 1to260, already computed.\n",
      "Skipping 200to783, already computed.\n",
      "Skipping 201to513, already computed.\n",
      "Skipping 202to143, already computed.\n",
      "Skipping 203to426, already computed.\n",
      "Skipping 204to924, already computed.\n",
      "Skipping 205to938, already computed.\n",
      "Skipping 206to327, already computed.\n",
      "Skipping 207to739, already computed.\n",
      "Skipping 208to119, already computed.\n",
      "Skipping 209to952, already computed.\n",
      "Skipping 20to383, already computed.\n",
      "Skipping 210to496, already computed.\n",
      "Skipping 211to902, already computed.\n",
      "Skipping 212to488, already computed.\n",
      "Skipping 213to625, already computed.\n",
      "Skipping 214to90, already computed.\n",
      "Skipping 215to466, already computed.\n",
      "Skipping 216to41, already computed.\n",
      "Skipping 217to486, already computed.\n",
      "Skipping 218to670, already computed.\n",
      "Skipping 219to30, already computed.\n",
      "Skipping 21to228, already computed.\n",
      "Skipping 220to722, already computed.\n",
      "Skipping 221to633, already computed.\n",
      "Skipping 222to276, already computed.\n",
      "Skipping 223to106, already computed.\n",
      "Skipping 224to897, already computed.\n",
      "Skipping 225to527, already computed.\n",
      "Skipping 226to244, already computed.\n",
      "Skipping 227to135, already computed.\n",
      "Skipping 228to468, already computed.\n",
      "Skipping 229to956, already computed.\n",
      "Skipping 22to698, already computed.\n",
      "Skipping 230to489, already computed.\n",
      "Skipping 231to864, already computed.\n",
      "Skipping 232to105, already computed.\n",
      "Skipping 233to203, already computed.\n",
      "Skipping 234to54, already computed.\n",
      "Skipping 235to801, already computed.\n",
      "Skipping 236to612, already computed.\n",
      "Skipping 237to303, already computed.\n",
      "Skipping 238to775, already computed.\n",
      "Skipping 239to717, already computed.\n",
      "Skipping 23to363, already computed.\n",
      "Skipping 240to321, already computed.\n",
      "Skipping 241to289, already computed.\n",
      "Skipping 242to719, already computed.\n",
      "Skipping 243to607, already computed.\n",
      "Skipping 244to857, already computed.\n",
      "Skipping 245to395, already computed.\n",
      "Skipping 246to418, already computed.\n",
      "Skipping 247to736, already computed.\n",
      "Skipping 248to450, already computed.\n",
      "Skipping 249to84, already computed.\n",
      "Skipping 24to301, already computed.\n",
      "Skipping 250to606, already computed.\n",
      "Skipping 251to934, already computed.\n",
      "Skipping 252to651, already computed.\n",
      "Skipping 253to182, already computed.\n",
      "Skipping 254to961, already computed.\n",
      "Skipping 255to753, already computed.\n",
      "Skipping 256to79, already computed.\n",
      "Skipping 257to271, already computed.\n",
      "Skipping 258to249, already computed.\n",
      "Skipping 259to592, already computed.\n",
      "Skipping 25to588, already computed.\n",
      "Skipping 260to859, already computed.\n",
      "Skipping 261to433, already computed.\n",
      "Skipping 262to117, already computed.\n",
      "Skipping 263to508, already computed.\n",
      "Skipping 264to438, already computed.\n",
      "Skipping 265to337, already computed.\n",
      "Skipping 266to955, already computed.\n",
      "Skipping 267to222, already computed.\n",
      "Skipping 268to940, already computed.\n",
      "Skipping 269to760, already computed.\n",
      "Skipping 26to836, already computed.\n",
      "Skipping 270to682, already computed.\n",
      "Skipping 271to893, already computed.\n",
      "Skipping 272to715, already computed.\n",
      "Skipping 273to298, already computed.\n",
      "Skipping 274to942, already computed.\n",
      "Skipping 275to640, already computed.\n",
      "Skipping 276to886, already computed.\n",
      "Skipping 277to449, already computed.\n",
      "Skipping 278to160, already computed.\n",
      "Skipping 279to6, already computed.\n",
      "Skipping 27to391, already computed.\n",
      "Skipping 280to840, already computed.\n",
      "Skipping 281to376, already computed.\n",
      "Skipping 282to887, already computed.\n",
      "Skipping 283to528, already computed.\n",
      "Skipping 284to69, already computed.\n",
      "Started 285to691\n"
     ]
    },
    {
     "name": "stderr",
     "output_type": "stream",
     "text": [
      "Processing Mappings:  21%|██▏       | 206/962 [00:17<01:03, 11.82mapping/s]"
     ]
    },
    {
     "name": "stdout",
     "output_type": "stream",
     "text": [
      "Completed 285to691\n",
      "\n",
      "\n",
      "\n",
      "Started 286to556\n",
      "Completed 286to556\n",
      "\n",
      "\n",
      "\n",
      "Started 287to82\n"
     ]
    },
    {
     "name": "stderr",
     "output_type": "stream",
     "text": [
      "Processing Mappings:  22%|██▏       | 208/962 [00:35<02:35,  4.85mapping/s]"
     ]
    },
    {
     "name": "stdout",
     "output_type": "stream",
     "text": [
      "Completed 287to82\n",
      "\n",
      "\n",
      "\n",
      "Started 288to830\n"
     ]
    },
    {
     "name": "stderr",
     "output_type": "stream",
     "text": [
      "Processing Mappings:  22%|██▏       | 209/962 [00:44<03:39,  3.43mapping/s]"
     ]
    },
    {
     "name": "stdout",
     "output_type": "stream",
     "text": [
      "Completed 288to830\n",
      "\n",
      "\n",
      "\n",
      "Started 289to305\n"
     ]
    },
    {
     "name": "stderr",
     "output_type": "stream",
     "text": [
      "Processing Mappings:  22%|██▏       | 210/962 [00:53<05:08,  2.44mapping/s]"
     ]
    },
    {
     "name": "stdout",
     "output_type": "stream",
     "text": [
      "Completed 289to305\n",
      "\n",
      "\n",
      "\n",
      "Started 28to381\n"
     ]
    },
    {
     "name": "stderr",
     "output_type": "stream",
     "text": [
      "Processing Mappings:  22%|██▏       | 211/962 [01:02<07:11,  1.74mapping/s]"
     ]
    },
    {
     "name": "stdout",
     "output_type": "stream",
     "text": [
      "Completed 28to381\n",
      "\n",
      "\n",
      "\n",
      "Started 290to542\n"
     ]
    },
    {
     "name": "stderr",
     "output_type": "stream",
     "text": [
      "Processing Mappings:  22%|██▏       | 212/962 [01:11<09:58,  1.25mapping/s]"
     ]
    },
    {
     "name": "stdout",
     "output_type": "stream",
     "text": [
      "Completed 290to542\n",
      "\n",
      "\n",
      "\n",
      "Started 291to369\n"
     ]
    },
    {
     "name": "stderr",
     "output_type": "stream",
     "text": [
      "Processing Mappings:  22%|██▏       | 213/962 [01:20<13:40,  1.10s/mapping]"
     ]
    },
    {
     "name": "stdout",
     "output_type": "stream",
     "text": [
      "Completed 291to369\n",
      "\n",
      "\n",
      "\n",
      "Started 292to280\n"
     ]
    },
    {
     "name": "stderr",
     "output_type": "stream",
     "text": [
      "Processing Mappings:  22%|██▏       | 214/962 [01:29<18:36,  1.49s/mapping]"
     ]
    },
    {
     "name": "stdout",
     "output_type": "stream",
     "text": [
      "Completed 292to280\n",
      "\n",
      "\n",
      "\n",
      "Started 293to253\n"
     ]
    },
    {
     "name": "stderr",
     "output_type": "stream",
     "text": [
      "Processing Mappings:  22%|██▏       | 215/962 [01:38<24:44,  1.99s/mapping]"
     ]
    },
    {
     "name": "stdout",
     "output_type": "stream",
     "text": [
      "Completed 293to253\n",
      "\n",
      "\n",
      "\n",
      "Started 294to314\n"
     ]
    },
    {
     "name": "stderr",
     "output_type": "stream",
     "text": [
      "Processing Mappings:  22%|██▏       | 216/962 [01:47<32:13,  2.59s/mapping]"
     ]
    },
    {
     "name": "stdout",
     "output_type": "stream",
     "text": [
      "Completed 294to314\n",
      "\n",
      "\n",
      "\n",
      "Started 295to665\n"
     ]
    },
    {
     "name": "stderr",
     "output_type": "stream",
     "text": [
      "Processing Mappings:  23%|██▎       | 217/962 [01:56<40:52,  3.29s/mapping]"
     ]
    },
    {
     "name": "stdout",
     "output_type": "stream",
     "text": [
      "Completed 295to665\n",
      "\n",
      "\n",
      "\n",
      "Started 296to922\n"
     ]
    },
    {
     "name": "stderr",
     "output_type": "stream",
     "text": [
      "Processing Mappings:  23%|██▎       | 218/962 [02:04<49:47,  4.02s/mapping]"
     ]
    },
    {
     "name": "stdout",
     "output_type": "stream",
     "text": [
      "Completed 296to922\n",
      "\n",
      "\n",
      "\n",
      "Started 297to436\n"
     ]
    },
    {
     "name": "stderr",
     "output_type": "stream",
     "text": [
      "Processing Mappings:  23%|██▎       | 219/962 [02:13<59:39,  4.82s/mapping]"
     ]
    },
    {
     "name": "stdout",
     "output_type": "stream",
     "text": [
      "Completed 297to436\n",
      "\n",
      "\n",
      "\n",
      "Started 298to790\n"
     ]
    },
    {
     "name": "stderr",
     "output_type": "stream",
     "text": [
      "Processing Mappings:  23%|██▎       | 220/962 [02:22<1:08:53,  5.57s/mapping]"
     ]
    },
    {
     "name": "stdout",
     "output_type": "stream",
     "text": [
      "Completed 298to790\n",
      "\n",
      "\n",
      "\n",
      "Started 299to211\n"
     ]
    },
    {
     "name": "stderr",
     "output_type": "stream",
     "text": [
      "Processing Mappings:  23%|██▎       | 221/962 [02:31<1:17:30,  6.28s/mapping]"
     ]
    },
    {
     "name": "stdout",
     "output_type": "stream",
     "text": [
      "Completed 299to211\n",
      "\n",
      "\n",
      "\n",
      "Started 29to470\n"
     ]
    },
    {
     "name": "stderr",
     "output_type": "stream",
     "text": [
      "Processing Mappings:  23%|██▎       | 222/962 [02:40<1:25:01,  6.89s/mapping]"
     ]
    },
    {
     "name": "stdout",
     "output_type": "stream",
     "text": [
      "Completed 29to470\n",
      "\n",
      "\n",
      "\n",
      "Started 2to951\n"
     ]
    },
    {
     "name": "stderr",
     "output_type": "stream",
     "text": [
      "Processing Mappings:  23%|██▎       | 223/962 [02:49<1:30:49,  7.37s/mapping]"
     ]
    },
    {
     "name": "stdout",
     "output_type": "stream",
     "text": [
      "Completed 2to951\n",
      "\n",
      "\n",
      "\n",
      "Started 300to576\n"
     ]
    },
    {
     "name": "stderr",
     "output_type": "stream",
     "text": [
      "Processing Mappings:  23%|██▎       | 224/962 [02:58<1:35:52,  7.79s/mapping]"
     ]
    },
    {
     "name": "stdout",
     "output_type": "stream",
     "text": [
      "Completed 300to576\n",
      "\n",
      "\n",
      "\n",
      "Started 301to26\n"
     ]
    },
    {
     "name": "stderr",
     "output_type": "stream",
     "text": [
      "Processing Mappings:  23%|██▎       | 225/962 [03:07<1:39:24,  8.09s/mapping]"
     ]
    },
    {
     "name": "stdout",
     "output_type": "stream",
     "text": [
      "Completed 301to26\n",
      "\n",
      "\n",
      "\n",
      "Started 302to566\n"
     ]
    },
    {
     "name": "stderr",
     "output_type": "stream",
     "text": [
      "Processing Mappings:  23%|██▎       | 226/962 [03:16<1:42:03,  8.32s/mapping]"
     ]
    },
    {
     "name": "stdout",
     "output_type": "stream",
     "text": [
      "Completed 302to566\n",
      "\n",
      "\n",
      "\n",
      "Started 303to250\n"
     ]
    },
    {
     "name": "stderr",
     "output_type": "stream",
     "text": [
      "Processing Mappings:  24%|██▎       | 227/962 [03:25<1:44:09,  8.50s/mapping]"
     ]
    },
    {
     "name": "stdout",
     "output_type": "stream",
     "text": [
      "Completed 303to250\n",
      "\n",
      "\n",
      "\n",
      "Started 304to530\n"
     ]
    },
    {
     "name": "stderr",
     "output_type": "stream",
     "text": [
      "Processing Mappings:  24%|██▎       | 228/962 [03:34<1:45:31,  8.63s/mapping]"
     ]
    },
    {
     "name": "stdout",
     "output_type": "stream",
     "text": [
      "Completed 304to530\n",
      "\n",
      "\n",
      "\n",
      "Started 305to661\n"
     ]
    },
    {
     "name": "stderr",
     "output_type": "stream",
     "text": [
      "Processing Mappings:  24%|██▍       | 229/962 [03:42<1:46:20,  8.70s/mapping]"
     ]
    },
    {
     "name": "stdout",
     "output_type": "stream",
     "text": [
      "Completed 305to661\n",
      "\n",
      "\n",
      "\n",
      "Started 306to439\n"
     ]
    },
    {
     "name": "stderr",
     "output_type": "stream",
     "text": [
      "Processing Mappings:  24%|██▍       | 230/962 [03:51<1:46:47,  8.75s/mapping]"
     ]
    },
    {
     "name": "stdout",
     "output_type": "stream",
     "text": [
      "Completed 306to439\n",
      "\n",
      "\n",
      "\n",
      "Started 307to729\n"
     ]
    },
    {
     "name": "stderr",
     "output_type": "stream",
     "text": [
      "Processing Mappings:  24%|██▍       | 231/962 [04:00<1:47:13,  8.80s/mapping]"
     ]
    },
    {
     "name": "stdout",
     "output_type": "stream",
     "text": [
      "Completed 307to729\n",
      "\n",
      "\n",
      "\n",
      "Started 308to546\n"
     ]
    },
    {
     "name": "stderr",
     "output_type": "stream",
     "text": [
      "Processing Mappings:  24%|██▍       | 232/962 [04:09<1:47:23,  8.83s/mapping]"
     ]
    },
    {
     "name": "stdout",
     "output_type": "stream",
     "text": [
      "Completed 308to546\n",
      "\n",
      "\n",
      "\n",
      "Started 309to60\n"
     ]
    },
    {
     "name": "stderr",
     "output_type": "stream",
     "text": [
      "Processing Mappings:  24%|██▍       | 233/962 [04:18<1:47:33,  8.85s/mapping]"
     ]
    },
    {
     "name": "stdout",
     "output_type": "stream",
     "text": [
      "Completed 309to60\n",
      "\n",
      "\n",
      "\n",
      "Started 30to723\n"
     ]
    },
    {
     "name": "stderr",
     "output_type": "stream",
     "text": [
      "Processing Mappings:  24%|██▍       | 234/962 [04:27<1:47:31,  8.86s/mapping]"
     ]
    },
    {
     "name": "stdout",
     "output_type": "stream",
     "text": [
      "Completed 30to723\n",
      "\n",
      "\n",
      "\n",
      "Started 310to572\n"
     ]
    },
    {
     "name": "stderr",
     "output_type": "stream",
     "text": [
      "Processing Mappings:  24%|██▍       | 235/962 [04:36<1:47:28,  8.87s/mapping]"
     ]
    },
    {
     "name": "stdout",
     "output_type": "stream",
     "text": [
      "Completed 310to572\n",
      "\n",
      "\n",
      "\n",
      "Started 311to422\n"
     ]
    },
    {
     "name": "stderr",
     "output_type": "stream",
     "text": [
      "Processing Mappings:  25%|██▍       | 236/962 [04:45<1:47:20,  8.87s/mapping]"
     ]
    },
    {
     "name": "stdout",
     "output_type": "stream",
     "text": [
      "Completed 311to422\n",
      "\n",
      "\n",
      "\n",
      "Started 312to512\n"
     ]
    },
    {
     "name": "stderr",
     "output_type": "stream",
     "text": [
      "Processing Mappings:  25%|██▍       | 237/962 [04:54<1:47:36,  8.91s/mapping]"
     ]
    },
    {
     "name": "stdout",
     "output_type": "stream",
     "text": [
      "Completed 312to512\n",
      "\n",
      "\n",
      "\n",
      "Started 313to359\n"
     ]
    },
    {
     "name": "stderr",
     "output_type": "stream",
     "text": [
      "Processing Mappings:  25%|██▍       | 238/962 [05:03<1:47:23,  8.90s/mapping]"
     ]
    },
    {
     "name": "stdout",
     "output_type": "stream",
     "text": [
      "Completed 313to359\n",
      "\n",
      "\n",
      "\n",
      "Started 314to573\n"
     ]
    },
    {
     "name": "stderr",
     "output_type": "stream",
     "text": [
      "Processing Mappings:  25%|██▍       | 239/962 [05:11<1:47:15,  8.90s/mapping]"
     ]
    },
    {
     "name": "stdout",
     "output_type": "stream",
     "text": [
      "Completed 314to573\n",
      "\n",
      "\n",
      "\n",
      "Started 315to9\n"
     ]
    },
    {
     "name": "stderr",
     "output_type": "stream",
     "text": [
      "Processing Mappings:  25%|██▍       | 240/962 [05:20<1:47:03,  8.90s/mapping]"
     ]
    },
    {
     "name": "stdout",
     "output_type": "stream",
     "text": [
      "Completed 315to9\n",
      "\n",
      "\n",
      "\n",
      "Started 316to95\n"
     ]
    },
    {
     "name": "stderr",
     "output_type": "stream",
     "text": [
      "Processing Mappings:  25%|██▌       | 241/962 [05:29<1:47:04,  8.91s/mapping]"
     ]
    },
    {
     "name": "stdout",
     "output_type": "stream",
     "text": [
      "Completed 316to95\n",
      "\n",
      "\n",
      "\n",
      "Started 317to20\n"
     ]
    },
    {
     "name": "stderr",
     "output_type": "stream",
     "text": [
      "Processing Mappings:  25%|██▌       | 242/962 [05:38<1:46:48,  8.90s/mapping]"
     ]
    },
    {
     "name": "stdout",
     "output_type": "stream",
     "text": [
      "Completed 317to20\n",
      "\n",
      "\n",
      "\n",
      "Started 318to742\n"
     ]
    },
    {
     "name": "stderr",
     "output_type": "stream",
     "text": [
      "Processing Mappings:  25%|██▌       | 243/962 [05:47<1:46:35,  8.89s/mapping]"
     ]
    },
    {
     "name": "stdout",
     "output_type": "stream",
     "text": [
      "Completed 318to742\n",
      "\n",
      "\n",
      "\n",
      "Started 319to583\n"
     ]
    },
    {
     "name": "stderr",
     "output_type": "stream",
     "text": [
      "Processing Mappings:  25%|██▌       | 244/962 [05:56<1:46:21,  8.89s/mapping]"
     ]
    },
    {
     "name": "stdout",
     "output_type": "stream",
     "text": [
      "Completed 319to583\n",
      "\n",
      "\n",
      "\n",
      "Started 31to520\n"
     ]
    },
    {
     "name": "stderr",
     "output_type": "stream",
     "text": [
      "Processing Mappings:  25%|██▌       | 245/962 [06:05<1:46:11,  8.89s/mapping]"
     ]
    },
    {
     "name": "stdout",
     "output_type": "stream",
     "text": [
      "Completed 31to520\n",
      "\n",
      "\n",
      "\n",
      "Started 320to278\n"
     ]
    },
    {
     "name": "stderr",
     "output_type": "stream",
     "text": [
      "Processing Mappings:  26%|██▌       | 246/962 [06:14<1:46:01,  8.88s/mapping]"
     ]
    },
    {
     "name": "stdout",
     "output_type": "stream",
     "text": [
      "Completed 320to278\n",
      "\n",
      "\n",
      "\n",
      "Started 321to24\n"
     ]
    },
    {
     "name": "stderr",
     "output_type": "stream",
     "text": [
      "Processing Mappings:  26%|██▌       | 247/962 [06:23<1:45:51,  8.88s/mapping]"
     ]
    },
    {
     "name": "stdout",
     "output_type": "stream",
     "text": [
      "Completed 321to24\n",
      "\n",
      "\n",
      "\n",
      "Started 322to447\n"
     ]
    },
    {
     "name": "stderr",
     "output_type": "stream",
     "text": [
      "Processing Mappings:  26%|██▌       | 248/962 [06:31<1:45:40,  8.88s/mapping]"
     ]
    },
    {
     "name": "stdout",
     "output_type": "stream",
     "text": [
      "Completed 322to447\n",
      "\n",
      "\n",
      "\n",
      "Started 323to622\n"
     ]
    },
    {
     "name": "stderr",
     "output_type": "stream",
     "text": [
      "Processing Mappings:  26%|██▌       | 249/962 [06:40<1:45:32,  8.88s/mapping]"
     ]
    },
    {
     "name": "stdout",
     "output_type": "stream",
     "text": [
      "Completed 323to622\n",
      "\n",
      "\n",
      "\n",
      "Started 324to506\n"
     ]
    },
    {
     "name": "stderr",
     "output_type": "stream",
     "text": [
      "Processing Mappings:  26%|██▌       | 250/962 [06:49<1:45:30,  8.89s/mapping]"
     ]
    },
    {
     "name": "stdout",
     "output_type": "stream",
     "text": [
      "Completed 324to506\n",
      "\n",
      "\n",
      "\n",
      "Started 325to620\n"
     ]
    },
    {
     "name": "stderr",
     "output_type": "stream",
     "text": [
      "Processing Mappings:  26%|██▌       | 251/962 [06:58<1:45:17,  8.89s/mapping]"
     ]
    },
    {
     "name": "stdout",
     "output_type": "stream",
     "text": [
      "Completed 325to620\n",
      "\n",
      "\n",
      "\n",
      "Started 326to315\n"
     ]
    },
    {
     "name": "stderr",
     "output_type": "stream",
     "text": [
      "Processing Mappings:  26%|██▌       | 252/962 [07:07<1:45:10,  8.89s/mapping]"
     ]
    },
    {
     "name": "stdout",
     "output_type": "stream",
     "text": [
      "Completed 326to315\n",
      "\n",
      "\n",
      "\n",
      "Started 327to236\n"
     ]
    },
    {
     "name": "stderr",
     "output_type": "stream",
     "text": [
      "Processing Mappings:  26%|██▋       | 253/962 [07:16<1:44:58,  8.88s/mapping]"
     ]
    },
    {
     "name": "stdout",
     "output_type": "stream",
     "text": [
      "Completed 327to236\n",
      "\n",
      "\n",
      "\n",
      "Started 328to793\n"
     ]
    },
    {
     "name": "stderr",
     "output_type": "stream",
     "text": [
      "Processing Mappings:  26%|██▋       | 254/962 [07:25<1:44:18,  8.84s/mapping]"
     ]
    },
    {
     "name": "stdout",
     "output_type": "stream",
     "text": [
      "Completed 328to793\n",
      "\n",
      "\n",
      "\n",
      "Started 329to288\n"
     ]
    },
    {
     "name": "stderr",
     "output_type": "stream",
     "text": [
      "Processing Mappings:  27%|██▋       | 255/962 [07:33<1:44:24,  8.86s/mapping]"
     ]
    },
    {
     "name": "stdout",
     "output_type": "stream",
     "text": [
      "Completed 329to288\n",
      "\n",
      "\n",
      "\n",
      "Started 32to297\n"
     ]
    },
    {
     "name": "stderr",
     "output_type": "stream",
     "text": [
      "Processing Mappings:  27%|██▋       | 256/962 [07:42<1:44:19,  8.87s/mapping]"
     ]
    },
    {
     "name": "stdout",
     "output_type": "stream",
     "text": [
      "Completed 32to297\n",
      "\n",
      "\n",
      "\n",
      "Started 330to267\n"
     ]
    },
    {
     "name": "stderr",
     "output_type": "stream",
     "text": [
      "Processing Mappings:  27%|██▋       | 257/962 [07:51<1:44:29,  8.89s/mapping]"
     ]
    },
    {
     "name": "stdout",
     "output_type": "stream",
     "text": [
      "Completed 330to267\n",
      "\n",
      "\n",
      "\n",
      "Started 331to266\n"
     ]
    },
    {
     "name": "stderr",
     "output_type": "stream",
     "text": [
      "Processing Mappings:  27%|██▋       | 258/962 [08:00<1:44:15,  8.89s/mapping]"
     ]
    },
    {
     "name": "stdout",
     "output_type": "stream",
     "text": [
      "Completed 331to266\n",
      "\n",
      "\n",
      "\n",
      "Started 332to538\n"
     ]
    },
    {
     "name": "stderr",
     "output_type": "stream",
     "text": [
      "Processing Mappings:  27%|██▋       | 259/962 [08:09<1:44:04,  8.88s/mapping]"
     ]
    },
    {
     "name": "stdout",
     "output_type": "stream",
     "text": [
      "Completed 332to538\n",
      "\n",
      "\n",
      "\n",
      "Started 333to574\n"
     ]
    },
    {
     "name": "stderr",
     "output_type": "stream",
     "text": [
      "Processing Mappings:  27%|██▋       | 260/962 [08:18<1:43:55,  8.88s/mapping]"
     ]
    },
    {
     "name": "stdout",
     "output_type": "stream",
     "text": [
      "Completed 333to574\n",
      "\n",
      "\n",
      "\n",
      "Started 334to411\n"
     ]
    },
    {
     "name": "stderr",
     "output_type": "stream",
     "text": [
      "Processing Mappings:  27%|██▋       | 261/962 [08:27<1:43:45,  8.88s/mapping]"
     ]
    },
    {
     "name": "stdout",
     "output_type": "stream",
     "text": [
      "Completed 334to411\n",
      "\n",
      "\n",
      "\n",
      "Started 335to23\n"
     ]
    },
    {
     "name": "stderr",
     "output_type": "stream",
     "text": [
      "Processing Mappings:  27%|██▋       | 262/962 [08:36<1:43:33,  8.88s/mapping]"
     ]
    },
    {
     "name": "stdout",
     "output_type": "stream",
     "text": [
      "Completed 335to23\n",
      "\n",
      "\n",
      "\n",
      "Started 336to779\n"
     ]
    },
    {
     "name": "stderr",
     "output_type": "stream",
     "text": [
      "Processing Mappings:  27%|██▋       | 263/962 [08:45<1:43:38,  8.90s/mapping]"
     ]
    },
    {
     "name": "stdout",
     "output_type": "stream",
     "text": [
      "Completed 336to779\n",
      "\n",
      "\n",
      "\n",
      "Started 337to626\n"
     ]
    },
    {
     "name": "stderr",
     "output_type": "stream",
     "text": [
      "Processing Mappings:  27%|██▋       | 264/962 [08:54<1:43:29,  8.90s/mapping]"
     ]
    },
    {
     "name": "stdout",
     "output_type": "stream",
     "text": [
      "Completed 337to626\n",
      "\n",
      "\n",
      "\n",
      "Started 338to548\n"
     ]
    },
    {
     "name": "stderr",
     "output_type": "stream",
     "text": [
      "Processing Mappings:  28%|██▊       | 265/962 [09:02<1:43:14,  8.89s/mapping]"
     ]
    },
    {
     "name": "stdout",
     "output_type": "stream",
     "text": [
      "Completed 338to548\n",
      "\n",
      "\n",
      "\n",
      "Started 339to814\n"
     ]
    },
    {
     "name": "stderr",
     "output_type": "stream",
     "text": [
      "Processing Mappings:  28%|██▊       | 266/962 [09:11<1:42:16,  8.82s/mapping]"
     ]
    },
    {
     "name": "stdout",
     "output_type": "stream",
     "text": [
      "Completed 339to814\n",
      "\n",
      "\n",
      "\n",
      "Started 33to209\n"
     ]
    },
    {
     "name": "stderr",
     "output_type": "stream",
     "text": [
      "Processing Mappings:  28%|██▊       | 267/962 [09:20<1:42:20,  8.83s/mapping]"
     ]
    },
    {
     "name": "stdout",
     "output_type": "stream",
     "text": [
      "Completed 33to209\n",
      "\n",
      "\n",
      "\n",
      "Started 340to264\n"
     ]
    },
    {
     "name": "stderr",
     "output_type": "stream",
     "text": [
      "Processing Mappings:  28%|██▊       | 268/962 [09:29<1:42:19,  8.85s/mapping]"
     ]
    },
    {
     "name": "stdout",
     "output_type": "stream",
     "text": [
      "Completed 340to264\n",
      "\n",
      "\n",
      "\n",
      "Started 341to616\n"
     ]
    },
    {
     "name": "stderr",
     "output_type": "stream",
     "text": [
      "Processing Mappings:  28%|██▊       | 269/962 [09:38<1:42:25,  8.87s/mapping]"
     ]
    },
    {
     "name": "stdout",
     "output_type": "stream",
     "text": [
      "Completed 341to616\n",
      "\n",
      "\n",
      "\n",
      "Started 342to686\n"
     ]
    },
    {
     "name": "stderr",
     "output_type": "stream",
     "text": [
      "Processing Mappings:  28%|██▊       | 270/962 [09:47<1:42:17,  8.87s/mapping]"
     ]
    },
    {
     "name": "stdout",
     "output_type": "stream",
     "text": [
      "Completed 342to686\n",
      "\n",
      "\n",
      "\n",
      "Started 343to860\n"
     ]
    },
    {
     "name": "stderr",
     "output_type": "stream",
     "text": [
      "Processing Mappings:  28%|██▊       | 271/962 [09:55<1:41:11,  8.79s/mapping]"
     ]
    },
    {
     "name": "stdout",
     "output_type": "stream",
     "text": [
      "Completed 343to860\n",
      "\n",
      "\n",
      "\n",
      "Started 344to83\n"
     ]
    },
    {
     "name": "stderr",
     "output_type": "stream",
     "text": [
      "Processing Mappings:  28%|██▊       | 272/962 [10:04<1:41:20,  8.81s/mapping]"
     ]
    },
    {
     "name": "stdout",
     "output_type": "stream",
     "text": [
      "Completed 344to83\n",
      "\n",
      "\n",
      "\n",
      "Started 345to806\n"
     ]
    },
    {
     "name": "stderr",
     "output_type": "stream",
     "text": [
      "Processing Mappings:  28%|██▊       | 273/962 [10:13<1:40:34,  8.76s/mapping]"
     ]
    },
    {
     "name": "stdout",
     "output_type": "stream",
     "text": [
      "Completed 345to806\n",
      "\n",
      "\n",
      "\n",
      "Started 346to402\n"
     ]
    },
    {
     "name": "stderr",
     "output_type": "stream",
     "text": [
      "Processing Mappings:  28%|██▊       | 274/962 [10:22<1:40:49,  8.79s/mapping]"
     ]
    },
    {
     "name": "stdout",
     "output_type": "stream",
     "text": [
      "Completed 346to402\n",
      "\n",
      "\n",
      "\n",
      "Started 347to200\n"
     ]
    },
    {
     "name": "stderr",
     "output_type": "stream",
     "text": [
      "Processing Mappings:  29%|██▊       | 275/962 [10:30<1:40:57,  8.82s/mapping]"
     ]
    },
    {
     "name": "stdout",
     "output_type": "stream",
     "text": [
      "Completed 347to200\n",
      "\n",
      "\n",
      "\n",
      "Started 348to870\n"
     ]
    },
    {
     "name": "stderr",
     "output_type": "stream",
     "text": [
      "Processing Mappings:  29%|██▊       | 276/962 [10:39<1:40:07,  8.76s/mapping]"
     ]
    },
    {
     "name": "stdout",
     "output_type": "stream",
     "text": [
      "Completed 348to870\n",
      "\n",
      "\n",
      "\n",
      "Started 349to231\n"
     ]
    },
    {
     "name": "stderr",
     "output_type": "stream",
     "text": [
      "Processing Mappings:  29%|██▉       | 277/962 [10:48<1:40:26,  8.80s/mapping]"
     ]
    },
    {
     "name": "stdout",
     "output_type": "stream",
     "text": [
      "Completed 349to231\n",
      "\n",
      "\n",
      "\n",
      "Started 34to581\n"
     ]
    },
    {
     "name": "stderr",
     "output_type": "stream",
     "text": [
      "Processing Mappings:  29%|██▉       | 278/962 [10:57<1:40:38,  8.83s/mapping]"
     ]
    },
    {
     "name": "stdout",
     "output_type": "stream",
     "text": [
      "Completed 34to581\n",
      "\n",
      "\n",
      "\n",
      "Started 350to265\n"
     ]
    },
    {
     "name": "stderr",
     "output_type": "stream",
     "text": [
      "Processing Mappings:  29%|██▉       | 279/962 [11:06<1:40:47,  8.85s/mapping]"
     ]
    },
    {
     "name": "stdout",
     "output_type": "stream",
     "text": [
      "Completed 350to265\n",
      "\n",
      "\n",
      "\n",
      "Started 351to401\n"
     ]
    },
    {
     "name": "stderr",
     "output_type": "stream",
     "text": [
      "Processing Mappings:  29%|██▉       | 280/962 [11:15<1:40:46,  8.87s/mapping]"
     ]
    },
    {
     "name": "stdout",
     "output_type": "stream",
     "text": [
      "Completed 351to401\n",
      "\n",
      "\n",
      "\n",
      "Started 352to757\n"
     ]
    },
    {
     "name": "stderr",
     "output_type": "stream",
     "text": [
      "Processing Mappings:  29%|██▉       | 281/962 [11:24<1:40:42,  8.87s/mapping]"
     ]
    },
    {
     "name": "stdout",
     "output_type": "stream",
     "text": [
      "Completed 352to757\n",
      "\n",
      "\n",
      "\n",
      "Started 353to294\n"
     ]
    },
    {
     "name": "stderr",
     "output_type": "stream",
     "text": [
      "Processing Mappings:  29%|██▉       | 282/962 [11:32<1:40:52,  8.90s/mapping]"
     ]
    },
    {
     "name": "stdout",
     "output_type": "stream",
     "text": [
      "Completed 353to294\n",
      "\n",
      "\n",
      "\n",
      "Started 354to63\n"
     ]
    },
    {
     "name": "stderr",
     "output_type": "stream",
     "text": [
      "Processing Mappings:  29%|██▉       | 283/962 [11:41<1:40:41,  8.90s/mapping]"
     ]
    },
    {
     "name": "stdout",
     "output_type": "stream",
     "text": [
      "Completed 354to63\n",
      "\n",
      "\n",
      "\n",
      "Started 355to746\n"
     ]
    },
    {
     "name": "stderr",
     "output_type": "stream",
     "text": [
      "Processing Mappings:  30%|██▉       | 284/962 [11:50<1:40:30,  8.90s/mapping]"
     ]
    },
    {
     "name": "stdout",
     "output_type": "stream",
     "text": [
      "Completed 355to746\n",
      "\n",
      "\n",
      "\n",
      "Started 356to172\n"
     ]
    },
    {
     "name": "stderr",
     "output_type": "stream",
     "text": [
      "Processing Mappings:  30%|██▉       | 285/962 [11:59<1:40:21,  8.89s/mapping]"
     ]
    },
    {
     "name": "stdout",
     "output_type": "stream",
     "text": [
      "Completed 356to172\n",
      "\n",
      "\n",
      "\n",
      "Started 357to419\n"
     ]
    },
    {
     "name": "stderr",
     "output_type": "stream",
     "text": [
      "Processing Mappings:  30%|██▉       | 286/962 [12:08<1:40:12,  8.89s/mapping]"
     ]
    },
    {
     "name": "stdout",
     "output_type": "stream",
     "text": [
      "Completed 357to419\n",
      "\n",
      "\n",
      "\n",
      "Started 358to221\n"
     ]
    },
    {
     "name": "stderr",
     "output_type": "stream",
     "text": [
      "Processing Mappings:  30%|██▉       | 287/962 [12:17<1:40:05,  8.90s/mapping]"
     ]
    },
    {
     "name": "stdout",
     "output_type": "stream",
     "text": [
      "Completed 358to221\n",
      "\n",
      "\n",
      "\n",
      "Started 359to584\n"
     ]
    },
    {
     "name": "stderr",
     "output_type": "stream",
     "text": [
      "Processing Mappings:  30%|██▉       | 288/962 [12:26<1:39:53,  8.89s/mapping]"
     ]
    },
    {
     "name": "stdout",
     "output_type": "stream",
     "text": [
      "Completed 359to584\n",
      "\n",
      "\n",
      "\n",
      "Started 35to134\n"
     ]
    },
    {
     "name": "stderr",
     "output_type": "stream",
     "text": [
      "Processing Mappings:  30%|███       | 289/962 [12:35<1:39:41,  8.89s/mapping]"
     ]
    },
    {
     "name": "stdout",
     "output_type": "stream",
     "text": [
      "Completed 35to134\n",
      "\n",
      "\n",
      "\n",
      "Started 360to174\n"
     ]
    },
    {
     "name": "stderr",
     "output_type": "stream",
     "text": [
      "Processing Mappings:  30%|███       | 290/962 [12:44<1:39:46,  8.91s/mapping]"
     ]
    },
    {
     "name": "stdout",
     "output_type": "stream",
     "text": [
      "Completed 360to174\n",
      "\n",
      "\n",
      "\n",
      "Started 361to663\n"
     ]
    },
    {
     "name": "stderr",
     "output_type": "stream",
     "text": [
      "Processing Mappings:  30%|███       | 291/962 [12:53<1:39:38,  8.91s/mapping]"
     ]
    },
    {
     "name": "stdout",
     "output_type": "stream",
     "text": [
      "Completed 361to663\n",
      "\n",
      "\n",
      "\n",
      "Started 362to329\n"
     ]
    },
    {
     "name": "stderr",
     "output_type": "stream",
     "text": [
      "Processing Mappings:  30%|███       | 292/962 [13:02<1:39:31,  8.91s/mapping]"
     ]
    },
    {
     "name": "stdout",
     "output_type": "stream",
     "text": [
      "Completed 362to329\n",
      "\n",
      "\n",
      "\n",
      "Started 363to270\n"
     ]
    },
    {
     "name": "stderr",
     "output_type": "stream",
     "text": [
      "Processing Mappings:  30%|███       | 293/962 [13:10<1:39:16,  8.90s/mapping]"
     ]
    },
    {
     "name": "stdout",
     "output_type": "stream",
     "text": [
      "Completed 363to270\n",
      "\n",
      "\n",
      "\n",
      "Started 364to189\n"
     ]
    },
    {
     "name": "stderr",
     "output_type": "stream",
     "text": [
      "Processing Mappings:  31%|███       | 294/962 [13:19<1:39:02,  8.90s/mapping]"
     ]
    },
    {
     "name": "stdout",
     "output_type": "stream",
     "text": [
      "Completed 364to189\n",
      "\n",
      "\n",
      "\n",
      "Started 365to86\n"
     ]
    },
    {
     "name": "stderr",
     "output_type": "stream",
     "text": [
      "Processing Mappings:  31%|███       | 295/962 [13:28<1:38:52,  8.89s/mapping]"
     ]
    },
    {
     "name": "stdout",
     "output_type": "stream",
     "text": [
      "Completed 365to86\n",
      "\n",
      "\n",
      "\n",
      "Started 366to871\n"
     ]
    },
    {
     "name": "stderr",
     "output_type": "stream",
     "text": [
      "Processing Mappings:  31%|███       | 296/962 [13:37<1:38:16,  8.85s/mapping]"
     ]
    },
    {
     "name": "stdout",
     "output_type": "stream",
     "text": [
      "Completed 366to871\n",
      "\n",
      "\n",
      "\n",
      "Started 367to340\n"
     ]
    },
    {
     "name": "stderr",
     "output_type": "stream",
     "text": [
      "Processing Mappings:  31%|███       | 297/962 [13:46<1:38:13,  8.86s/mapping]"
     ]
    },
    {
     "name": "stdout",
     "output_type": "stream",
     "text": [
      "Completed 367to340\n",
      "\n",
      "\n",
      "\n",
      "Started 368to227\n"
     ]
    },
    {
     "name": "stderr",
     "output_type": "stream",
     "text": [
      "Processing Mappings:  31%|███       | 298/962 [13:55<1:38:11,  8.87s/mapping]"
     ]
    },
    {
     "name": "stdout",
     "output_type": "stream",
     "text": [
      "Completed 368to227\n",
      "\n",
      "\n",
      "\n",
      "Started 369to913\n"
     ]
    },
    {
     "name": "stderr",
     "output_type": "stream",
     "text": [
      "Processing Mappings:  31%|███       | 299/962 [14:03<1:37:39,  8.84s/mapping]"
     ]
    },
    {
     "name": "stdout",
     "output_type": "stream",
     "text": [
      "Completed 369to913\n",
      "\n",
      "\n",
      "\n",
      "Started 36to851\n"
     ]
    },
    {
     "name": "stderr",
     "output_type": "stream",
     "text": [
      "Processing Mappings:  31%|███       | 300/962 [14:12<1:36:47,  8.77s/mapping]"
     ]
    },
    {
     "name": "stdout",
     "output_type": "stream",
     "text": [
      "Completed 36to851\n",
      "\n",
      "\n",
      "\n",
      "Started 370to101\n"
     ]
    },
    {
     "name": "stderr",
     "output_type": "stream",
     "text": [
      "Processing Mappings:  31%|███▏      | 301/962 [14:21<1:37:01,  8.81s/mapping]"
     ]
    },
    {
     "name": "stdout",
     "output_type": "stream",
     "text": [
      "Completed 370to101\n",
      "\n",
      "\n",
      "\n",
      "Started 371to563\n"
     ]
    },
    {
     "name": "stderr",
     "output_type": "stream",
     "text": [
      "Processing Mappings:  31%|███▏      | 302/962 [14:30<1:37:08,  8.83s/mapping]"
     ]
    },
    {
     "name": "stdout",
     "output_type": "stream",
     "text": [
      "Completed 371to563\n",
      "\n",
      "\n",
      "\n",
      "Started 372to279\n"
     ]
    },
    {
     "name": "stderr",
     "output_type": "stream",
     "text": [
      "Processing Mappings:  31%|███▏      | 303/962 [14:39<1:37:28,  8.87s/mapping]"
     ]
    },
    {
     "name": "stdout",
     "output_type": "stream",
     "text": [
      "Completed 372to279\n",
      "\n",
      "\n",
      "\n",
      "Started 373to807\n"
     ]
    },
    {
     "name": "stderr",
     "output_type": "stream",
     "text": [
      "Processing Mappings:  32%|███▏      | 304/962 [14:47<1:36:35,  8.81s/mapping]"
     ]
    },
    {
     "name": "stdout",
     "output_type": "stream",
     "text": [
      "Completed 373to807\n",
      "\n",
      "\n",
      "\n",
      "Started 374to925\n"
     ]
    },
    {
     "name": "stderr",
     "output_type": "stream",
     "text": [
      "Processing Mappings:  32%|███▏      | 305/962 [14:56<1:35:23,  8.71s/mapping]"
     ]
    },
    {
     "name": "stdout",
     "output_type": "stream",
     "text": [
      "Completed 374to925\n",
      "\n",
      "\n",
      "\n",
      "Started 375to615\n"
     ]
    },
    {
     "name": "stderr",
     "output_type": "stream",
     "text": [
      "Processing Mappings:  32%|███▏      | 306/962 [15:05<1:35:50,  8.77s/mapping]"
     ]
    },
    {
     "name": "stdout",
     "output_type": "stream",
     "text": [
      "Completed 375to615\n",
      "\n",
      "\n",
      "\n",
      "Started 376to408\n"
     ]
    },
    {
     "name": "stderr",
     "output_type": "stream",
     "text": [
      "Processing Mappings:  32%|███▏      | 307/962 [15:14<1:36:07,  8.81s/mapping]"
     ]
    },
    {
     "name": "stdout",
     "output_type": "stream",
     "text": [
      "Completed 376to408\n",
      "\n",
      "\n",
      "\n",
      "Started 377to863\n"
     ]
    },
    {
     "name": "stderr",
     "output_type": "stream",
     "text": [
      "Processing Mappings:  32%|███▏      | 308/962 [15:23<1:36:15,  8.83s/mapping]"
     ]
    },
    {
     "name": "stdout",
     "output_type": "stream",
     "text": [
      "Completed 377to863\n",
      "\n",
      "\n",
      "\n",
      "Started 378to954\n"
     ]
    },
    {
     "name": "stderr",
     "output_type": "stream",
     "text": [
      "Processing Mappings:  32%|███▏      | 309/962 [15:31<1:35:17,  8.76s/mapping]"
     ]
    },
    {
     "name": "stdout",
     "output_type": "stream",
     "text": [
      "Completed 378to954\n",
      "\n",
      "\n",
      "\n",
      "Started 379to226\n"
     ]
    },
    {
     "name": "stderr",
     "output_type": "stream",
     "text": [
      "Processing Mappings:  32%|███▏      | 310/962 [15:40<1:35:35,  8.80s/mapping]"
     ]
    },
    {
     "name": "stdout",
     "output_type": "stream",
     "text": [
      "Completed 379to226\n",
      "\n",
      "\n",
      "\n",
      "Started 37to274\n"
     ]
    },
    {
     "name": "stderr",
     "output_type": "stream",
     "text": [
      "Processing Mappings:  32%|███▏      | 311/962 [15:49<1:35:54,  8.84s/mapping]"
     ]
    },
    {
     "name": "stdout",
     "output_type": "stream",
     "text": [
      "Completed 37to274\n",
      "\n",
      "\n",
      "\n",
      "Started 380to5\n"
     ]
    },
    {
     "name": "stderr",
     "output_type": "stream",
     "text": [
      "Processing Mappings:  32%|███▏      | 312/962 [15:58<1:35:56,  8.86s/mapping]"
     ]
    },
    {
     "name": "stdout",
     "output_type": "stream",
     "text": [
      "Completed 380to5\n",
      "\n",
      "\n",
      "\n",
      "Started 381to332\n"
     ]
    },
    {
     "name": "stderr",
     "output_type": "stream",
     "text": [
      "Processing Mappings:  33%|███▎      | 313/962 [16:07<1:35:52,  8.86s/mapping]"
     ]
    },
    {
     "name": "stdout",
     "output_type": "stream",
     "text": [
      "Completed 381to332\n",
      "\n",
      "\n",
      "\n",
      "Started 382to777\n"
     ]
    },
    {
     "name": "stderr",
     "output_type": "stream",
     "text": [
      "Processing Mappings:  33%|███▎      | 314/962 [16:16<1:35:14,  8.82s/mapping]"
     ]
    },
    {
     "name": "stdout",
     "output_type": "stream",
     "text": [
      "Completed 382to777\n",
      "\n",
      "\n",
      "\n",
      "Started 383to361\n"
     ]
    },
    {
     "name": "stderr",
     "output_type": "stream",
     "text": [
      "Processing Mappings:  33%|███▎      | 315/962 [16:24<1:35:18,  8.84s/mapping]"
     ]
    },
    {
     "name": "stdout",
     "output_type": "stream",
     "text": [
      "Completed 383to361\n",
      "\n",
      "\n",
      "\n",
      "Started 384to154\n"
     ]
    },
    {
     "name": "stderr",
     "output_type": "stream",
     "text": [
      "Processing Mappings:  33%|███▎      | 316/962 [16:33<1:35:50,  8.90s/mapping]"
     ]
    },
    {
     "name": "stdout",
     "output_type": "stream",
     "text": [
      "Completed 384to154\n",
      "\n",
      "\n",
      "\n",
      "Started 385to669\n"
     ]
    },
    {
     "name": "stderr",
     "output_type": "stream",
     "text": [
      "Processing Mappings:  33%|███▎      | 317/962 [16:42<1:35:17,  8.86s/mapping]"
     ]
    },
    {
     "name": "stdout",
     "output_type": "stream",
     "text": [
      "Completed 385to669\n",
      "\n",
      "\n",
      "\n",
      "Started 386to292\n"
     ]
    },
    {
     "name": "stderr",
     "output_type": "stream",
     "text": [
      "Processing Mappings:  33%|███▎      | 318/962 [16:51<1:35:13,  8.87s/mapping]"
     ]
    },
    {
     "name": "stdout",
     "output_type": "stream",
     "text": [
      "Completed 386to292\n",
      "\n",
      "\n",
      "\n",
      "Started 387to207\n"
     ]
    },
    {
     "name": "stderr",
     "output_type": "stream",
     "text": [
      "Processing Mappings:  33%|███▎      | 319/962 [17:00<1:35:09,  8.88s/mapping]"
     ]
    },
    {
     "name": "stdout",
     "output_type": "stream",
     "text": [
      "Completed 387to207\n",
      "\n",
      "\n",
      "\n",
      "Started 388to393\n"
     ]
    },
    {
     "name": "stderr",
     "output_type": "stream",
     "text": [
      "Processing Mappings:  33%|███▎      | 320/962 [17:09<1:35:02,  8.88s/mapping]"
     ]
    },
    {
     "name": "stdout",
     "output_type": "stream",
     "text": [
      "Completed 388to393\n",
      "\n",
      "\n",
      "\n",
      "Started 389to502\n"
     ]
    },
    {
     "name": "stderr",
     "output_type": "stream",
     "text": [
      "Processing Mappings:  33%|███▎      | 321/962 [17:18<1:34:54,  8.88s/mapping]"
     ]
    },
    {
     "name": "stdout",
     "output_type": "stream",
     "text": [
      "Completed 389to502\n",
      "\n",
      "\n",
      "\n",
      "Started 38to589\n"
     ]
    },
    {
     "name": "stderr",
     "output_type": "stream",
     "text": [
      "Processing Mappings:  33%|███▎      | 322/962 [17:27<1:34:40,  8.88s/mapping]"
     ]
    },
    {
     "name": "stdout",
     "output_type": "stream",
     "text": [
      "Completed 38to589\n",
      "\n",
      "\n",
      "\n",
      "Started 390to895\n"
     ]
    },
    {
     "name": "stderr",
     "output_type": "stream",
     "text": [
      "Processing Mappings:  34%|███▎      | 323/962 [17:35<1:32:56,  8.73s/mapping]"
     ]
    },
    {
     "name": "stdout",
     "output_type": "stream",
     "text": [
      "Completed 390to895\n",
      "\n",
      "\n",
      "\n",
      "Started 391to218\n"
     ]
    },
    {
     "name": "stderr",
     "output_type": "stream",
     "text": [
      "Processing Mappings:  34%|███▎      | 324/962 [17:44<1:33:15,  8.77s/mapping]"
     ]
    },
    {
     "name": "stdout",
     "output_type": "stream",
     "text": [
      "Completed 391to218\n",
      "\n",
      "\n",
      "\n",
      "Started 392to776\n"
     ]
    },
    {
     "name": "stderr",
     "output_type": "stream",
     "text": [
      "Processing Mappings:  34%|███▍      | 325/962 [17:53<1:33:27,  8.80s/mapping]"
     ]
    },
    {
     "name": "stdout",
     "output_type": "stream",
     "text": [
      "Completed 392to776\n",
      "\n",
      "\n",
      "\n",
      "Started 393to404\n"
     ]
    },
    {
     "name": "stderr",
     "output_type": "stream",
     "text": [
      "Processing Mappings:  34%|███▍      | 326/962 [18:02<1:33:32,  8.83s/mapping]"
     ]
    },
    {
     "name": "stdout",
     "output_type": "stream",
     "text": [
      "Completed 393to404\n",
      "\n",
      "\n",
      "\n",
      "Started 394to727\n"
     ]
    },
    {
     "name": "stderr",
     "output_type": "stream",
     "text": [
      "Processing Mappings:  34%|███▍      | 327/962 [18:11<1:33:26,  8.83s/mapping]"
     ]
    },
    {
     "name": "stdout",
     "output_type": "stream",
     "text": [
      "Completed 394to727\n",
      "\n",
      "\n",
      "\n",
      "Started 395to595\n"
     ]
    },
    {
     "name": "stderr",
     "output_type": "stream",
     "text": [
      "Processing Mappings:  34%|███▍      | 328/962 [18:19<1:33:32,  8.85s/mapping]"
     ]
    },
    {
     "name": "stdout",
     "output_type": "stream",
     "text": [
      "Completed 395to595\n",
      "\n",
      "\n",
      "\n",
      "Started 396to40\n"
     ]
    },
    {
     "name": "stderr",
     "output_type": "stream",
     "text": [
      "Processing Mappings:  34%|███▍      | 329/962 [18:28<1:33:36,  8.87s/mapping]"
     ]
    },
    {
     "name": "stdout",
     "output_type": "stream",
     "text": [
      "Completed 396to40\n",
      "\n",
      "\n",
      "\n",
      "Started 397to519\n"
     ]
    },
    {
     "name": "stderr",
     "output_type": "stream",
     "text": [
      "Processing Mappings:  34%|███▍      | 330/962 [18:37<1:33:26,  8.87s/mapping]"
     ]
    },
    {
     "name": "stdout",
     "output_type": "stream",
     "text": [
      "Completed 397to519\n",
      "\n",
      "\n",
      "\n",
      "Started 398to901\n"
     ]
    },
    {
     "name": "stderr",
     "output_type": "stream",
     "text": [
      "Processing Mappings:  34%|███▍      | 331/962 [18:46<1:32:06,  8.76s/mapping]"
     ]
    },
    {
     "name": "stdout",
     "output_type": "stream",
     "text": [
      "Completed 398to901\n",
      "\n",
      "\n",
      "\n",
      "Started 399to398\n"
     ]
    },
    {
     "name": "stderr",
     "output_type": "stream",
     "text": [
      "Processing Mappings:  35%|███▍      | 332/962 [18:55<1:32:18,  8.79s/mapping]"
     ]
    },
    {
     "name": "stdout",
     "output_type": "stream",
     "text": [
      "Completed 399to398\n",
      "\n",
      "\n",
      "\n",
      "Started 39to541\n"
     ]
    },
    {
     "name": "stderr",
     "output_type": "stream",
     "text": [
      "Processing Mappings:  35%|███▍      | 333/962 [19:03<1:32:24,  8.82s/mapping]"
     ]
    },
    {
     "name": "stdout",
     "output_type": "stream",
     "text": [
      "Completed 39to541\n",
      "\n",
      "\n",
      "\n",
      "Started 3to906\n"
     ]
    },
    {
     "name": "stderr",
     "output_type": "stream",
     "text": [
      "Processing Mappings:  35%|███▍      | 334/962 [19:12<1:31:58,  8.79s/mapping]"
     ]
    },
    {
     "name": "stdout",
     "output_type": "stream",
     "text": [
      "Completed 3to906\n",
      "\n",
      "\n",
      "\n",
      "Started 400to39\n"
     ]
    },
    {
     "name": "stderr",
     "output_type": "stream",
     "text": [
      "Processing Mappings:  35%|███▍      | 335/962 [19:21<1:32:05,  8.81s/mapping]"
     ]
    },
    {
     "name": "stdout",
     "output_type": "stream",
     "text": [
      "Completed 400to39\n",
      "\n",
      "\n",
      "\n",
      "Started 401to782\n"
     ]
    },
    {
     "name": "stderr",
     "output_type": "stream",
     "text": [
      "Processing Mappings:  35%|███▍      | 336/962 [19:30<1:31:25,  8.76s/mapping]"
     ]
    },
    {
     "name": "stdout",
     "output_type": "stream",
     "text": [
      "Completed 401to782\n",
      "\n",
      "\n",
      "\n",
      "Started 402to637\n"
     ]
    },
    {
     "name": "stderr",
     "output_type": "stream",
     "text": [
      "Processing Mappings:  35%|███▌      | 337/962 [19:39<1:31:47,  8.81s/mapping]"
     ]
    },
    {
     "name": "stdout",
     "output_type": "stream",
     "text": [
      "Completed 402to637\n",
      "\n",
      "\n",
      "\n",
      "Started 403to217\n"
     ]
    },
    {
     "name": "stderr",
     "output_type": "stream",
     "text": [
      "Processing Mappings:  35%|███▌      | 338/962 [19:48<1:31:59,  8.84s/mapping]"
     ]
    },
    {
     "name": "stdout",
     "output_type": "stream",
     "text": [
      "Completed 403to217\n",
      "\n",
      "\n",
      "\n",
      "Started 404to710\n"
     ]
    },
    {
     "name": "stderr",
     "output_type": "stream",
     "text": [
      "Processing Mappings:  35%|███▌      | 339/962 [19:56<1:31:46,  8.84s/mapping]"
     ]
    },
    {
     "name": "stdout",
     "output_type": "stream",
     "text": [
      "Completed 404to710\n",
      "\n",
      "\n",
      "\n",
      "Started 405to112\n"
     ]
    },
    {
     "name": "stderr",
     "output_type": "stream",
     "text": [
      "Processing Mappings:  35%|███▌      | 340/962 [20:05<1:31:45,  8.85s/mapping]"
     ]
    },
    {
     "name": "stdout",
     "output_type": "stream",
     "text": [
      "Completed 405to112\n",
      "\n",
      "\n",
      "\n",
      "Started 406to31\n"
     ]
    },
    {
     "name": "stderr",
     "output_type": "stream",
     "text": [
      "Processing Mappings:  35%|███▌      | 341/962 [20:14<1:31:46,  8.87s/mapping]"
     ]
    },
    {
     "name": "stdout",
     "output_type": "stream",
     "text": [
      "Completed 406to31\n",
      "\n",
      "\n",
      "\n",
      "Started 407to672\n"
     ]
    },
    {
     "name": "stderr",
     "output_type": "stream",
     "text": [
      "Processing Mappings:  36%|███▌      | 342/962 [20:23<1:31:55,  8.90s/mapping]"
     ]
    },
    {
     "name": "stdout",
     "output_type": "stream",
     "text": [
      "Completed 407to672\n",
      "\n",
      "\n",
      "\n",
      "Started 408to192\n"
     ]
    },
    {
     "name": "stderr",
     "output_type": "stream",
     "text": [
      "Processing Mappings:  36%|███▌      | 343/962 [20:32<1:31:43,  8.89s/mapping]"
     ]
    },
    {
     "name": "stdout",
     "output_type": "stream",
     "text": [
      "Completed 408to192\n",
      "\n",
      "\n",
      "\n",
      "Started 409to56\n"
     ]
    },
    {
     "name": "stderr",
     "output_type": "stream",
     "text": [
      "Processing Mappings:  36%|███▌      | 344/962 [20:41<1:31:33,  8.89s/mapping]"
     ]
    },
    {
     "name": "stdout",
     "output_type": "stream",
     "text": [
      "Completed 409to56\n",
      "\n",
      "\n",
      "\n",
      "Started 40to700\n"
     ]
    },
    {
     "name": "stderr",
     "output_type": "stream",
     "text": [
      "Processing Mappings:  36%|███▌      | 345/962 [20:50<1:31:22,  8.89s/mapping]"
     ]
    },
    {
     "name": "stdout",
     "output_type": "stream",
     "text": [
      "Completed 40to700\n",
      "\n",
      "\n",
      "\n",
      "Started 410to941\n"
     ]
    },
    {
     "name": "stderr",
     "output_type": "stream",
     "text": [
      "Processing Mappings:  36%|███▌      | 346/962 [20:58<1:30:39,  8.83s/mapping]"
     ]
    },
    {
     "name": "stdout",
     "output_type": "stream",
     "text": [
      "Completed 410to941\n",
      "\n",
      "\n",
      "\n",
      "Started 411to184\n"
     ]
    },
    {
     "name": "stderr",
     "output_type": "stream",
     "text": [
      "Processing Mappings:  36%|███▌      | 347/962 [21:07<1:30:40,  8.85s/mapping]"
     ]
    },
    {
     "name": "stdout",
     "output_type": "stream",
     "text": [
      "Completed 411to184\n",
      "\n",
      "\n",
      "\n",
      "Started 412to853\n"
     ]
    },
    {
     "name": "stderr",
     "output_type": "stream",
     "text": [
      "Processing Mappings:  36%|███▌      | 348/962 [21:16<1:29:59,  8.79s/mapping]"
     ]
    },
    {
     "name": "stdout",
     "output_type": "stream",
     "text": [
      "Completed 412to853\n",
      "\n",
      "\n",
      "\n",
      "Started 413to309\n"
     ]
    },
    {
     "name": "stderr",
     "output_type": "stream",
     "text": [
      "Processing Mappings:  36%|███▋      | 349/962 [21:25<1:30:05,  8.82s/mapping]"
     ]
    },
    {
     "name": "stdout",
     "output_type": "stream",
     "text": [
      "Completed 413to309\n",
      "\n",
      "\n",
      "\n",
      "Started 414to517\n"
     ]
    },
    {
     "name": "stderr",
     "output_type": "stream",
     "text": [
      "Processing Mappings:  36%|███▋      | 350/962 [21:34<1:30:15,  8.85s/mapping]"
     ]
    },
    {
     "name": "stdout",
     "output_type": "stream",
     "text": [
      "Completed 414to517\n",
      "\n",
      "\n",
      "\n",
      "Started 415to555\n"
     ]
    },
    {
     "name": "stderr",
     "output_type": "stream",
     "text": [
      "Processing Mappings:  36%|███▋      | 351/962 [21:43<1:30:12,  8.86s/mapping]"
     ]
    },
    {
     "name": "stdout",
     "output_type": "stream",
     "text": [
      "Completed 415to555\n",
      "\n",
      "\n",
      "\n",
      "Started 416to894\n"
     ]
    },
    {
     "name": "stderr",
     "output_type": "stream",
     "text": [
      "Processing Mappings:  37%|███▋      | 352/962 [21:51<1:29:37,  8.82s/mapping]"
     ]
    },
    {
     "name": "stdout",
     "output_type": "stream",
     "text": [
      "Completed 416to894\n",
      "\n",
      "\n",
      "\n",
      "Started 417to866\n"
     ]
    },
    {
     "name": "stderr",
     "output_type": "stream",
     "text": [
      "Processing Mappings:  37%|███▋      | 353/962 [22:00<1:29:08,  8.78s/mapping]"
     ]
    },
    {
     "name": "stdout",
     "output_type": "stream",
     "text": [
      "Completed 417to866\n",
      "\n",
      "\n",
      "\n",
      "Started 418to325\n"
     ]
    },
    {
     "name": "stderr",
     "output_type": "stream",
     "text": [
      "Processing Mappings:  37%|███▋      | 354/962 [22:09<1:29:28,  8.83s/mapping]"
     ]
    },
    {
     "name": "stdout",
     "output_type": "stream",
     "text": [
      "Completed 418to325\n",
      "\n",
      "\n",
      "\n",
      "Started 419to168\n"
     ]
    },
    {
     "name": "stderr",
     "output_type": "stream",
     "text": [
      "Processing Mappings:  37%|███▋      | 355/962 [22:18<1:29:43,  8.87s/mapping]"
     ]
    },
    {
     "name": "stdout",
     "output_type": "stream",
     "text": [
      "Completed 419to168\n",
      "\n",
      "\n",
      "\n",
      "Started 41to113\n"
     ]
    },
    {
     "name": "stderr",
     "output_type": "stream",
     "text": [
      "Processing Mappings:  37%|███▋      | 356/962 [22:27<1:29:50,  8.90s/mapping]"
     ]
    },
    {
     "name": "stdout",
     "output_type": "stream",
     "text": [
      "Completed 41to113\n",
      "\n",
      "\n",
      "\n",
      "Started 420to451\n"
     ]
    },
    {
     "name": "stderr",
     "output_type": "stream",
     "text": [
      "Processing Mappings:  37%|███▋      | 357/962 [22:36<1:29:55,  8.92s/mapping]"
     ]
    },
    {
     "name": "stdout",
     "output_type": "stream",
     "text": [
      "Completed 420to451\n",
      "\n",
      "\n",
      "\n",
      "Started 421to74\n"
     ]
    },
    {
     "name": "stderr",
     "output_type": "stream",
     "text": [
      "Processing Mappings:  37%|███▋      | 358/962 [22:45<1:30:01,  8.94s/mapping]"
     ]
    },
    {
     "name": "stdout",
     "output_type": "stream",
     "text": [
      "Completed 421to74\n",
      "\n",
      "\n",
      "\n",
      "Started 422to821\n"
     ]
    },
    {
     "name": "stderr",
     "output_type": "stream",
     "text": [
      "Processing Mappings:  37%|███▋      | 359/962 [22:54<1:29:01,  8.86s/mapping]"
     ]
    },
    {
     "name": "stdout",
     "output_type": "stream",
     "text": [
      "Completed 422to821\n",
      "\n",
      "\n",
      "\n",
      "Started 423to553\n"
     ]
    },
    {
     "name": "stderr",
     "output_type": "stream",
     "text": [
      "Processing Mappings:  37%|███▋      | 360/962 [23:03<1:29:12,  8.89s/mapping]"
     ]
    },
    {
     "name": "stdout",
     "output_type": "stream",
     "text": [
      "Completed 423to553\n",
      "\n",
      "\n",
      "\n",
      "Started 424to571\n"
     ]
    },
    {
     "name": "stderr",
     "output_type": "stream",
     "text": [
      "Processing Mappings:  38%|███▊      | 361/962 [23:12<1:29:31,  8.94s/mapping]"
     ]
    },
    {
     "name": "stdout",
     "output_type": "stream",
     "text": [
      "Completed 424to571\n",
      "\n",
      "\n",
      "\n",
      "Started 425to578\n"
     ]
    },
    {
     "name": "stderr",
     "output_type": "stream",
     "text": [
      "Processing Mappings:  38%|███▊      | 362/962 [23:21<1:29:31,  8.95s/mapping]"
     ]
    },
    {
     "name": "stdout",
     "output_type": "stream",
     "text": [
      "Completed 425to578\n",
      "\n",
      "\n",
      "\n",
      "Started 426to855\n"
     ]
    },
    {
     "name": "stderr",
     "output_type": "stream",
     "text": [
      "Processing Mappings:  38%|███▊      | 363/962 [23:29<1:28:37,  8.88s/mapping]"
     ]
    },
    {
     "name": "stdout",
     "output_type": "stream",
     "text": [
      "Completed 426to855\n",
      "\n",
      "\n",
      "\n",
      "Started 427to673\n"
     ]
    },
    {
     "name": "stderr",
     "output_type": "stream",
     "text": [
      "Processing Mappings:  38%|███▊      | 364/962 [23:38<1:28:47,  8.91s/mapping]"
     ]
    },
    {
     "name": "stdout",
     "output_type": "stream",
     "text": [
      "Completed 427to673\n",
      "\n",
      "\n",
      "\n",
      "Started 428to70\n"
     ]
    },
    {
     "name": "stderr",
     "output_type": "stream",
     "text": [
      "Processing Mappings:  38%|███▊      | 365/962 [23:47<1:28:51,  8.93s/mapping]"
     ]
    },
    {
     "name": "stdout",
     "output_type": "stream",
     "text": [
      "Completed 428to70\n",
      "\n",
      "\n",
      "\n",
      "Started 429to903\n"
     ]
    },
    {
     "name": "stderr",
     "output_type": "stream",
     "text": [
      "Processing Mappings:  38%|███▊      | 366/962 [23:56<1:28:08,  8.87s/mapping]"
     ]
    },
    {
     "name": "stdout",
     "output_type": "stream",
     "text": [
      "Completed 429to903\n",
      "\n",
      "\n",
      "\n",
      "Started 42to533\n"
     ]
    },
    {
     "name": "stderr",
     "output_type": "stream",
     "text": [
      "Processing Mappings:  38%|███▊      | 367/962 [24:05<1:28:10,  8.89s/mapping]"
     ]
    },
    {
     "name": "stdout",
     "output_type": "stream",
     "text": [
      "Completed 42to533\n",
      "\n",
      "\n",
      "\n",
      "Started 430to245\n"
     ]
    },
    {
     "name": "stderr",
     "output_type": "stream",
     "text": [
      "Processing Mappings:  38%|███▊      | 368/962 [24:14<1:28:12,  8.91s/mapping]"
     ]
    },
    {
     "name": "stdout",
     "output_type": "stream",
     "text": [
      "Completed 430to245\n",
      "\n",
      "\n",
      "\n",
      "Started 431to874\n"
     ]
    },
    {
     "name": "stderr",
     "output_type": "stream",
     "text": [
      "Processing Mappings:  38%|███▊      | 369/962 [24:23<1:27:58,  8.90s/mapping]"
     ]
    },
    {
     "name": "stdout",
     "output_type": "stream",
     "text": [
      "Completed 431to874\n",
      "\n",
      "\n",
      "\n",
      "Started 432to677\n"
     ]
    },
    {
     "name": "stderr",
     "output_type": "stream",
     "text": [
      "Processing Mappings:  38%|███▊      | 370/962 [24:32<1:27:56,  8.91s/mapping]"
     ]
    },
    {
     "name": "stdout",
     "output_type": "stream",
     "text": [
      "Completed 432to677\n",
      "\n",
      "\n",
      "\n",
      "Started 433to877\n"
     ]
    },
    {
     "name": "stderr",
     "output_type": "stream",
     "text": [
      "Processing Mappings:  39%|███▊      | 371/962 [24:40<1:27:21,  8.87s/mapping]"
     ]
    },
    {
     "name": "stdout",
     "output_type": "stream",
     "text": [
      "Completed 433to877\n",
      "\n",
      "\n",
      "\n",
      "Started 434to818\n"
     ]
    },
    {
     "name": "stderr",
     "output_type": "stream",
     "text": [
      "Processing Mappings:  39%|███▊      | 372/962 [24:49<1:26:22,  8.78s/mapping]"
     ]
    },
    {
     "name": "stdout",
     "output_type": "stream",
     "text": [
      "Completed 434to818\n",
      "\n",
      "\n",
      "\n",
      "Started 435to477\n"
     ]
    },
    {
     "name": "stderr",
     "output_type": "stream",
     "text": [
      "Processing Mappings:  39%|███▉      | 373/962 [24:58<1:26:40,  8.83s/mapping]"
     ]
    },
    {
     "name": "stdout",
     "output_type": "stream",
     "text": [
      "Completed 435to477\n",
      "\n",
      "\n",
      "\n",
      "Started 436to865\n"
     ]
    },
    {
     "name": "stderr",
     "output_type": "stream",
     "text": [
      "Processing Mappings:  39%|███▉      | 374/962 [25:07<1:26:26,  8.82s/mapping]"
     ]
    },
    {
     "name": "stdout",
     "output_type": "stream",
     "text": [
      "Completed 436to865\n",
      "\n",
      "\n",
      "\n",
      "Started 437to705\n"
     ]
    },
    {
     "name": "stderr",
     "output_type": "stream",
     "text": [
      "Processing Mappings:  39%|███▉      | 375/962 [25:16<1:26:41,  8.86s/mapping]"
     ]
    },
    {
     "name": "stdout",
     "output_type": "stream",
     "text": [
      "Completed 437to705\n",
      "\n",
      "\n",
      "\n",
      "Started 438to664\n"
     ]
    },
    {
     "name": "stderr",
     "output_type": "stream",
     "text": [
      "Processing Mappings:  39%|███▉      | 376/962 [25:25<1:26:49,  8.89s/mapping]"
     ]
    },
    {
     "name": "stdout",
     "output_type": "stream",
     "text": [
      "Completed 438to664\n",
      "\n",
      "\n",
      "\n",
      "Started 439to93\n"
     ]
    },
    {
     "name": "stderr",
     "output_type": "stream",
     "text": [
      "Processing Mappings:  39%|███▉      | 377/962 [25:34<1:27:00,  8.92s/mapping]"
     ]
    },
    {
     "name": "stdout",
     "output_type": "stream",
     "text": [
      "Completed 439to93\n",
      "\n",
      "\n",
      "\n",
      "Started 43to544\n"
     ]
    },
    {
     "name": "stderr",
     "output_type": "stream",
     "text": [
      "Processing Mappings:  39%|███▉      | 378/962 [25:43<1:26:57,  8.93s/mapping]"
     ]
    },
    {
     "name": "stdout",
     "output_type": "stream",
     "text": [
      "Completed 43to544\n",
      "\n",
      "\n",
      "\n",
      "Started 440to509\n"
     ]
    },
    {
     "name": "stderr",
     "output_type": "stream",
     "text": [
      "Processing Mappings:  39%|███▉      | 379/962 [25:52<1:26:51,  8.94s/mapping]"
     ]
    },
    {
     "name": "stdout",
     "output_type": "stream",
     "text": [
      "Completed 440to509\n",
      "\n",
      "\n",
      "\n",
      "Started 441to898\n"
     ]
    },
    {
     "name": "stderr",
     "output_type": "stream",
     "text": [
      "Processing Mappings:  40%|███▉      | 380/962 [26:01<1:26:33,  8.92s/mapping]"
     ]
    },
    {
     "name": "stdout",
     "output_type": "stream",
     "text": [
      "Completed 441to898\n",
      "\n",
      "\n",
      "\n",
      "Started 442to384\n"
     ]
    },
    {
     "name": "stderr",
     "output_type": "stream",
     "text": [
      "Processing Mappings:  40%|███▉      | 381/962 [26:09<1:26:26,  8.93s/mapping]"
     ]
    },
    {
     "name": "stdout",
     "output_type": "stream",
     "text": [
      "Completed 442to384\n",
      "\n",
      "\n",
      "\n",
      "Started 443to352\n"
     ]
    },
    {
     "name": "stderr",
     "output_type": "stream",
     "text": [
      "Processing Mappings:  40%|███▉      | 382/962 [26:18<1:26:29,  8.95s/mapping]"
     ]
    },
    {
     "name": "stdout",
     "output_type": "stream",
     "text": [
      "Completed 443to352\n",
      "\n",
      "\n",
      "\n",
      "Started 444to427\n"
     ]
    },
    {
     "name": "stderr",
     "output_type": "stream",
     "text": [
      "Processing Mappings:  40%|███▉      | 383/962 [26:27<1:26:20,  8.95s/mapping]"
     ]
    },
    {
     "name": "stdout",
     "output_type": "stream",
     "text": [
      "Completed 444to427\n",
      "\n",
      "\n",
      "\n",
      "Started 445to748\n"
     ]
    },
    {
     "name": "stderr",
     "output_type": "stream",
     "text": [
      "Processing Mappings:  40%|███▉      | 384/962 [26:36<1:26:11,  8.95s/mapping]"
     ]
    },
    {
     "name": "stdout",
     "output_type": "stream",
     "text": [
      "Completed 445to748\n",
      "\n",
      "\n",
      "\n",
      "Started 446to856\n"
     ]
    },
    {
     "name": "stderr",
     "output_type": "stream",
     "text": [
      "Processing Mappings:  40%|████      | 385/962 [26:45<1:24:53,  8.83s/mapping]"
     ]
    },
    {
     "name": "stdout",
     "output_type": "stream",
     "text": [
      "Completed 446to856\n",
      "\n",
      "\n",
      "\n",
      "Started 447to210\n"
     ]
    },
    {
     "name": "stderr",
     "output_type": "stream",
     "text": [
      "Processing Mappings:  40%|████      | 386/962 [26:54<1:25:00,  8.86s/mapping]"
     ]
    },
    {
     "name": "stdout",
     "output_type": "stream",
     "text": [
      "Completed 447to210\n",
      "\n",
      "\n",
      "\n",
      "Started 448to678\n"
     ]
    },
    {
     "name": "stderr",
     "output_type": "stream",
     "text": [
      "Processing Mappings:  40%|████      | 387/962 [27:03<1:25:03,  8.88s/mapping]"
     ]
    },
    {
     "name": "stdout",
     "output_type": "stream",
     "text": [
      "Completed 448to678\n",
      "\n",
      "\n",
      "\n",
      "Started 449to815\n"
     ]
    },
    {
     "name": "stderr",
     "output_type": "stream",
     "text": [
      "Processing Mappings:  40%|████      | 388/962 [27:12<1:25:02,  8.89s/mapping]"
     ]
    },
    {
     "name": "stdout",
     "output_type": "stream",
     "text": [
      "Completed 449to815\n",
      "\n",
      "\n",
      "\n",
      "Started 44to163\n"
     ]
    },
    {
     "name": "stderr",
     "output_type": "stream",
     "text": [
      "Processing Mappings:  40%|████      | 389/962 [27:21<1:25:00,  8.90s/mapping]"
     ]
    },
    {
     "name": "stdout",
     "output_type": "stream",
     "text": [
      "Completed 44to163\n",
      "\n",
      "\n",
      "\n",
      "Started 450to843\n"
     ]
    },
    {
     "name": "stderr",
     "output_type": "stream",
     "text": [
      "Processing Mappings:  41%|████      | 390/962 [27:29<1:24:25,  8.86s/mapping]"
     ]
    },
    {
     "name": "stdout",
     "output_type": "stream",
     "text": [
      "Completed 450to843\n",
      "\n",
      "\n",
      "\n",
      "Started 451to676\n"
     ]
    },
    {
     "name": "stderr",
     "output_type": "stream",
     "text": [
      "Processing Mappings:  41%|████      | 391/962 [27:38<1:24:26,  8.87s/mapping]"
     ]
    },
    {
     "name": "stdout",
     "output_type": "stream",
     "text": [
      "Completed 451to676\n",
      "\n",
      "\n",
      "\n",
      "Started 452to109\n"
     ]
    },
    {
     "name": "stderr",
     "output_type": "stream",
     "text": [
      "Processing Mappings:  41%|████      | 392/962 [27:47<1:24:32,  8.90s/mapping]"
     ]
    },
    {
     "name": "stdout",
     "output_type": "stream",
     "text": [
      "Completed 452to109\n",
      "\n",
      "\n",
      "\n",
      "Started 453to769\n"
     ]
    },
    {
     "name": "stderr",
     "output_type": "stream",
     "text": [
      "Processing Mappings:  41%|████      | 393/962 [27:56<1:24:29,  8.91s/mapping]"
     ]
    },
    {
     "name": "stdout",
     "output_type": "stream",
     "text": [
      "Completed 453to769\n",
      "\n",
      "\n",
      "\n",
      "Started 454to162\n"
     ]
    },
    {
     "name": "stderr",
     "output_type": "stream",
     "text": [
      "Processing Mappings:  41%|████      | 394/962 [28:05<1:24:23,  8.92s/mapping]"
     ]
    },
    {
     "name": "stdout",
     "output_type": "stream",
     "text": [
      "Completed 454to162\n",
      "\n",
      "\n",
      "\n",
      "Started 455to204\n"
     ]
    },
    {
     "name": "stderr",
     "output_type": "stream",
     "text": [
      "Processing Mappings:  41%|████      | 395/962 [28:14<1:24:24,  8.93s/mapping]"
     ]
    },
    {
     "name": "stdout",
     "output_type": "stream",
     "text": [
      "Completed 455to204\n",
      "\n",
      "\n",
      "\n",
      "Started 456to960\n"
     ]
    },
    {
     "name": "stderr",
     "output_type": "stream",
     "text": [
      "Processing Mappings:  41%|████      | 396/962 [28:23<1:22:56,  8.79s/mapping]"
     ]
    },
    {
     "name": "stdout",
     "output_type": "stream",
     "text": [
      "Completed 456to960\n",
      "\n",
      "\n",
      "\n",
      "Started 457to554\n"
     ]
    },
    {
     "name": "stderr",
     "output_type": "stream",
     "text": [
      "Processing Mappings:  41%|████▏     | 397/962 [28:31<1:23:11,  8.84s/mapping]"
     ]
    },
    {
     "name": "stdout",
     "output_type": "stream",
     "text": [
      "Completed 457to554\n",
      "\n",
      "\n",
      "\n",
      "Started 458to296\n"
     ]
    },
    {
     "name": "stderr",
     "output_type": "stream",
     "text": [
      "Processing Mappings:  41%|████▏     | 398/962 [28:40<1:23:18,  8.86s/mapping]"
     ]
    },
    {
     "name": "stdout",
     "output_type": "stream",
     "text": [
      "Completed 458to296\n",
      "\n",
      "\n",
      "\n",
      "Started 459to68\n"
     ]
    },
    {
     "name": "stderr",
     "output_type": "stream",
     "text": [
      "Processing Mappings:  41%|████▏     | 399/962 [28:49<1:23:20,  8.88s/mapping]"
     ]
    },
    {
     "name": "stdout",
     "output_type": "stream",
     "text": [
      "Completed 459to68\n",
      "\n",
      "\n",
      "\n",
      "Started 45to255\n"
     ]
    },
    {
     "name": "stderr",
     "output_type": "stream",
     "text": [
      "Processing Mappings:  42%|████▏     | 400/962 [28:58<1:23:19,  8.90s/mapping]"
     ]
    },
    {
     "name": "stdout",
     "output_type": "stream",
     "text": [
      "Completed 45to255\n",
      "\n",
      "\n",
      "\n",
      "Started 460to403\n"
     ]
    },
    {
     "name": "stderr",
     "output_type": "stream",
     "text": [
      "Processing Mappings:  42%|████▏     | 401/962 [29:07<1:23:24,  8.92s/mapping]"
     ]
    },
    {
     "name": "stdout",
     "output_type": "stream",
     "text": [
      "Completed 460to403\n",
      "\n",
      "\n",
      "\n",
      "Started 461to385\n"
     ]
    },
    {
     "name": "stderr",
     "output_type": "stream",
     "text": [
      "Processing Mappings:  42%|████▏     | 402/962 [29:16<1:23:20,  8.93s/mapping]"
     ]
    },
    {
     "name": "stdout",
     "output_type": "stream",
     "text": [
      "Completed 461to385\n",
      "\n",
      "\n",
      "\n",
      "Started 462to854\n"
     ]
    },
    {
     "name": "stderr",
     "output_type": "stream",
     "text": [
      "Processing Mappings:  42%|████▏     | 403/962 [29:25<1:22:46,  8.89s/mapping]"
     ]
    },
    {
     "name": "stdout",
     "output_type": "stream",
     "text": [
      "Completed 462to854\n",
      "\n",
      "\n",
      "\n",
      "Started 463to147\n"
     ]
    },
    {
     "name": "stderr",
     "output_type": "stream",
     "text": [
      "Processing Mappings:  42%|████▏     | 404/962 [29:34<1:22:40,  8.89s/mapping]"
     ]
    },
    {
     "name": "stdout",
     "output_type": "stream",
     "text": [
      "Completed 463to147\n",
      "\n",
      "\n",
      "\n",
      "Started 464to394\n"
     ]
    },
    {
     "name": "stderr",
     "output_type": "stream",
     "text": [
      "Processing Mappings:  42%|████▏     | 405/962 [29:43<1:22:33,  8.89s/mapping]"
     ]
    },
    {
     "name": "stdout",
     "output_type": "stream",
     "text": [
      "Completed 464to394\n",
      "\n",
      "\n",
      "\n",
      "Started 465to125\n"
     ]
    },
    {
     "name": "stderr",
     "output_type": "stream",
     "text": [
      "Processing Mappings:  42%|████▏     | 406/962 [29:52<1:22:20,  8.89s/mapping]"
     ]
    },
    {
     "name": "stdout",
     "output_type": "stream",
     "text": [
      "Completed 465to125\n",
      "\n",
      "\n",
      "\n",
      "Started 466to627\n"
     ]
    },
    {
     "name": "stderr",
     "output_type": "stream",
     "text": [
      "Processing Mappings:  42%|████▏     | 407/962 [30:00<1:22:08,  8.88s/mapping]"
     ]
    },
    {
     "name": "stdout",
     "output_type": "stream",
     "text": [
      "Completed 466to627\n",
      "\n",
      "\n",
      "\n",
      "Started 467to531\n"
     ]
    },
    {
     "name": "stderr",
     "output_type": "stream",
     "text": [
      "Processing Mappings:  42%|████▏     | 408/962 [30:09<1:22:02,  8.89s/mapping]"
     ]
    },
    {
     "name": "stdout",
     "output_type": "stream",
     "text": [
      "Completed 467to531\n",
      "\n",
      "\n",
      "\n",
      "Started 468to208\n"
     ]
    },
    {
     "name": "stderr",
     "output_type": "stream",
     "text": [
      "Processing Mappings:  43%|████▎     | 409/962 [30:18<1:21:49,  8.88s/mapping]"
     ]
    },
    {
     "name": "stdout",
     "output_type": "stream",
     "text": [
      "Completed 468to208\n",
      "\n",
      "\n",
      "\n",
      "Started 469to19\n"
     ]
    },
    {
     "name": "stderr",
     "output_type": "stream",
     "text": [
      "Processing Mappings:  43%|████▎     | 410/962 [30:27<1:21:37,  8.87s/mapping]"
     ]
    },
    {
     "name": "stdout",
     "output_type": "stream",
     "text": [
      "Completed 469to19\n",
      "\n",
      "\n",
      "\n",
      "Started 46to841\n"
     ]
    },
    {
     "name": "stderr",
     "output_type": "stream",
     "text": [
      "Processing Mappings:  43%|████▎     | 411/962 [30:36<1:21:18,  8.85s/mapping]"
     ]
    },
    {
     "name": "stdout",
     "output_type": "stream",
     "text": [
      "Completed 46to841\n",
      "\n",
      "\n",
      "\n",
      "Started 470to947\n"
     ]
    },
    {
     "name": "stderr",
     "output_type": "stream",
     "text": [
      "Processing Mappings:  43%|████▎     | 412/962 [30:44<1:19:52,  8.71s/mapping]"
     ]
    },
    {
     "name": "stdout",
     "output_type": "stream",
     "text": [
      "Completed 470to947\n",
      "\n",
      "\n",
      "\n",
      "Started 471to373\n"
     ]
    },
    {
     "name": "stderr",
     "output_type": "stream",
     "text": [
      "Processing Mappings:  43%|████▎     | 413/962 [30:53<1:20:06,  8.75s/mapping]"
     ]
    },
    {
     "name": "stdout",
     "output_type": "stream",
     "text": [
      "Completed 471to373\n",
      "\n",
      "\n",
      "\n",
      "Started 472to575\n"
     ]
    },
    {
     "name": "stderr",
     "output_type": "stream",
     "text": [
      "Processing Mappings:  43%|████▎     | 414/962 [31:02<1:20:13,  8.78s/mapping]"
     ]
    },
    {
     "name": "stdout",
     "output_type": "stream",
     "text": [
      "Completed 472to575\n",
      "\n",
      "\n",
      "\n",
      "Started 473to932\n"
     ]
    },
    {
     "name": "stderr",
     "output_type": "stream",
     "text": [
      "Processing Mappings:  43%|████▎     | 415/962 [31:11<1:19:23,  8.71s/mapping]"
     ]
    },
    {
     "name": "stdout",
     "output_type": "stream",
     "text": [
      "Completed 473to932\n",
      "\n",
      "\n",
      "\n",
      "Started 474to277\n"
     ]
    },
    {
     "name": "stderr",
     "output_type": "stream",
     "text": [
      "Processing Mappings:  43%|████▎     | 416/962 [31:19<1:19:39,  8.75s/mapping]"
     ]
    },
    {
     "name": "stdout",
     "output_type": "stream",
     "text": [
      "Completed 474to277\n",
      "\n",
      "\n",
      "\n",
      "Started 475to768\n"
     ]
    },
    {
     "name": "stderr",
     "output_type": "stream",
     "text": [
      "Processing Mappings:  43%|████▎     | 417/962 [31:28<1:19:50,  8.79s/mapping]"
     ]
    },
    {
     "name": "stdout",
     "output_type": "stream",
     "text": [
      "Completed 475to768\n",
      "\n",
      "\n",
      "\n",
      "Started 476to100\n"
     ]
    },
    {
     "name": "stderr",
     "output_type": "stream",
     "text": [
      "Processing Mappings:  43%|████▎     | 418/962 [31:37<1:20:00,  8.82s/mapping]"
     ]
    },
    {
     "name": "stdout",
     "output_type": "stream",
     "text": [
      "Completed 476to100\n",
      "\n",
      "\n",
      "\n",
      "Started 477to687\n"
     ]
    },
    {
     "name": "stderr",
     "output_type": "stream",
     "text": [
      "Processing Mappings:  44%|████▎     | 419/962 [31:46<1:20:03,  8.85s/mapping]"
     ]
    },
    {
     "name": "stdout",
     "output_type": "stream",
     "text": [
      "Completed 477to687\n",
      "\n",
      "\n",
      "\n",
      "Started 478to247\n"
     ]
    },
    {
     "name": "stderr",
     "output_type": "stream",
     "text": [
      "Processing Mappings:  44%|████▎     | 420/962 [31:55<1:19:55,  8.85s/mapping]"
     ]
    },
    {
     "name": "stdout",
     "output_type": "stream",
     "text": [
      "Completed 478to247\n",
      "\n",
      "\n",
      "\n",
      "Started 479to545\n"
     ]
    },
    {
     "name": "stderr",
     "output_type": "stream",
     "text": [
      "Processing Mappings:  44%|████▍     | 421/962 [32:04<1:20:03,  8.88s/mapping]"
     ]
    },
    {
     "name": "stdout",
     "output_type": "stream",
     "text": [
      "Completed 479to545\n",
      "\n",
      "\n",
      "\n",
      "Started 47to718\n"
     ]
    },
    {
     "name": "stderr",
     "output_type": "stream",
     "text": [
      "Processing Mappings:  44%|████▍     | 422/962 [32:13<1:19:49,  8.87s/mapping]"
     ]
    },
    {
     "name": "stdout",
     "output_type": "stream",
     "text": [
      "Completed 47to718\n",
      "\n",
      "\n",
      "\n",
      "Started 480to137\n"
     ]
    },
    {
     "name": "stderr",
     "output_type": "stream",
     "text": [
      "Processing Mappings:  44%|████▍     | 423/962 [32:22<1:19:38,  8.87s/mapping]"
     ]
    },
    {
     "name": "stdout",
     "output_type": "stream",
     "text": [
      "Completed 480to137\n",
      "\n",
      "\n",
      "\n",
      "Started 481to372\n"
     ]
    },
    {
     "name": "stderr",
     "output_type": "stream",
     "text": [
      "Processing Mappings:  44%|████▍     | 424/962 [32:30<1:19:27,  8.86s/mapping]"
     ]
    },
    {
     "name": "stdout",
     "output_type": "stream",
     "text": [
      "Completed 481to372\n",
      "\n",
      "\n",
      "\n",
      "Started 482to597\n"
     ]
    },
    {
     "name": "stderr",
     "output_type": "stream",
     "text": [
      "Processing Mappings:  44%|████▍     | 425/962 [32:39<1:19:17,  8.86s/mapping]"
     ]
    },
    {
     "name": "stdout",
     "output_type": "stream",
     "text": [
      "Completed 482to597\n",
      "\n",
      "\n",
      "\n",
      "Started 483to159\n"
     ]
    },
    {
     "name": "stderr",
     "output_type": "stream",
     "text": [
      "Processing Mappings:  44%|████▍     | 426/962 [32:48<1:19:07,  8.86s/mapping]"
     ]
    },
    {
     "name": "stdout",
     "output_type": "stream",
     "text": [
      "Completed 483to159\n",
      "\n",
      "\n",
      "\n",
      "Started 484to662\n"
     ]
    },
    {
     "name": "stderr",
     "output_type": "stream",
     "text": [
      "Processing Mappings:  44%|████▍     | 427/962 [32:57<1:18:56,  8.85s/mapping]"
     ]
    },
    {
     "name": "stdout",
     "output_type": "stream",
     "text": [
      "Completed 484to662\n",
      "\n",
      "\n",
      "\n",
      "Started 485to338\n"
     ]
    },
    {
     "name": "stderr",
     "output_type": "stream",
     "text": [
      "Processing Mappings:  44%|████▍     | 428/962 [33:06<1:18:47,  8.85s/mapping]"
     ]
    },
    {
     "name": "stdout",
     "output_type": "stream",
     "text": [
      "Completed 485to338\n",
      "\n",
      "\n",
      "\n",
      "Started 486to452\n"
     ]
    },
    {
     "name": "stderr",
     "output_type": "stream",
     "text": [
      "Processing Mappings:  45%|████▍     | 429/962 [33:15<1:18:38,  8.85s/mapping]"
     ]
    },
    {
     "name": "stdout",
     "output_type": "stream",
     "text": [
      "Completed 486to452\n",
      "\n",
      "\n",
      "\n",
      "Started 487to909\n"
     ]
    },
    {
     "name": "stderr",
     "output_type": "stream",
     "text": [
      "Processing Mappings:  45%|████▍     | 430/962 [33:23<1:18:01,  8.80s/mapping]"
     ]
    },
    {
     "name": "stdout",
     "output_type": "stream",
     "text": [
      "Completed 487to909\n",
      "\n",
      "\n",
      "\n",
      "Started 488to202\n"
     ]
    },
    {
     "name": "stderr",
     "output_type": "stream",
     "text": [
      "Processing Mappings:  45%|████▍     | 431/962 [33:32<1:18:00,  8.81s/mapping]"
     ]
    },
    {
     "name": "stdout",
     "output_type": "stream",
     "text": [
      "Completed 488to202\n",
      "\n",
      "\n",
      "\n",
      "Started 489to0\n"
     ]
    },
    {
     "name": "stderr",
     "output_type": "stream",
     "text": [
      "Processing Mappings:  45%|████▍     | 432/962 [33:41<1:17:57,  8.83s/mapping]"
     ]
    },
    {
     "name": "stdout",
     "output_type": "stream",
     "text": [
      "Completed 489to0\n",
      "\n",
      "\n",
      "\n",
      "Started 48to543\n"
     ]
    },
    {
     "name": "stderr",
     "output_type": "stream",
     "text": [
      "Processing Mappings:  45%|████▌     | 433/962 [33:50<1:18:00,  8.85s/mapping]"
     ]
    },
    {
     "name": "stdout",
     "output_type": "stream",
     "text": [
      "Completed 48to543\n",
      "\n",
      "\n",
      "\n",
      "Started 490to570\n"
     ]
    },
    {
     "name": "stderr",
     "output_type": "stream",
     "text": [
      "Processing Mappings:  45%|████▌     | 434/962 [33:59<1:17:53,  8.85s/mapping]"
     ]
    },
    {
     "name": "stdout",
     "output_type": "stream",
     "text": [
      "Completed 490to570\n",
      "\n",
      "\n",
      "\n",
      "Started 491to339\n"
     ]
    },
    {
     "name": "stderr",
     "output_type": "stream",
     "text": [
      "Processing Mappings:  45%|████▌     | 435/962 [34:08<1:17:44,  8.85s/mapping]"
     ]
    },
    {
     "name": "stdout",
     "output_type": "stream",
     "text": [
      "Completed 491to339\n",
      "\n",
      "\n",
      "\n",
      "Started 492to681\n"
     ]
    },
    {
     "name": "stderr",
     "output_type": "stream",
     "text": [
      "Processing Mappings:  45%|████▌     | 436/962 [34:17<1:17:36,  8.85s/mapping]"
     ]
    },
    {
     "name": "stdout",
     "output_type": "stream",
     "text": [
      "Completed 492to681\n",
      "\n",
      "\n",
      "\n",
      "Started 493to50\n"
     ]
    },
    {
     "name": "stderr",
     "output_type": "stream",
     "text": [
      "Processing Mappings:  45%|████▌     | 437/962 [34:25<1:17:28,  8.85s/mapping]"
     ]
    },
    {
     "name": "stdout",
     "output_type": "stream",
     "text": [
      "Completed 493to50\n",
      "\n",
      "\n",
      "\n",
      "Started 494to552\n"
     ]
    },
    {
     "name": "stderr",
     "output_type": "stream",
     "text": [
      "Processing Mappings:  46%|████▌     | 438/962 [34:34<1:17:19,  8.85s/mapping]"
     ]
    },
    {
     "name": "stdout",
     "output_type": "stream",
     "text": [
      "Completed 494to552\n",
      "\n",
      "\n",
      "\n",
      "Started 495to534\n"
     ]
    },
    {
     "name": "stderr",
     "output_type": "stream",
     "text": [
      "Processing Mappings:  46%|████▌     | 439/962 [34:43<1:17:11,  8.85s/mapping]"
     ]
    },
    {
     "name": "stdout",
     "output_type": "stream",
     "text": [
      "Completed 495to534\n",
      "\n",
      "\n",
      "\n",
      "Started 496to10\n"
     ]
    },
    {
     "name": "stderr",
     "output_type": "stream",
     "text": [
      "Processing Mappings:  46%|████▌     | 440/962 [34:52<1:17:02,  8.86s/mapping]"
     ]
    },
    {
     "name": "stdout",
     "output_type": "stream",
     "text": [
      "Completed 496to10\n",
      "\n",
      "\n",
      "\n",
      "Started 497to61\n"
     ]
    },
    {
     "name": "stderr",
     "output_type": "stream",
     "text": [
      "Processing Mappings:  46%|████▌     | 441/962 [35:01<1:16:53,  8.85s/mapping]"
     ]
    },
    {
     "name": "stdout",
     "output_type": "stream",
     "text": [
      "Completed 497to61\n",
      "\n",
      "\n",
      "\n",
      "Started 498to946\n"
     ]
    },
    {
     "name": "stderr",
     "output_type": "stream",
     "text": [
      "Processing Mappings:  46%|████▌     | 442/962 [35:09<1:15:46,  8.74s/mapping]"
     ]
    },
    {
     "name": "stdout",
     "output_type": "stream",
     "text": [
      "Completed 498to946\n",
      "\n",
      "\n",
      "\n",
      "Started 499to471\n"
     ]
    },
    {
     "name": "stderr",
     "output_type": "stream",
     "text": [
      "Processing Mappings:  46%|████▌     | 443/962 [35:18<1:15:58,  8.78s/mapping]"
     ]
    },
    {
     "name": "stdout",
     "output_type": "stream",
     "text": [
      "Completed 499to471\n",
      "\n",
      "\n",
      "\n",
      "Started 49to537\n"
     ]
    },
    {
     "name": "stderr",
     "output_type": "stream",
     "text": [
      "Processing Mappings:  46%|████▌     | 444/962 [35:27<1:16:09,  8.82s/mapping]"
     ]
    },
    {
     "name": "stdout",
     "output_type": "stream",
     "text": [
      "Completed 49to537\n",
      "\n",
      "\n",
      "\n",
      "Started 4to259\n"
     ]
    },
    {
     "name": "stderr",
     "output_type": "stream",
     "text": [
      "Processing Mappings:  46%|████▋     | 445/962 [35:36<1:16:21,  8.86s/mapping]"
     ]
    },
    {
     "name": "stdout",
     "output_type": "stream",
     "text": [
      "Completed 4to259\n",
      "\n",
      "\n",
      "\n",
      "Started 500to374\n"
     ]
    },
    {
     "name": "stderr",
     "output_type": "stream",
     "text": [
      "Processing Mappings:  46%|████▋     | 446/962 [35:45<1:16:16,  8.87s/mapping]"
     ]
    },
    {
     "name": "stdout",
     "output_type": "stream",
     "text": [
      "Completed 500to374\n",
      "\n",
      "\n",
      "\n",
      "Started 501to868\n"
     ]
    },
    {
     "name": "stderr",
     "output_type": "stream",
     "text": [
      "Processing Mappings:  46%|████▋     | 447/962 [35:54<1:15:47,  8.83s/mapping]"
     ]
    },
    {
     "name": "stdout",
     "output_type": "stream",
     "text": [
      "Completed 501to868\n",
      "\n",
      "\n",
      "\n",
      "Started 502to838\n"
     ]
    },
    {
     "name": "stderr",
     "output_type": "stream",
     "text": [
      "Processing Mappings:  47%|████▋     | 448/962 [36:03<1:15:54,  8.86s/mapping]"
     ]
    },
    {
     "name": "stdout",
     "output_type": "stream",
     "text": [
      "Completed 502to838\n",
      "\n",
      "\n",
      "\n",
      "Started 503to220\n"
     ]
    },
    {
     "name": "stderr",
     "output_type": "stream",
     "text": [
      "Processing Mappings:  47%|████▋     | 449/962 [36:11<1:15:45,  8.86s/mapping]"
     ]
    },
    {
     "name": "stdout",
     "output_type": "stream",
     "text": [
      "Completed 503to220\n",
      "\n",
      "\n",
      "\n",
      "Started 504to18\n"
     ]
    },
    {
     "name": "stderr",
     "output_type": "stream",
     "text": [
      "Processing Mappings:  47%|████▋     | 450/962 [36:20<1:15:36,  8.86s/mapping]"
     ]
    },
    {
     "name": "stdout",
     "output_type": "stream",
     "text": [
      "Completed 504to18\n",
      "\n",
      "\n",
      "\n",
      "Started 505to919\n"
     ]
    },
    {
     "name": "stderr",
     "output_type": "stream",
     "text": [
      "Processing Mappings:  47%|████▋     | 451/962 [36:29<1:14:19,  8.73s/mapping]"
     ]
    },
    {
     "name": "stdout",
     "output_type": "stream",
     "text": [
      "Completed 505to919\n",
      "\n",
      "\n",
      "\n",
      "Started 506to568\n"
     ]
    },
    {
     "name": "stderr",
     "output_type": "stream",
     "text": [
      "Processing Mappings:  47%|████▋     | 452/962 [36:38<1:14:30,  8.76s/mapping]"
     ]
    },
    {
     "name": "stdout",
     "output_type": "stream",
     "text": [
      "Completed 506to568\n",
      "\n",
      "\n",
      "\n",
      "Started 507to127\n"
     ]
    },
    {
     "name": "stderr",
     "output_type": "stream",
     "text": [
      "Processing Mappings:  47%|████▋     | 453/962 [36:46<1:14:36,  8.79s/mapping]"
     ]
    },
    {
     "name": "stdout",
     "output_type": "stream",
     "text": [
      "Completed 507to127\n",
      "\n",
      "\n",
      "\n",
      "Started 508to764\n"
     ]
    },
    {
     "name": "stderr",
     "output_type": "stream",
     "text": [
      "Processing Mappings:  47%|████▋     | 454/962 [36:55<1:14:37,  8.81s/mapping]"
     ]
    },
    {
     "name": "stdout",
     "output_type": "stream",
     "text": [
      "Completed 508to764\n",
      "\n",
      "\n",
      "\n",
      "Started 509to774\n"
     ]
    },
    {
     "name": "stderr",
     "output_type": "stream",
     "text": [
      "Processing Mappings:  47%|████▋     | 455/962 [37:04<1:14:36,  8.83s/mapping]"
     ]
    },
    {
     "name": "stdout",
     "output_type": "stream",
     "text": [
      "Completed 509to774\n",
      "\n",
      "\n",
      "\n",
      "Started 50to285\n"
     ]
    },
    {
     "name": "stderr",
     "output_type": "stream",
     "text": [
      "Processing Mappings:  47%|████▋     | 456/962 [37:13<1:14:32,  8.84s/mapping]"
     ]
    },
    {
     "name": "stdout",
     "output_type": "stream",
     "text": [
      "Completed 50to285\n",
      "\n",
      "\n",
      "\n",
      "Started 510to342\n"
     ]
    },
    {
     "name": "stderr",
     "output_type": "stream",
     "text": [
      "Processing Mappings:  48%|████▊     | 457/962 [37:22<1:14:26,  8.84s/mapping]"
     ]
    },
    {
     "name": "stdout",
     "output_type": "stream",
     "text": [
      "Completed 510to342\n",
      "\n",
      "\n",
      "\n",
      "Started 511to878\n"
     ]
    },
    {
     "name": "stderr",
     "output_type": "stream",
     "text": [
      "Processing Mappings:  48%|████▊     | 458/962 [37:31<1:13:46,  8.78s/mapping]"
     ]
    },
    {
     "name": "stdout",
     "output_type": "stream",
     "text": [
      "Completed 511to878\n",
      "\n",
      "\n",
      "\n",
      "Started 512to319\n"
     ]
    },
    {
     "name": "stderr",
     "output_type": "stream",
     "text": [
      "Processing Mappings:  48%|████▊     | 459/962 [37:39<1:13:48,  8.80s/mapping]"
     ]
    },
    {
     "name": "stdout",
     "output_type": "stream",
     "text": [
      "Completed 512to319\n",
      "\n",
      "\n",
      "\n",
      "Started 513to386\n"
     ]
    },
    {
     "name": "stderr",
     "output_type": "stream",
     "text": [
      "Processing Mappings:  48%|████▊     | 460/962 [37:48<1:13:51,  8.83s/mapping]"
     ]
    },
    {
     "name": "stdout",
     "output_type": "stream",
     "text": [
      "Completed 513to386\n",
      "\n",
      "\n",
      "\n",
      "Started 514to198\n"
     ]
    },
    {
     "name": "stderr",
     "output_type": "stream",
     "text": [
      "Processing Mappings:  48%|████▊     | 461/962 [37:57<1:13:53,  8.85s/mapping]"
     ]
    },
    {
     "name": "stdout",
     "output_type": "stream",
     "text": [
      "Completed 514to198\n",
      "\n",
      "\n",
      "\n",
      "Started 515to735\n"
     ]
    },
    {
     "name": "stderr",
     "output_type": "stream",
     "text": [
      "Processing Mappings:  48%|████▊     | 462/962 [38:06<1:13:47,  8.85s/mapping]"
     ]
    },
    {
     "name": "stdout",
     "output_type": "stream",
     "text": [
      "Completed 515to735\n",
      "\n",
      "\n",
      "\n",
      "Started 516to357\n"
     ]
    },
    {
     "name": "stderr",
     "output_type": "stream",
     "text": [
      "Processing Mappings:  48%|████▊     | 463/962 [38:15<1:13:41,  8.86s/mapping]"
     ]
    },
    {
     "name": "stdout",
     "output_type": "stream",
     "text": [
      "Completed 516to357\n",
      "\n",
      "\n",
      "\n",
      "Started 517to904\n"
     ]
    },
    {
     "name": "stderr",
     "output_type": "stream",
     "text": [
      "Processing Mappings:  48%|████▊     | 464/962 [38:23<1:12:41,  8.76s/mapping]"
     ]
    },
    {
     "name": "stdout",
     "output_type": "stream",
     "text": [
      "Completed 517to904\n",
      "\n",
      "\n",
      "\n",
      "Started 518to230\n"
     ]
    },
    {
     "name": "stderr",
     "output_type": "stream",
     "text": [
      "Processing Mappings:  48%|████▊     | 465/962 [38:32<1:12:49,  8.79s/mapping]"
     ]
    },
    {
     "name": "stdout",
     "output_type": "stream",
     "text": [
      "Completed 518to230\n",
      "\n",
      "\n",
      "\n",
      "Started 519to141\n"
     ]
    },
    {
     "name": "stderr",
     "output_type": "stream",
     "text": [
      "Processing Mappings:  48%|████▊     | 466/962 [38:41<1:12:51,  8.81s/mapping]"
     ]
    },
    {
     "name": "stdout",
     "output_type": "stream",
     "text": [
      "Completed 519to141\n",
      "\n",
      "\n",
      "\n",
      "Started 51to912\n"
     ]
    },
    {
     "name": "stderr",
     "output_type": "stream",
     "text": [
      "Processing Mappings:  49%|████▊     | 467/962 [38:50<1:11:50,  8.71s/mapping]"
     ]
    },
    {
     "name": "stdout",
     "output_type": "stream",
     "text": [
      "Completed 51to912\n",
      "\n",
      "\n",
      "\n",
      "Started 520to515\n"
     ]
    },
    {
     "name": "stderr",
     "output_type": "stream",
     "text": [
      "Processing Mappings:  49%|████▊     | 468/962 [38:58<1:12:03,  8.75s/mapping]"
     ]
    },
    {
     "name": "stdout",
     "output_type": "stream",
     "text": [
      "Completed 520to515\n",
      "\n",
      "\n",
      "\n",
      "Started 521to248\n"
     ]
    },
    {
     "name": "stderr",
     "output_type": "stream",
     "text": [
      "Processing Mappings:  49%|████▉     | 469/962 [39:07<1:12:11,  8.79s/mapping]"
     ]
    },
    {
     "name": "stdout",
     "output_type": "stream",
     "text": [
      "Completed 521to248\n",
      "\n",
      "\n",
      "\n",
      "Started 522to827\n"
     ]
    },
    {
     "name": "stderr",
     "output_type": "stream",
     "text": [
      "Processing Mappings:  49%|████▉     | 470/962 [39:16<1:12:10,  8.80s/mapping]"
     ]
    },
    {
     "name": "stdout",
     "output_type": "stream",
     "text": [
      "Completed 522to827\n",
      "\n",
      "\n",
      "\n",
      "Started 523to199\n"
     ]
    },
    {
     "name": "stderr",
     "output_type": "stream",
     "text": [
      "Processing Mappings:  49%|████▉     | 471/962 [39:25<1:12:09,  8.82s/mapping]"
     ]
    },
    {
     "name": "stdout",
     "output_type": "stream",
     "text": [
      "Completed 523to199\n",
      "\n",
      "\n",
      "\n",
      "Started 524to601\n"
     ]
    },
    {
     "name": "stderr",
     "output_type": "stream",
     "text": [
      "Processing Mappings:  49%|████▉     | 472/962 [39:34<1:12:05,  8.83s/mapping]"
     ]
    },
    {
     "name": "stdout",
     "output_type": "stream",
     "text": [
      "Completed 524to601\n",
      "\n",
      "\n",
      "\n",
      "Started 525to730\n"
     ]
    },
    {
     "name": "stderr",
     "output_type": "stream",
     "text": [
      "Processing Mappings:  49%|████▉     | 473/962 [39:43<1:12:06,  8.85s/mapping]"
     ]
    },
    {
     "name": "stdout",
     "output_type": "stream",
     "text": [
      "Completed 525to730\n",
      "\n",
      "\n",
      "\n",
      "Started 526to805\n"
     ]
    },
    {
     "name": "stderr",
     "output_type": "stream",
     "text": [
      "Processing Mappings:  49%|████▉     | 474/962 [39:52<1:11:52,  8.84s/mapping]"
     ]
    },
    {
     "name": "stdout",
     "output_type": "stream",
     "text": [
      "Completed 526to805\n",
      "\n",
      "\n",
      "\n",
      "Started 527to118\n"
     ]
    },
    {
     "name": "stderr",
     "output_type": "stream",
     "text": [
      "Processing Mappings:  49%|████▉     | 475/962 [40:00<1:11:48,  8.85s/mapping]"
     ]
    },
    {
     "name": "stdout",
     "output_type": "stream",
     "text": [
      "Completed 527to118\n",
      "\n",
      "\n",
      "\n",
      "Started 528to828\n"
     ]
    },
    {
     "name": "stderr",
     "output_type": "stream",
     "text": [
      "Processing Mappings:  49%|████▉     | 476/962 [40:09<1:11:15,  8.80s/mapping]"
     ]
    },
    {
     "name": "stdout",
     "output_type": "stream",
     "text": [
      "Completed 528to828\n",
      "\n",
      "\n",
      "\n",
      "Started 529to283\n"
     ]
    },
    {
     "name": "stderr",
     "output_type": "stream",
     "text": [
      "Processing Mappings:  50%|████▉     | 477/962 [40:18<1:11:15,  8.81s/mapping]"
     ]
    },
    {
     "name": "stdout",
     "output_type": "stream",
     "text": [
      "Completed 529to283\n",
      "\n",
      "\n",
      "\n",
      "Started 52to215\n"
     ]
    },
    {
     "name": "stderr",
     "output_type": "stream",
     "text": [
      "Processing Mappings:  50%|████▉     | 478/962 [40:27<1:11:11,  8.83s/mapping]"
     ]
    },
    {
     "name": "stdout",
     "output_type": "stream",
     "text": [
      "Completed 52to215\n",
      "\n",
      "\n",
      "\n",
      "Started 530to915\n"
     ]
    },
    {
     "name": "stderr",
     "output_type": "stream",
     "text": [
      "Processing Mappings:  50%|████▉     | 479/962 [40:36<1:10:47,  8.79s/mapping]"
     ]
    },
    {
     "name": "stdout",
     "output_type": "stream",
     "text": [
      "Completed 530to915\n",
      "\n",
      "\n",
      "\n",
      "Started 531to690\n"
     ]
    },
    {
     "name": "stderr",
     "output_type": "stream",
     "text": [
      "Processing Mappings:  50%|████▉     | 480/962 [40:44<1:10:46,  8.81s/mapping]"
     ]
    },
    {
     "name": "stdout",
     "output_type": "stream",
     "text": [
      "Completed 531to690\n",
      "\n",
      "\n",
      "\n",
      "Started 532to497\n"
     ]
    },
    {
     "name": "stderr",
     "output_type": "stream",
     "text": [
      "Processing Mappings:  50%|█████     | 481/962 [40:53<1:10:44,  8.82s/mapping]"
     ]
    },
    {
     "name": "stdout",
     "output_type": "stream",
     "text": [
      "Completed 532to497\n",
      "\n",
      "\n",
      "\n",
      "Started 533to478\n"
     ]
    },
    {
     "name": "stderr",
     "output_type": "stream",
     "text": [
      "Processing Mappings:  50%|█████     | 482/962 [41:02<1:10:40,  8.83s/mapping]"
     ]
    },
    {
     "name": "stdout",
     "output_type": "stream",
     "text": [
      "Completed 533to478\n",
      "\n",
      "\n",
      "\n",
      "Started 534to668\n"
     ]
    },
    {
     "name": "stderr",
     "output_type": "stream",
     "text": [
      "Processing Mappings:  50%|█████     | 483/962 [41:11<1:10:34,  8.84s/mapping]"
     ]
    },
    {
     "name": "stdout",
     "output_type": "stream",
     "text": [
      "Completed 534to668\n",
      "\n",
      "\n",
      "\n",
      "Started 535to604\n"
     ]
    },
    {
     "name": "stderr",
     "output_type": "stream",
     "text": [
      "Processing Mappings:  50%|█████     | 484/962 [41:20<1:10:27,  8.84s/mapping]"
     ]
    },
    {
     "name": "stdout",
     "output_type": "stream",
     "text": [
      "Completed 535to604\n",
      "\n",
      "\n",
      "\n",
      "Started 536to272\n"
     ]
    },
    {
     "name": "stderr",
     "output_type": "stream",
     "text": [
      "Processing Mappings:  50%|█████     | 485/962 [41:29<1:10:20,  8.85s/mapping]"
     ]
    },
    {
     "name": "stdout",
     "output_type": "stream",
     "text": [
      "Completed 536to272\n",
      "\n",
      "\n",
      "\n",
      "Started 537to706\n"
     ]
    },
    {
     "name": "stderr",
     "output_type": "stream",
     "text": [
      "Processing Mappings:  51%|█████     | 486/962 [41:38<1:10:23,  8.87s/mapping]"
     ]
    },
    {
     "name": "stdout",
     "output_type": "stream",
     "text": [
      "Completed 537to706\n",
      "\n",
      "\n",
      "\n",
      "Started 538to475\n"
     ]
    },
    {
     "name": "stderr",
     "output_type": "stream",
     "text": [
      "Processing Mappings:  51%|█████     | 487/962 [41:47<1:10:28,  8.90s/mapping]"
     ]
    },
    {
     "name": "stdout",
     "output_type": "stream",
     "text": [
      "Completed 538to475\n",
      "\n",
      "\n",
      "\n",
      "Started 539to62\n"
     ]
    },
    {
     "name": "stderr",
     "output_type": "stream",
     "text": [
      "Processing Mappings:  51%|█████     | 488/962 [41:55<1:10:17,  8.90s/mapping]"
     ]
    },
    {
     "name": "stdout",
     "output_type": "stream",
     "text": [
      "Completed 539to62\n",
      "\n",
      "\n",
      "\n",
      "Started 53to166\n"
     ]
    },
    {
     "name": "stderr",
     "output_type": "stream",
     "text": [
      "Processing Mappings:  51%|█████     | 489/962 [42:04<1:10:06,  8.89s/mapping]"
     ]
    },
    {
     "name": "stdout",
     "output_type": "stream",
     "text": [
      "Completed 53to166\n",
      "\n",
      "\n",
      "\n",
      "Started 540to351\n"
     ]
    },
    {
     "name": "stderr",
     "output_type": "stream",
     "text": [
      "Processing Mappings:  51%|█████     | 490/962 [42:13<1:09:56,  8.89s/mapping]"
     ]
    },
    {
     "name": "stdout",
     "output_type": "stream",
     "text": [
      "Completed 540to351\n",
      "\n",
      "\n",
      "\n",
      "Started 541to819\n"
     ]
    },
    {
     "name": "stderr",
     "output_type": "stream",
     "text": [
      "Processing Mappings:  51%|█████     | 491/962 [42:22<1:09:13,  8.82s/mapping]"
     ]
    },
    {
     "name": "stdout",
     "output_type": "stream",
     "text": [
      "Completed 541to819\n",
      "\n",
      "\n",
      "\n",
      "Started 542to180\n"
     ]
    },
    {
     "name": "stderr",
     "output_type": "stream",
     "text": [
      "Processing Mappings:  51%|█████     | 492/962 [42:31<1:09:11,  8.83s/mapping]"
     ]
    },
    {
     "name": "stdout",
     "output_type": "stream",
     "text": [
      "Completed 542to180\n",
      "\n",
      "\n",
      "\n",
      "Started 543to884\n"
     ]
    },
    {
     "name": "stderr",
     "output_type": "stream",
     "text": [
      "Processing Mappings:  51%|█████     | 493/962 [42:39<1:08:29,  8.76s/mapping]"
     ]
    },
    {
     "name": "stdout",
     "output_type": "stream",
     "text": [
      "Completed 543to884\n",
      "\n",
      "\n",
      "\n",
      "Started 544to846\n"
     ]
    },
    {
     "name": "stderr",
     "output_type": "stream",
     "text": [
      "Processing Mappings:  51%|█████▏    | 494/962 [42:48<1:07:59,  8.72s/mapping]"
     ]
    },
    {
     "name": "stdout",
     "output_type": "stream",
     "text": [
      "Completed 544to846\n",
      "\n",
      "\n",
      "\n",
      "Started 545to75\n"
     ]
    },
    {
     "name": "stderr",
     "output_type": "stream",
     "text": [
      "Processing Mappings:  51%|█████▏    | 495/962 [42:57<1:08:11,  8.76s/mapping]"
     ]
    },
    {
     "name": "stdout",
     "output_type": "stream",
     "text": [
      "Completed 545to75\n",
      "\n",
      "\n",
      "\n",
      "Started 546to524\n"
     ]
    },
    {
     "name": "stderr",
     "output_type": "stream",
     "text": [
      "Processing Mappings:  52%|█████▏    | 496/962 [43:06<1:08:14,  8.79s/mapping]"
     ]
    },
    {
     "name": "stdout",
     "output_type": "stream",
     "text": [
      "Completed 546to524\n",
      "\n",
      "\n",
      "\n",
      "Started 547to223\n"
     ]
    },
    {
     "name": "stderr",
     "output_type": "stream",
     "text": [
      "Processing Mappings:  52%|█████▏    | 497/962 [43:15<1:08:15,  8.81s/mapping]"
     ]
    },
    {
     "name": "stdout",
     "output_type": "stream",
     "text": [
      "Completed 547to223\n",
      "\n",
      "\n",
      "\n",
      "Started 548to442\n"
     ]
    },
    {
     "name": "stderr",
     "output_type": "stream",
     "text": [
      "Processing Mappings:  52%|█████▏    | 498/962 [43:23<1:08:13,  8.82s/mapping]"
     ]
    },
    {
     "name": "stdout",
     "output_type": "stream",
     "text": [
      "Completed 548to442\n",
      "\n",
      "\n",
      "\n",
      "Started 549to503\n"
     ]
    },
    {
     "name": "stderr",
     "output_type": "stream",
     "text": [
      "Processing Mappings:  52%|█████▏    | 499/962 [43:32<1:08:08,  8.83s/mapping]"
     ]
    },
    {
     "name": "stdout",
     "output_type": "stream",
     "text": [
      "Completed 549to503\n",
      "\n",
      "\n",
      "\n",
      "Started 54to892\n"
     ]
    },
    {
     "name": "stderr",
     "output_type": "stream",
     "text": [
      "Processing Mappings:  52%|█████▏    | 500/962 [43:41<1:07:33,  8.77s/mapping]"
     ]
    },
    {
     "name": "stdout",
     "output_type": "stream",
     "text": [
      "Completed 54to892\n",
      "\n",
      "\n",
      "\n",
      "Started 550to721\n"
     ]
    },
    {
     "name": "stderr",
     "output_type": "stream",
     "text": [
      "Processing Mappings:  52%|█████▏    | 501/962 [43:50<1:07:36,  8.80s/mapping]"
     ]
    },
    {
     "name": "stdout",
     "output_type": "stream",
     "text": [
      "Completed 550to721\n",
      "\n",
      "\n",
      "\n",
      "Started 551to142\n"
     ]
    },
    {
     "name": "stderr",
     "output_type": "stream",
     "text": [
      "Processing Mappings:  52%|█████▏    | 502/962 [43:59<1:07:36,  8.82s/mapping]"
     ]
    },
    {
     "name": "stdout",
     "output_type": "stream",
     "text": [
      "Completed 551to142\n",
      "\n",
      "\n",
      "\n",
      "Started 552to28\n"
     ]
    },
    {
     "name": "stderr",
     "output_type": "stream",
     "text": [
      "Processing Mappings:  52%|█████▏    | 503/962 [44:07<1:07:32,  8.83s/mapping]"
     ]
    },
    {
     "name": "stdout",
     "output_type": "stream",
     "text": [
      "Completed 552to28\n",
      "\n",
      "\n",
      "\n",
      "Started 553to448\n"
     ]
    },
    {
     "name": "stderr",
     "output_type": "stream",
     "text": [
      "Processing Mappings:  52%|█████▏    | 504/962 [44:16<1:07:27,  8.84s/mapping]"
     ]
    },
    {
     "name": "stdout",
     "output_type": "stream",
     "text": [
      "Completed 553to448\n",
      "\n",
      "\n",
      "\n",
      "Started 554to634\n"
     ]
    },
    {
     "name": "stderr",
     "output_type": "stream",
     "text": [
      "Processing Mappings:  52%|█████▏    | 505/962 [44:25<1:07:20,  8.84s/mapping]"
     ]
    },
    {
     "name": "stdout",
     "output_type": "stream",
     "text": [
      "Completed 554to634\n",
      "\n",
      "\n",
      "\n",
      "Started 555to490\n"
     ]
    },
    {
     "name": "stderr",
     "output_type": "stream",
     "text": [
      "Processing Mappings:  53%|█████▎    | 506/962 [44:34<1:07:12,  8.84s/mapping]"
     ]
    },
    {
     "name": "stdout",
     "output_type": "stream",
     "text": [
      "Completed 555to490\n",
      "\n",
      "\n",
      "\n",
      "Started 556to194\n"
     ]
    },
    {
     "name": "stderr",
     "output_type": "stream",
     "text": [
      "Processing Mappings:  53%|█████▎    | 507/962 [44:43<1:07:04,  8.84s/mapping]"
     ]
    },
    {
     "name": "stdout",
     "output_type": "stream",
     "text": [
      "Completed 556to194\n",
      "\n",
      "\n",
      "\n",
      "Started 557to405\n"
     ]
    },
    {
     "name": "stderr",
     "output_type": "stream",
     "text": [
      "Processing Mappings:  53%|█████▎    | 508/962 [44:52<1:06:57,  8.85s/mapping]"
     ]
    },
    {
     "name": "stdout",
     "output_type": "stream",
     "text": [
      "Completed 557to405\n",
      "\n",
      "\n",
      "\n",
      "Started 558to688\n"
     ]
    },
    {
     "name": "stderr",
     "output_type": "stream",
     "text": [
      "Processing Mappings:  53%|█████▎    | 509/962 [45:01<1:06:47,  8.85s/mapping]"
     ]
    },
    {
     "name": "stdout",
     "output_type": "stream",
     "text": [
      "Completed 558to688\n",
      "\n",
      "\n",
      "\n",
      "Started 559to78\n"
     ]
    },
    {
     "name": "stderr",
     "output_type": "stream",
     "text": [
      "Processing Mappings:  53%|█████▎    | 510/962 [45:09<1:06:39,  8.85s/mapping]"
     ]
    },
    {
     "name": "stdout",
     "output_type": "stream",
     "text": [
      "Completed 559to78\n",
      "\n",
      "\n",
      "\n",
      "Started 55to535\n"
     ]
    },
    {
     "name": "stderr",
     "output_type": "stream",
     "text": [
      "Processing Mappings:  53%|█████▎    | 511/962 [45:18<1:06:32,  8.85s/mapping]"
     ]
    },
    {
     "name": "stdout",
     "output_type": "stream",
     "text": [
      "Completed 55to535\n",
      "\n",
      "\n",
      "\n",
      "Started 560to788\n"
     ]
    },
    {
     "name": "stderr",
     "output_type": "stream",
     "text": [
      "Processing Mappings:  53%|█████▎    | 512/962 [45:27<1:05:47,  8.77s/mapping]"
     ]
    },
    {
     "name": "stdout",
     "output_type": "stream",
     "text": [
      "Completed 560to788\n",
      "\n",
      "\n",
      "\n",
      "Started 561to644\n"
     ]
    },
    {
     "name": "stderr",
     "output_type": "stream",
     "text": [
      "Processing Mappings:  53%|█████▎    | 513/962 [45:36<1:06:04,  8.83s/mapping]"
     ]
    },
    {
     "name": "stdout",
     "output_type": "stream",
     "text": [
      "Completed 561to644\n",
      "\n",
      "\n",
      "\n",
      "Started 562to501\n"
     ]
    },
    {
     "name": "stderr",
     "output_type": "stream",
     "text": [
      "Processing Mappings:  53%|█████▎    | 514/962 [45:45<1:05:58,  8.84s/mapping]"
     ]
    },
    {
     "name": "stdout",
     "output_type": "stream",
     "text": [
      "Completed 562to501\n",
      "\n",
      "\n",
      "\n",
      "Started 563to523\n"
     ]
    },
    {
     "name": "stderr",
     "output_type": "stream",
     "text": [
      "Processing Mappings:  54%|█████▎    | 515/962 [45:54<1:05:52,  8.84s/mapping]"
     ]
    },
    {
     "name": "stdout",
     "output_type": "stream",
     "text": [
      "Completed 563to523\n",
      "\n",
      "\n",
      "\n",
      "Started 564to804\n"
     ]
    },
    {
     "name": "stderr",
     "output_type": "stream",
     "text": [
      "Processing Mappings:  54%|█████▎    | 516/962 [46:02<1:05:03,  8.75s/mapping]"
     ]
    },
    {
     "name": "stdout",
     "output_type": "stream",
     "text": [
      "Completed 564to804\n",
      "\n",
      "\n",
      "\n",
      "Started 565to890\n"
     ]
    },
    {
     "name": "stderr",
     "output_type": "stream",
     "text": [
      "Processing Mappings:  54%|█████▎    | 517/962 [46:11<1:04:23,  8.68s/mapping]"
     ]
    },
    {
     "name": "stdout",
     "output_type": "stream",
     "text": [
      "Completed 565to890\n",
      "\n",
      "\n",
      "\n",
      "Started 566to765\n"
     ]
    },
    {
     "name": "stderr",
     "output_type": "stream",
     "text": [
      "Processing Mappings:  54%|█████▍    | 518/962 [46:19<1:04:39,  8.74s/mapping]"
     ]
    },
    {
     "name": "stdout",
     "output_type": "stream",
     "text": [
      "Completed 566to765\n",
      "\n",
      "\n",
      "\n",
      "Started 567to150\n"
     ]
    },
    {
     "name": "stderr",
     "output_type": "stream",
     "text": [
      "Processing Mappings:  54%|█████▍    | 519/962 [46:28<1:04:46,  8.77s/mapping]"
     ]
    },
    {
     "name": "stdout",
     "output_type": "stream",
     "text": [
      "Completed 567to150\n",
      "\n",
      "\n",
      "\n",
      "Started 568to823\n"
     ]
    },
    {
     "name": "stderr",
     "output_type": "stream",
     "text": [
      "Processing Mappings:  54%|█████▍    | 520/962 [46:37<1:04:24,  8.74s/mapping]"
     ]
    },
    {
     "name": "stdout",
     "output_type": "stream",
     "text": [
      "Completed 568to823\n",
      "\n",
      "\n",
      "\n",
      "Started 569to749\n"
     ]
    },
    {
     "name": "stderr",
     "output_type": "stream",
     "text": [
      "Processing Mappings:  54%|█████▍    | 521/962 [46:46<1:04:30,  8.78s/mapping]"
     ]
    },
    {
     "name": "stdout",
     "output_type": "stream",
     "text": [
      "Completed 569to749\n",
      "\n",
      "\n",
      "\n",
      "Started 56to120\n"
     ]
    },
    {
     "name": "stderr",
     "output_type": "stream",
     "text": [
      "Processing Mappings:  54%|█████▍    | 522/962 [46:55<1:04:30,  8.80s/mapping]"
     ]
    },
    {
     "name": "stdout",
     "output_type": "stream",
     "text": [
      "Completed 56to120\n",
      "\n",
      "\n",
      "\n",
      "Started 570to89\n"
     ]
    },
    {
     "name": "stderr",
     "output_type": "stream",
     "text": [
      "Processing Mappings:  54%|█████▍    | 523/962 [47:04<1:04:30,  8.82s/mapping]"
     ]
    },
    {
     "name": "stdout",
     "output_type": "stream",
     "text": [
      "Completed 570to89\n",
      "\n",
      "\n",
      "\n",
      "Started 571to599\n"
     ]
    },
    {
     "name": "stderr",
     "output_type": "stream",
     "text": [
      "Processing Mappings:  54%|█████▍    | 524/962 [47:12<1:04:31,  8.84s/mapping]"
     ]
    },
    {
     "name": "stdout",
     "output_type": "stream",
     "text": [
      "Completed 571to599\n",
      "\n",
      "\n",
      "\n",
      "Started 572to781\n"
     ]
    },
    {
     "name": "stderr",
     "output_type": "stream",
     "text": [
      "Processing Mappings:  55%|█████▍    | 525/962 [47:21<1:04:07,  8.81s/mapping]"
     ]
    },
    {
     "name": "stdout",
     "output_type": "stream",
     "text": [
      "Completed 572to781\n",
      "\n",
      "\n",
      "\n",
      "Started 573to911\n"
     ]
    },
    {
     "name": "stderr",
     "output_type": "stream",
     "text": [
      "Processing Mappings:  55%|█████▍    | 526/962 [47:30<1:03:43,  8.77s/mapping]"
     ]
    },
    {
     "name": "stdout",
     "output_type": "stream",
     "text": [
      "Completed 573to911\n",
      "\n",
      "\n",
      "\n",
      "Started 574to42\n"
     ]
    },
    {
     "name": "stderr",
     "output_type": "stream",
     "text": [
      "Processing Mappings:  55%|█████▍    | 527/962 [47:39<1:03:53,  8.81s/mapping]"
     ]
    },
    {
     "name": "stdout",
     "output_type": "stream",
     "text": [
      "Completed 574to42\n",
      "\n",
      "\n",
      "\n",
      "Started 575to430\n"
     ]
    },
    {
     "name": "stderr",
     "output_type": "stream",
     "text": [
      "Processing Mappings:  55%|█████▍    | 528/962 [47:48<1:03:52,  8.83s/mapping]"
     ]
    },
    {
     "name": "stdout",
     "output_type": "stream",
     "text": [
      "Completed 575to430\n",
      "\n",
      "\n",
      "\n",
      "Started 576to284\n"
     ]
    },
    {
     "name": "stderr",
     "output_type": "stream",
     "text": [
      "Processing Mappings:  55%|█████▍    | 529/962 [47:56<1:03:46,  8.84s/mapping]"
     ]
    },
    {
     "name": "stdout",
     "output_type": "stream",
     "text": [
      "Completed 576to284\n",
      "\n",
      "\n",
      "\n",
      "Started 577to908\n"
     ]
    },
    {
     "name": "stderr",
     "output_type": "stream",
     "text": [
      "Processing Mappings:  55%|█████▌    | 530/962 [48:05<1:03:44,  8.85s/mapping]"
     ]
    },
    {
     "name": "stdout",
     "output_type": "stream",
     "text": [
      "Completed 577to908\n",
      "\n",
      "\n",
      "\n",
      "Started 578to316\n"
     ]
    },
    {
     "name": "stderr",
     "output_type": "stream",
     "text": [
      "Processing Mappings:  55%|█████▌    | 531/962 [48:14<1:03:37,  8.86s/mapping]"
     ]
    },
    {
     "name": "stdout",
     "output_type": "stream",
     "text": [
      "Completed 578to316\n",
      "\n",
      "\n",
      "\n",
      "Started 579to785\n"
     ]
    },
    {
     "name": "stderr",
     "output_type": "stream",
     "text": [
      "Processing Mappings:  55%|█████▌    | 532/962 [48:23<1:03:07,  8.81s/mapping]"
     ]
    },
    {
     "name": "stdout",
     "output_type": "stream",
     "text": [
      "Completed 579to785\n",
      "\n",
      "\n",
      "\n",
      "Started 57to770\n"
     ]
    },
    {
     "name": "stderr",
     "output_type": "stream",
     "text": [
      "Processing Mappings:  55%|█████▌    | 533/962 [48:32<1:03:05,  8.82s/mapping]"
     ]
    },
    {
     "name": "stdout",
     "output_type": "stream",
     "text": [
      "Completed 57to770\n",
      "\n",
      "\n",
      "\n",
      "Started 580to750\n"
     ]
    },
    {
     "name": "stderr",
     "output_type": "stream",
     "text": [
      "Processing Mappings:  56%|█████▌    | 534/962 [48:41<1:03:01,  8.83s/mapping]"
     ]
    },
    {
     "name": "stdout",
     "output_type": "stream",
     "text": [
      "Completed 580to750\n",
      "\n",
      "\n",
      "\n",
      "Started 581to129\n"
     ]
    },
    {
     "name": "stderr",
     "output_type": "stream",
     "text": [
      "Processing Mappings:  56%|█████▌    | 535/962 [48:50<1:02:54,  8.84s/mapping]"
     ]
    },
    {
     "name": "stdout",
     "output_type": "stream",
     "text": [
      "Completed 581to129\n",
      "\n",
      "\n",
      "\n",
      "Started 582to435\n"
     ]
    },
    {
     "name": "stderr",
     "output_type": "stream",
     "text": [
      "Processing Mappings:  56%|█████▌    | 536/962 [48:58<1:02:50,  8.85s/mapping]"
     ]
    },
    {
     "name": "stdout",
     "output_type": "stream",
     "text": [
      "Completed 582to435\n",
      "\n",
      "\n",
      "\n",
      "Started 583to347\n"
     ]
    },
    {
     "name": "stderr",
     "output_type": "stream",
     "text": [
      "Processing Mappings:  56%|█████▌    | 537/962 [49:07<1:02:46,  8.86s/mapping]"
     ]
    },
    {
     "name": "stdout",
     "output_type": "stream",
     "text": [
      "Completed 583to347\n",
      "\n",
      "\n",
      "\n",
      "Started 584to631\n"
     ]
    },
    {
     "name": "stderr",
     "output_type": "stream",
     "text": [
      "Processing Mappings:  56%|█████▌    | 538/962 [49:16<1:02:47,  8.88s/mapping]"
     ]
    },
    {
     "name": "stdout",
     "output_type": "stream",
     "text": [
      "Completed 584to631\n",
      "\n",
      "\n",
      "\n",
      "Started 585to416\n"
     ]
    },
    {
     "name": "stderr",
     "output_type": "stream",
     "text": [
      "Processing Mappings:  56%|█████▌    | 539/962 [49:25<1:02:38,  8.88s/mapping]"
     ]
    },
    {
     "name": "stdout",
     "output_type": "stream",
     "text": [
      "Completed 585to416\n",
      "\n",
      "\n",
      "\n",
      "Started 586to751\n"
     ]
    },
    {
     "name": "stderr",
     "output_type": "stream",
     "text": [
      "Processing Mappings:  56%|█████▌    | 540/962 [49:34<1:02:34,  8.90s/mapping]"
     ]
    },
    {
     "name": "stdout",
     "output_type": "stream",
     "text": [
      "Completed 586to751\n",
      "\n",
      "\n",
      "\n",
      "Started 587to697\n"
     ]
    },
    {
     "name": "stderr",
     "output_type": "stream",
     "text": [
      "Processing Mappings:  56%|█████▌    | 541/962 [49:43<1:02:20,  8.88s/mapping]"
     ]
    },
    {
     "name": "stdout",
     "output_type": "stream",
     "text": [
      "Completed 587to697\n",
      "\n",
      "\n",
      "\n",
      "Started 588to695\n"
     ]
    },
    {
     "name": "stderr",
     "output_type": "stream",
     "text": [
      "Processing Mappings:  56%|█████▋    | 542/962 [49:52<1:02:08,  8.88s/mapping]"
     ]
    },
    {
     "name": "stdout",
     "output_type": "stream",
     "text": [
      "Completed 588to695\n",
      "\n",
      "\n",
      "\n",
      "Started 589to205\n"
     ]
    },
    {
     "name": "stderr",
     "output_type": "stream",
     "text": [
      "Processing Mappings:  56%|█████▋    | 543/962 [50:01<1:01:56,  8.87s/mapping]"
     ]
    },
    {
     "name": "stdout",
     "output_type": "stream",
     "text": [
      "Completed 589to205\n",
      "\n",
      "\n",
      "\n",
      "Started 58to116\n"
     ]
    },
    {
     "name": "stderr",
     "output_type": "stream",
     "text": [
      "Processing Mappings:  57%|█████▋    | 544/962 [50:09<1:01:46,  8.87s/mapping]"
     ]
    },
    {
     "name": "stdout",
     "output_type": "stream",
     "text": [
      "Completed 58to116\n",
      "\n",
      "\n",
      "\n",
      "Started 590to918\n"
     ]
    },
    {
     "name": "stderr",
     "output_type": "stream",
     "text": [
      "Processing Mappings:  57%|█████▋    | 545/962 [50:18<1:01:16,  8.82s/mapping]"
     ]
    },
    {
     "name": "stdout",
     "output_type": "stream",
     "text": [
      "Completed 590to918\n",
      "\n",
      "\n",
      "\n",
      "Started 591to702\n"
     ]
    },
    {
     "name": "stderr",
     "output_type": "stream",
     "text": [
      "Processing Mappings:  57%|█████▋    | 546/962 [50:27<1:01:12,  8.83s/mapping]"
     ]
    },
    {
     "name": "stdout",
     "output_type": "stream",
     "text": [
      "Completed 591to702\n",
      "\n",
      "\n",
      "\n",
      "Started 592to428\n"
     ]
    },
    {
     "name": "stderr",
     "output_type": "stream",
     "text": [
      "Processing Mappings:  57%|█████▋    | 547/962 [50:36<1:01:08,  8.84s/mapping]"
     ]
    },
    {
     "name": "stdout",
     "output_type": "stream",
     "text": [
      "Completed 592to428\n",
      "\n",
      "\n",
      "\n",
      "Started 593to219\n"
     ]
    },
    {
     "name": "stderr",
     "output_type": "stream",
     "text": [
      "Processing Mappings:  57%|█████▋    | 548/962 [50:45<1:01:01,  8.84s/mapping]"
     ]
    },
    {
     "name": "stdout",
     "output_type": "stream",
     "text": [
      "Completed 593to219\n",
      "\n",
      "\n",
      "\n",
      "Started 594to366\n"
     ]
    },
    {
     "name": "stderr",
     "output_type": "stream",
     "text": [
      "Processing Mappings:  57%|█████▋    | 549/962 [50:54<1:00:54,  8.85s/mapping]"
     ]
    },
    {
     "name": "stdout",
     "output_type": "stream",
     "text": [
      "Completed 594to366\n",
      "\n",
      "\n",
      "\n",
      "Started 595to66\n"
     ]
    },
    {
     "name": "stderr",
     "output_type": "stream",
     "text": [
      "Processing Mappings:  57%|█████▋    | 550/962 [51:02<1:00:47,  8.85s/mapping]"
     ]
    },
    {
     "name": "stdout",
     "output_type": "stream",
     "text": [
      "Completed 595to66\n",
      "\n",
      "\n",
      "\n",
      "Started 596to752\n"
     ]
    },
    {
     "name": "stderr",
     "output_type": "stream",
     "text": [
      "Processing Mappings:  57%|█████▋    | 551/962 [51:11<1:00:39,  8.85s/mapping]"
     ]
    },
    {
     "name": "stdout",
     "output_type": "stream",
     "text": [
      "Completed 596to752\n",
      "\n",
      "\n",
      "\n",
      "Started 597to181\n"
     ]
    },
    {
     "name": "stderr",
     "output_type": "stream",
     "text": [
      "Processing Mappings:  57%|█████▋    | 552/962 [51:20<1:00:37,  8.87s/mapping]"
     ]
    },
    {
     "name": "stdout",
     "output_type": "stream",
     "text": [
      "Completed 597to181\n",
      "\n",
      "\n",
      "\n",
      "Started 598to446\n"
     ]
    },
    {
     "name": "stderr",
     "output_type": "stream",
     "text": [
      "Processing Mappings:  57%|█████▋    | 553/962 [51:29<1:00:39,  8.90s/mapping]"
     ]
    },
    {
     "name": "stdout",
     "output_type": "stream",
     "text": [
      "Completed 598to446\n",
      "\n",
      "\n",
      "\n",
      "Started 599to713\n"
     ]
    },
    {
     "name": "stderr",
     "output_type": "stream",
     "text": [
      "Processing Mappings:  58%|█████▊    | 554/962 [51:38<1:00:26,  8.89s/mapping]"
     ]
    },
    {
     "name": "stdout",
     "output_type": "stream",
     "text": [
      "Completed 599to713\n",
      "\n",
      "\n",
      "\n",
      "Started 59to333\n"
     ]
    },
    {
     "name": "stderr",
     "output_type": "stream",
     "text": [
      "Processing Mappings:  58%|█████▊    | 555/962 [51:47<1:00:13,  8.88s/mapping]"
     ]
    },
    {
     "name": "stdout",
     "output_type": "stream",
     "text": [
      "Completed 59to333\n",
      "\n",
      "\n",
      "\n",
      "Started 5to197\n"
     ]
    },
    {
     "name": "stderr",
     "output_type": "stream",
     "text": [
      "Processing Mappings:  58%|█████▊    | 556/962 [51:56<1:00:06,  8.88s/mapping]"
     ]
    },
    {
     "name": "stdout",
     "output_type": "stream",
     "text": [
      "Completed 5to197\n",
      "\n",
      "\n",
      "\n",
      "Started 600to291\n"
     ]
    },
    {
     "name": "stderr",
     "output_type": "stream",
     "text": [
      "Processing Mappings:  58%|█████▊    | 557/962 [52:05<59:54,  8.88s/mapping]  "
     ]
    },
    {
     "name": "stdout",
     "output_type": "stream",
     "text": [
      "Completed 600to291\n",
      "\n",
      "\n",
      "\n",
      "Started 601to121\n"
     ]
    },
    {
     "name": "stderr",
     "output_type": "stream",
     "text": [
      "Processing Mappings:  58%|█████▊    | 558/962 [52:14<59:44,  8.87s/mapping]"
     ]
    },
    {
     "name": "stdout",
     "output_type": "stream",
     "text": [
      "Completed 601to121\n",
      "\n",
      "\n",
      "\n",
      "Started 602to55\n"
     ]
    },
    {
     "name": "stderr",
     "output_type": "stream",
     "text": [
      "Processing Mappings:  58%|█████▊    | 559/962 [52:22<59:36,  8.87s/mapping]"
     ]
    },
    {
     "name": "stdout",
     "output_type": "stream",
     "text": [
      "Completed 602to55\n",
      "\n",
      "\n",
      "\n",
      "Started 603to126\n"
     ]
    },
    {
     "name": "stderr",
     "output_type": "stream",
     "text": [
      "Processing Mappings:  58%|█████▊    | 560/962 [52:31<59:28,  8.88s/mapping]"
     ]
    },
    {
     "name": "stdout",
     "output_type": "stream",
     "text": [
      "Completed 603to126\n",
      "\n",
      "\n",
      "\n",
      "Started 604to239\n"
     ]
    },
    {
     "name": "stderr",
     "output_type": "stream",
     "text": [
      "Processing Mappings:  58%|█████▊    | 561/962 [52:40<59:19,  8.88s/mapping]"
     ]
    },
    {
     "name": "stdout",
     "output_type": "stream",
     "text": [
      "Completed 604to239\n",
      "\n",
      "\n",
      "\n",
      "Started 605to144\n"
     ]
    },
    {
     "name": "stderr",
     "output_type": "stream",
     "text": [
      "Processing Mappings:  58%|█████▊    | 562/962 [52:49<59:10,  8.88s/mapping]"
     ]
    },
    {
     "name": "stdout",
     "output_type": "stream",
     "text": [
      "Completed 605to144\n",
      "\n",
      "\n",
      "\n",
      "Started 606to48\n"
     ]
    },
    {
     "name": "stderr",
     "output_type": "stream",
     "text": [
      "Processing Mappings:  59%|█████▊    | 563/962 [52:58<59:01,  8.88s/mapping]"
     ]
    },
    {
     "name": "stdout",
     "output_type": "stream",
     "text": [
      "Completed 606to48\n",
      "\n",
      "\n",
      "\n",
      "Started 607to158\n"
     ]
    },
    {
     "name": "stderr",
     "output_type": "stream",
     "text": [
      "Processing Mappings:  59%|█████▊    | 564/962 [53:07<58:52,  8.88s/mapping]"
     ]
    },
    {
     "name": "stdout",
     "output_type": "stream",
     "text": [
      "Completed 607to158\n",
      "\n",
      "\n",
      "\n",
      "Started 608to569\n"
     ]
    },
    {
     "name": "stderr",
     "output_type": "stream",
     "text": [
      "Processing Mappings:  59%|█████▊    | 565/962 [53:16<58:41,  8.87s/mapping]"
     ]
    },
    {
     "name": "stdout",
     "output_type": "stream",
     "text": [
      "Completed 608to569\n",
      "\n",
      "\n",
      "\n",
      "Started 609to252\n"
     ]
    },
    {
     "name": "stderr",
     "output_type": "stream",
     "text": [
      "Processing Mappings:  59%|█████▉    | 566/962 [53:25<58:45,  8.90s/mapping]"
     ]
    },
    {
     "name": "stdout",
     "output_type": "stream",
     "text": [
      "Completed 609to252\n",
      "\n",
      "\n",
      "\n",
      "Started 60to867\n"
     ]
    },
    {
     "name": "stderr",
     "output_type": "stream",
     "text": [
      "Processing Mappings:  59%|█████▉    | 567/962 [53:33<58:21,  8.86s/mapping]"
     ]
    },
    {
     "name": "stdout",
     "output_type": "stream",
     "text": [
      "Completed 60to867\n",
      "\n",
      "\n",
      "\n",
      "Started 610to935\n"
     ]
    },
    {
     "name": "stderr",
     "output_type": "stream",
     "text": [
      "Processing Mappings:  59%|█████▉    | 568/962 [53:42<58:08,  8.85s/mapping]"
     ]
    },
    {
     "name": "stdout",
     "output_type": "stream",
     "text": [
      "Completed 610to935\n",
      "\n",
      "\n",
      "\n",
      "Started 611to674\n"
     ]
    },
    {
     "name": "stderr",
     "output_type": "stream",
     "text": [
      "Processing Mappings:  59%|█████▉    | 569/962 [53:51<57:59,  8.85s/mapping]"
     ]
    },
    {
     "name": "stdout",
     "output_type": "stream",
     "text": [
      "Completed 611to674\n",
      "\n",
      "\n",
      "\n",
      "Started 612to772\n"
     ]
    },
    {
     "name": "stderr",
     "output_type": "stream",
     "text": [
      "Processing Mappings:  59%|█████▉    | 570/962 [54:00<57:53,  8.86s/mapping]"
     ]
    },
    {
     "name": "stdout",
     "output_type": "stream",
     "text": [
      "Completed 612to772\n",
      "\n",
      "\n",
      "\n",
      "Started 613to128\n"
     ]
    },
    {
     "name": "stderr",
     "output_type": "stream",
     "text": [
      "Processing Mappings:  59%|█████▉    | 571/962 [54:09<57:54,  8.89s/mapping]"
     ]
    },
    {
     "name": "stdout",
     "output_type": "stream",
     "text": [
      "Completed 613to128\n",
      "\n",
      "\n",
      "\n",
      "Started 614to658\n"
     ]
    },
    {
     "name": "stderr",
     "output_type": "stream",
     "text": [
      "Processing Mappings:  59%|█████▉    | 572/962 [54:18<57:42,  8.88s/mapping]"
     ]
    },
    {
     "name": "stdout",
     "output_type": "stream",
     "text": [
      "Completed 614to658\n",
      "\n",
      "\n",
      "\n",
      "Started 615to532\n"
     ]
    },
    {
     "name": "stderr",
     "output_type": "stream",
     "text": [
      "Processing Mappings:  60%|█████▉    | 573/962 [54:27<57:33,  8.88s/mapping]"
     ]
    },
    {
     "name": "stdout",
     "output_type": "stream",
     "text": [
      "Completed 615to532\n",
      "\n",
      "\n",
      "\n",
      "Started 616to704\n"
     ]
    },
    {
     "name": "stderr",
     "output_type": "stream",
     "text": [
      "Processing Mappings:  60%|█████▉    | 574/962 [54:35<57:22,  8.87s/mapping]"
     ]
    },
    {
     "name": "stdout",
     "output_type": "stream",
     "text": [
      "Completed 616to704\n",
      "\n",
      "\n",
      "\n",
      "Started 617to778\n"
     ]
    },
    {
     "name": "stderr",
     "output_type": "stream",
     "text": [
      "Processing Mappings:  60%|█████▉    | 575/962 [54:44<57:12,  8.87s/mapping]"
     ]
    },
    {
     "name": "stdout",
     "output_type": "stream",
     "text": [
      "Completed 617to778\n",
      "\n",
      "\n",
      "\n",
      "Started 618to929\n"
     ]
    },
    {
     "name": "stderr",
     "output_type": "stream",
     "text": [
      "Processing Mappings:  60%|█████▉    | 576/962 [54:53<56:26,  8.77s/mapping]"
     ]
    },
    {
     "name": "stdout",
     "output_type": "stream",
     "text": [
      "Completed 618to929\n",
      "\n",
      "\n",
      "\n",
      "Started 619to102\n"
     ]
    },
    {
     "name": "stderr",
     "output_type": "stream",
     "text": [
      "Processing Mappings:  60%|█████▉    | 577/962 [55:02<56:28,  8.80s/mapping]"
     ]
    },
    {
     "name": "stdout",
     "output_type": "stream",
     "text": [
      "Completed 619to102\n",
      "\n",
      "\n",
      "\n",
      "Started 61to896\n"
     ]
    },
    {
     "name": "stderr",
     "output_type": "stream",
     "text": [
      "Processing Mappings:  60%|██████    | 578/962 [55:11<56:33,  8.84s/mapping]"
     ]
    },
    {
     "name": "stdout",
     "output_type": "stream",
     "text": [
      "Completed 61to896\n",
      "\n",
      "\n",
      "\n",
      "Started 620to441\n"
     ]
    },
    {
     "name": "stderr",
     "output_type": "stream",
     "text": [
      "Processing Mappings:  60%|██████    | 579/962 [55:20<56:35,  8.87s/mapping]"
     ]
    },
    {
     "name": "stdout",
     "output_type": "stream",
     "text": [
      "Completed 620to441\n",
      "\n",
      "\n",
      "\n",
      "Started 621to167\n"
     ]
    },
    {
     "name": "stderr",
     "output_type": "stream",
     "text": [
      "Processing Mappings:  60%|██████    | 580/962 [55:29<56:39,  8.90s/mapping]"
     ]
    },
    {
     "name": "stdout",
     "output_type": "stream",
     "text": [
      "Completed 621to167\n",
      "\n",
      "\n",
      "\n",
      "Started 622to186\n"
     ]
    },
    {
     "name": "stderr",
     "output_type": "stream",
     "text": [
      "Processing Mappings:  60%|██████    | 581/962 [55:37<56:29,  8.90s/mapping]"
     ]
    },
    {
     "name": "stdout",
     "output_type": "stream",
     "text": [
      "Completed 622to186\n",
      "\n",
      "\n",
      "\n",
      "Started 623to2\n"
     ]
    },
    {
     "name": "stderr",
     "output_type": "stream",
     "text": [
      "Processing Mappings:  60%|██████    | 582/962 [55:46<56:16,  8.89s/mapping]"
     ]
    },
    {
     "name": "stdout",
     "output_type": "stream",
     "text": [
      "Completed 623to2\n",
      "\n",
      "\n",
      "\n",
      "Started 624to187\n"
     ]
    },
    {
     "name": "stderr",
     "output_type": "stream",
     "text": [
      "Processing Mappings:  61%|██████    | 583/962 [55:55<56:05,  8.88s/mapping]"
     ]
    },
    {
     "name": "stdout",
     "output_type": "stream",
     "text": [
      "Completed 624to187\n",
      "\n",
      "\n",
      "\n",
      "Started 625to567\n"
     ]
    },
    {
     "name": "stderr",
     "output_type": "stream",
     "text": [
      "Processing Mappings:  61%|██████    | 584/962 [56:04<55:56,  8.88s/mapping]"
     ]
    },
    {
     "name": "stdout",
     "output_type": "stream",
     "text": [
      "Completed 625to567\n",
      "\n",
      "\n",
      "\n",
      "Started 626to900\n"
     ]
    },
    {
     "name": "stderr",
     "output_type": "stream",
     "text": [
      "Processing Mappings:  61%|██████    | 585/962 [56:13<55:30,  8.83s/mapping]"
     ]
    },
    {
     "name": "stdout",
     "output_type": "stream",
     "text": [
      "Completed 626to900\n",
      "\n",
      "\n",
      "\n",
      "Started 627to145\n"
     ]
    },
    {
     "name": "stderr",
     "output_type": "stream",
     "text": [
      "Processing Mappings:  61%|██████    | 586/962 [56:22<55:24,  8.84s/mapping]"
     ]
    },
    {
     "name": "stdout",
     "output_type": "stream",
     "text": [
      "Completed 627to145\n",
      "\n",
      "\n",
      "\n",
      "Started 628to275\n"
     ]
    },
    {
     "name": "stderr",
     "output_type": "stream",
     "text": [
      "Processing Mappings:  61%|██████    | 587/962 [56:31<55:17,  8.85s/mapping]"
     ]
    },
    {
     "name": "stdout",
     "output_type": "stream",
     "text": [
      "Completed 628to275\n",
      "\n",
      "\n",
      "\n",
      "Started 629to156\n"
     ]
    },
    {
     "name": "stderr",
     "output_type": "stream",
     "text": [
      "Processing Mappings:  61%|██████    | 588/962 [56:39<55:10,  8.85s/mapping]"
     ]
    },
    {
     "name": "stdout",
     "output_type": "stream",
     "text": [
      "Completed 629to156\n",
      "\n",
      "\n",
      "\n",
      "Started 62to738\n"
     ]
    },
    {
     "name": "stderr",
     "output_type": "stream",
     "text": [
      "Processing Mappings:  61%|██████    | 589/962 [56:48<55:02,  8.85s/mapping]"
     ]
    },
    {
     "name": "stdout",
     "output_type": "stream",
     "text": [
      "Completed 62to738\n",
      "\n",
      "\n",
      "\n",
      "Started 630to726\n"
     ]
    },
    {
     "name": "stderr",
     "output_type": "stream",
     "text": [
      "Processing Mappings:  61%|██████▏   | 590/962 [56:57<54:54,  8.86s/mapping]"
     ]
    },
    {
     "name": "stdout",
     "output_type": "stream",
     "text": [
      "Completed 630to726\n",
      "\n",
      "\n",
      "\n",
      "Started 631to605\n"
     ]
    },
    {
     "name": "stderr",
     "output_type": "stream",
     "text": [
      "Processing Mappings:  61%|██████▏   | 591/962 [57:06<54:47,  8.86s/mapping]"
     ]
    },
    {
     "name": "stdout",
     "output_type": "stream",
     "text": [
      "Completed 631to605\n",
      "\n",
      "\n",
      "\n",
      "Started 632to926\n"
     ]
    },
    {
     "name": "stderr",
     "output_type": "stream",
     "text": [
      "Processing Mappings:  62%|██████▏   | 592/962 [57:15<54:13,  8.79s/mapping]"
     ]
    },
    {
     "name": "stdout",
     "output_type": "stream",
     "text": [
      "Completed 632to926\n",
      "\n",
      "\n",
      "\n",
      "Started 633to355\n"
     ]
    },
    {
     "name": "stderr",
     "output_type": "stream",
     "text": [
      "Processing Mappings:  62%|██████▏   | 593/962 [57:24<54:14,  8.82s/mapping]"
     ]
    },
    {
     "name": "stdout",
     "output_type": "stream",
     "text": [
      "Completed 633to355\n",
      "\n",
      "\n",
      "\n",
      "Started 634to193\n"
     ]
    },
    {
     "name": "stderr",
     "output_type": "stream",
     "text": [
      "Processing Mappings:  62%|██████▏   | 594/962 [57:32<54:17,  8.85s/mapping]"
     ]
    },
    {
     "name": "stdout",
     "output_type": "stream",
     "text": [
      "Completed 634to193\n",
      "\n",
      "\n",
      "\n",
      "Started 635to318\n"
     ]
    },
    {
     "name": "stderr",
     "output_type": "stream",
     "text": [
      "Processing Mappings:  62%|██████▏   | 595/962 [57:41<54:09,  8.86s/mapping]"
     ]
    },
    {
     "name": "stdout",
     "output_type": "stream",
     "text": [
      "Completed 635to318\n",
      "\n",
      "\n",
      "\n",
      "Started 636to148\n"
     ]
    },
    {
     "name": "stderr",
     "output_type": "stream",
     "text": [
      "Processing Mappings:  62%|██████▏   | 596/962 [57:50<54:02,  8.86s/mapping]"
     ]
    },
    {
     "name": "stdout",
     "output_type": "stream",
     "text": [
      "Completed 636to148\n",
      "\n",
      "\n",
      "\n",
      "Started 637to165\n"
     ]
    },
    {
     "name": "stderr",
     "output_type": "stream",
     "text": [
      "Processing Mappings:  62%|██████▏   | 597/962 [57:59<53:57,  8.87s/mapping]"
     ]
    },
    {
     "name": "stdout",
     "output_type": "stream",
     "text": [
      "Completed 637to165\n",
      "\n",
      "\n",
      "\n",
      "Started 638to939\n"
     ]
    },
    {
     "name": "stderr",
     "output_type": "stream",
     "text": [
      "Processing Mappings:  62%|██████▏   | 598/962 [58:08<53:26,  8.81s/mapping]"
     ]
    },
    {
     "name": "stdout",
     "output_type": "stream",
     "text": [
      "Completed 638to939\n",
      "\n",
      "\n",
      "\n",
      "Started 639to464\n"
     ]
    },
    {
     "name": "stderr",
     "output_type": "stream",
     "text": [
      "Processing Mappings:  62%|██████▏   | 599/962 [58:17<53:27,  8.83s/mapping]"
     ]
    },
    {
     "name": "stdout",
     "output_type": "stream",
     "text": [
      "Completed 639to464\n",
      "\n",
      "\n",
      "\n",
      "Started 63to759\n"
     ]
    },
    {
     "name": "stderr",
     "output_type": "stream",
     "text": [
      "Processing Mappings:  62%|██████▏   | 600/962 [58:26<53:24,  8.85s/mapping]"
     ]
    },
    {
     "name": "stdout",
     "output_type": "stream",
     "text": [
      "Completed 63to759\n",
      "\n",
      "\n",
      "\n",
      "Started 640to293\n"
     ]
    },
    {
     "name": "stderr",
     "output_type": "stream",
     "text": [
      "Processing Mappings:  62%|██████▏   | 601/962 [58:34<53:18,  8.86s/mapping]"
     ]
    },
    {
     "name": "stdout",
     "output_type": "stream",
     "text": [
      "Completed 640to293\n",
      "\n",
      "\n",
      "\n",
      "Started 641to802\n"
     ]
    },
    {
     "name": "stderr",
     "output_type": "stream",
     "text": [
      "Processing Mappings:  63%|██████▎   | 602/962 [58:43<52:51,  8.81s/mapping]"
     ]
    },
    {
     "name": "stdout",
     "output_type": "stream",
     "text": [
      "Completed 641to802\n",
      "\n",
      "\n",
      "\n",
      "Started 642to14\n"
     ]
    },
    {
     "name": "stderr",
     "output_type": "stream",
     "text": [
      "Processing Mappings:  63%|██████▎   | 603/962 [58:52<52:50,  8.83s/mapping]"
     ]
    },
    {
     "name": "stdout",
     "output_type": "stream",
     "text": [
      "Completed 642to14\n",
      "\n",
      "\n",
      "\n",
      "Started 643to577\n"
     ]
    },
    {
     "name": "stderr",
     "output_type": "stream",
     "text": [
      "Processing Mappings:  63%|██████▎   | 604/962 [59:01<52:46,  8.85s/mapping]"
     ]
    },
    {
     "name": "stdout",
     "output_type": "stream",
     "text": [
      "Completed 643to577\n",
      "\n",
      "\n",
      "\n",
      "Started 644to789\n"
     ]
    },
    {
     "name": "stderr",
     "output_type": "stream",
     "text": [
      "Processing Mappings:  63%|██████▎   | 605/962 [59:10<52:43,  8.86s/mapping]"
     ]
    },
    {
     "name": "stdout",
     "output_type": "stream",
     "text": [
      "Completed 644to789\n",
      "\n",
      "\n",
      "\n",
      "Started 645to233\n"
     ]
    },
    {
     "name": "stderr",
     "output_type": "stream",
     "text": [
      "Processing Mappings:  63%|██████▎   | 606/962 [59:19<52:47,  8.90s/mapping]"
     ]
    },
    {
     "name": "stdout",
     "output_type": "stream",
     "text": [
      "Completed 645to233\n",
      "\n",
      "\n",
      "\n",
      "Started 646to763\n"
     ]
    },
    {
     "name": "stderr",
     "output_type": "stream",
     "text": [
      "Processing Mappings:  63%|██████▎   | 607/962 [59:28<52:35,  8.89s/mapping]"
     ]
    },
    {
     "name": "stdout",
     "output_type": "stream",
     "text": [
      "Completed 646to763\n",
      "\n",
      "\n",
      "\n",
      "Started 647to916\n"
     ]
    },
    {
     "name": "stderr",
     "output_type": "stream",
     "text": [
      "Processing Mappings:  63%|██████▎   | 608/962 [59:36<51:59,  8.81s/mapping]"
     ]
    },
    {
     "name": "stdout",
     "output_type": "stream",
     "text": [
      "Completed 647to916\n",
      "\n",
      "\n",
      "\n",
      "Started 648to797\n"
     ]
    },
    {
     "name": "stderr",
     "output_type": "stream",
     "text": [
      "Processing Mappings:  63%|██████▎   | 609/962 [59:45<51:05,  8.68s/mapping]"
     ]
    },
    {
     "name": "stdout",
     "output_type": "stream",
     "text": [
      "Completed 648to797\n",
      "\n",
      "\n",
      "\n",
      "Started 649to326\n"
     ]
    },
    {
     "name": "stderr",
     "output_type": "stream",
     "text": [
      "Processing Mappings:  63%|██████▎   | 610/962 [59:53<51:17,  8.74s/mapping]"
     ]
    },
    {
     "name": "stdout",
     "output_type": "stream",
     "text": [
      "Completed 649to326\n",
      "\n",
      "\n",
      "\n",
      "Started 64to780\n"
     ]
    },
    {
     "name": "stderr",
     "output_type": "stream",
     "text": [
      "Processing Mappings:  64%|██████▎   | 611/962 [1:00:02<51:05,  8.73s/mapping]"
     ]
    },
    {
     "name": "stdout",
     "output_type": "stream",
     "text": [
      "Completed 64to780\n",
      "\n",
      "\n",
      "\n",
      "Started 650to660\n"
     ]
    },
    {
     "name": "stderr",
     "output_type": "stream",
     "text": [
      "Processing Mappings:  64%|██████▎   | 612/962 [1:00:11<51:11,  8.77s/mapping]"
     ]
    },
    {
     "name": "stdout",
     "output_type": "stream",
     "text": [
      "Completed 650to660\n",
      "\n",
      "\n",
      "\n",
      "Started 651to21\n"
     ]
    },
    {
     "name": "stderr",
     "output_type": "stream",
     "text": [
      "Processing Mappings:  64%|██████▎   | 613/962 [1:00:20<51:12,  8.81s/mapping]"
     ]
    },
    {
     "name": "stdout",
     "output_type": "stream",
     "text": [
      "Completed 651to21\n",
      "\n",
      "\n",
      "\n",
      "Started 652to349\n"
     ]
    },
    {
     "name": "stderr",
     "output_type": "stream",
     "text": [
      "Processing Mappings:  64%|██████▍   | 614/962 [1:00:29<51:10,  8.82s/mapping]"
     ]
    },
    {
     "name": "stdout",
     "output_type": "stream",
     "text": [
      "Completed 652to349\n",
      "\n",
      "\n",
      "\n",
      "Started 653to71\n"
     ]
    },
    {
     "name": "stderr",
     "output_type": "stream",
     "text": [
      "Processing Mappings:  64%|██████▍   | 615/962 [1:00:38<51:06,  8.84s/mapping]"
     ]
    },
    {
     "name": "stdout",
     "output_type": "stream",
     "text": [
      "Completed 653to71\n",
      "\n",
      "\n",
      "\n",
      "Started 654to17\n"
     ]
    },
    {
     "name": "stderr",
     "output_type": "stream",
     "text": [
      "Processing Mappings:  64%|██████▍   | 616/962 [1:00:47<51:03,  8.85s/mapping]"
     ]
    },
    {
     "name": "stdout",
     "output_type": "stream",
     "text": [
      "Completed 654to17\n",
      "\n",
      "\n",
      "\n",
      "Started 655to755\n"
     ]
    },
    {
     "name": "stderr",
     "output_type": "stream",
     "text": [
      "Processing Mappings:  64%|██████▍   | 617/962 [1:00:55<50:56,  8.86s/mapping]"
     ]
    },
    {
     "name": "stdout",
     "output_type": "stream",
     "text": [
      "Completed 655to755\n",
      "\n",
      "\n",
      "\n",
      "Started 656to756\n"
     ]
    },
    {
     "name": "stderr",
     "output_type": "stream",
     "text": [
      "Processing Mappings:  64%|██████▍   | 618/962 [1:01:04<50:49,  8.87s/mapping]"
     ]
    },
    {
     "name": "stdout",
     "output_type": "stream",
     "text": [
      "Completed 656to756\n",
      "\n",
      "\n",
      "\n",
      "Started 657to621\n"
     ]
    },
    {
     "name": "stderr",
     "output_type": "stream",
     "text": [
      "Processing Mappings:  64%|██████▍   | 619/962 [1:01:13<50:44,  8.88s/mapping]"
     ]
    },
    {
     "name": "stdout",
     "output_type": "stream",
     "text": [
      "Completed 657to621\n",
      "\n",
      "\n",
      "\n",
      "Started 658to328\n"
     ]
    },
    {
     "name": "stderr",
     "output_type": "stream",
     "text": [
      "Processing Mappings:  64%|██████▍   | 620/962 [1:01:22<50:36,  8.88s/mapping]"
     ]
    },
    {
     "name": "stdout",
     "output_type": "stream",
     "text": [
      "Completed 658to328\n",
      "\n",
      "\n",
      "\n",
      "Started 659to140\n"
     ]
    },
    {
     "name": "stderr",
     "output_type": "stream",
     "text": [
      "Processing Mappings:  65%|██████▍   | 621/962 [1:01:31<50:33,  8.89s/mapping]"
     ]
    },
    {
     "name": "stdout",
     "output_type": "stream",
     "text": [
      "Completed 659to140\n",
      "\n",
      "\n",
      "\n",
      "Started 65to7\n"
     ]
    },
    {
     "name": "stderr",
     "output_type": "stream",
     "text": [
      "Processing Mappings:  65%|██████▍   | 622/962 [1:01:40<50:22,  8.89s/mapping]"
     ]
    },
    {
     "name": "stdout",
     "output_type": "stream",
     "text": [
      "Completed 65to7\n",
      "\n",
      "\n",
      "\n",
      "Started 660to711\n"
     ]
    },
    {
     "name": "stderr",
     "output_type": "stream",
     "text": [
      "Processing Mappings:  65%|██████▍   | 623/962 [1:01:49<50:16,  8.90s/mapping]"
     ]
    },
    {
     "name": "stdout",
     "output_type": "stream",
     "text": [
      "Completed 660to711\n",
      "\n",
      "\n",
      "\n",
      "Started 661to246\n"
     ]
    },
    {
     "name": "stderr",
     "output_type": "stream",
     "text": [
      "Processing Mappings:  65%|██████▍   | 624/962 [1:01:58<50:06,  8.90s/mapping]"
     ]
    },
    {
     "name": "stdout",
     "output_type": "stream",
     "text": [
      "Completed 661to246\n",
      "\n",
      "\n",
      "\n",
      "Started 662to824\n"
     ]
    },
    {
     "name": "stderr",
     "output_type": "stream",
     "text": [
      "Processing Mappings:  65%|██████▍   | 625/962 [1:02:07<49:51,  8.88s/mapping]"
     ]
    },
    {
     "name": "stdout",
     "output_type": "stream",
     "text": [
      "Completed 662to824\n",
      "\n",
      "\n",
      "\n",
      "Started 663to206\n"
     ]
    },
    {
     "name": "stderr",
     "output_type": "stream",
     "text": [
      "Processing Mappings:  65%|██████▌   | 626/962 [1:02:15<49:41,  8.87s/mapping]"
     ]
    },
    {
     "name": "stdout",
     "output_type": "stream",
     "text": [
      "Completed 663to206\n",
      "\n",
      "\n",
      "\n",
      "Started 664to579\n"
     ]
    },
    {
     "name": "stderr",
     "output_type": "stream",
     "text": [
      "Processing Mappings:  65%|██████▌   | 627/962 [1:02:24<49:30,  8.87s/mapping]"
     ]
    },
    {
     "name": "stdout",
     "output_type": "stream",
     "text": [
      "Completed 664to579\n",
      "\n",
      "\n",
      "\n",
      "Started 665to714\n"
     ]
    },
    {
     "name": "stderr",
     "output_type": "stream",
     "text": [
      "Processing Mappings:  65%|██████▌   | 628/962 [1:02:33<49:21,  8.87s/mapping]"
     ]
    },
    {
     "name": "stdout",
     "output_type": "stream",
     "text": [
      "Completed 665to714\n",
      "\n",
      "\n",
      "\n",
      "Started 666to335\n"
     ]
    },
    {
     "name": "stderr",
     "output_type": "stream",
     "text": [
      "Processing Mappings:  65%|██████▌   | 629/962 [1:02:42<49:11,  8.86s/mapping]"
     ]
    },
    {
     "name": "stdout",
     "output_type": "stream",
     "text": [
      "Completed 666to335\n",
      "\n",
      "\n",
      "\n",
      "Started 667to642\n"
     ]
    },
    {
     "name": "stderr",
     "output_type": "stream",
     "text": [
      "Processing Mappings:  65%|██████▌   | 630/962 [1:02:51<49:01,  8.86s/mapping]"
     ]
    },
    {
     "name": "stdout",
     "output_type": "stream",
     "text": [
      "Completed 667to642\n",
      "\n",
      "\n",
      "\n",
      "Started 668to645\n"
     ]
    },
    {
     "name": "stderr",
     "output_type": "stream",
     "text": [
      "Processing Mappings:  66%|██████▌   | 631/962 [1:03:00<48:55,  8.87s/mapping]"
     ]
    },
    {
     "name": "stdout",
     "output_type": "stream",
     "text": [
      "Completed 668to645\n",
      "\n",
      "\n",
      "\n",
      "Started 669to261\n"
     ]
    },
    {
     "name": "stderr",
     "output_type": "stream",
     "text": [
      "Processing Mappings:  66%|██████▌   | 632/962 [1:03:08<48:27,  8.81s/mapping]"
     ]
    },
    {
     "name": "stdout",
     "output_type": "stream",
     "text": [
      "Completed 669to261\n",
      "\n",
      "\n",
      "\n",
      "Started 66to434\n"
     ]
    },
    {
     "name": "stderr",
     "output_type": "stream",
     "text": [
      "Processing Mappings:  66%|██████▌   | 633/962 [1:03:17<48:24,  8.83s/mapping]"
     ]
    },
    {
     "name": "stdout",
     "output_type": "stream",
     "text": [
      "Completed 66to434\n",
      "\n",
      "\n",
      "\n",
      "Started 670to36\n"
     ]
    },
    {
     "name": "stderr",
     "output_type": "stream",
     "text": [
      "Processing Mappings:  66%|██████▌   | 634/962 [1:03:26<48:24,  8.86s/mapping]"
     ]
    },
    {
     "name": "stdout",
     "output_type": "stream",
     "text": [
      "Completed 670to36\n",
      "\n",
      "\n",
      "\n",
      "Started 671to614\n"
     ]
    },
    {
     "name": "stderr",
     "output_type": "stream",
     "text": [
      "Processing Mappings:  66%|██████▌   | 635/962 [1:03:35<48:16,  8.86s/mapping]"
     ]
    },
    {
     "name": "stdout",
     "output_type": "stream",
     "text": [
      "Completed 671to614\n",
      "\n",
      "\n",
      "\n",
      "Started 672to557\n"
     ]
    },
    {
     "name": "stderr",
     "output_type": "stream",
     "text": [
      "Processing Mappings:  66%|██████▌   | 636/962 [1:03:44<48:09,  8.86s/mapping]"
     ]
    },
    {
     "name": "stdout",
     "output_type": "stream",
     "text": [
      "Completed 672to557\n",
      "\n",
      "\n",
      "\n",
      "Started 673to693\n"
     ]
    },
    {
     "name": "stderr",
     "output_type": "stream",
     "text": [
      "Processing Mappings:  66%|██████▌   | 637/962 [1:03:53<48:02,  8.87s/mapping]"
     ]
    },
    {
     "name": "stdout",
     "output_type": "stream",
     "text": [
      "Completed 673to693\n",
      "\n",
      "\n",
      "\n",
      "Started 674to45\n"
     ]
    },
    {
     "name": "stderr",
     "output_type": "stream",
     "text": [
      "Processing Mappings:  66%|██████▋   | 638/962 [1:04:02<47:54,  8.87s/mapping]"
     ]
    },
    {
     "name": "stdout",
     "output_type": "stream",
     "text": [
      "Completed 674to45\n",
      "\n",
      "\n",
      "\n",
      "Started 675to462\n"
     ]
    },
    {
     "name": "stderr",
     "output_type": "stream",
     "text": [
      "Processing Mappings:  66%|██████▋   | 639/962 [1:04:11<47:45,  8.87s/mapping]"
     ]
    },
    {
     "name": "stdout",
     "output_type": "stream",
     "text": [
      "Completed 675to462\n",
      "\n",
      "\n",
      "\n",
      "Started 676to138\n"
     ]
    },
    {
     "name": "stderr",
     "output_type": "stream",
     "text": [
      "Processing Mappings:  67%|██████▋   | 640/962 [1:04:19<47:36,  8.87s/mapping]"
     ]
    },
    {
     "name": "stdout",
     "output_type": "stream",
     "text": [
      "Completed 676to138\n",
      "\n",
      "\n",
      "\n",
      "Started 677to396\n"
     ]
    },
    {
     "name": "stderr",
     "output_type": "stream",
     "text": [
      "Processing Mappings:  67%|██████▋   | 641/962 [1:04:28<47:27,  8.87s/mapping]"
     ]
    },
    {
     "name": "stdout",
     "output_type": "stream",
     "text": [
      "Completed 677to396\n",
      "\n",
      "\n",
      "\n",
      "Started 678to709\n"
     ]
    },
    {
     "name": "stderr",
     "output_type": "stream",
     "text": [
      "Processing Mappings:  67%|██████▋   | 642/962 [1:04:37<47:18,  8.87s/mapping]"
     ]
    },
    {
     "name": "stdout",
     "output_type": "stream",
     "text": [
      "Completed 678to709\n",
      "\n",
      "\n",
      "\n",
      "Started 679to415\n"
     ]
    },
    {
     "name": "stderr",
     "output_type": "stream",
     "text": [
      "Processing Mappings:  67%|██████▋   | 643/962 [1:04:46<46:54,  8.82s/mapping]"
     ]
    },
    {
     "name": "stdout",
     "output_type": "stream",
     "text": [
      "Completed 679to415\n",
      "\n",
      "\n",
      "\n",
      "Started 67to587\n"
     ]
    },
    {
     "name": "stderr",
     "output_type": "stream",
     "text": [
      "Processing Mappings:  67%|██████▋   | 644/962 [1:04:55<46:48,  8.83s/mapping]"
     ]
    },
    {
     "name": "stdout",
     "output_type": "stream",
     "text": [
      "Completed 67to587\n",
      "\n",
      "\n",
      "\n",
      "Started 680to476\n"
     ]
    },
    {
     "name": "stderr",
     "output_type": "stream",
     "text": [
      "Processing Mappings:  67%|██████▋   | 645/962 [1:05:04<46:47,  8.86s/mapping]"
     ]
    },
    {
     "name": "stdout",
     "output_type": "stream",
     "text": [
      "Completed 680to476\n",
      "\n",
      "\n",
      "\n",
      "Started 681to582\n"
     ]
    },
    {
     "name": "stderr",
     "output_type": "stream",
     "text": [
      "Processing Mappings:  67%|██████▋   | 646/962 [1:05:13<46:37,  8.85s/mapping]"
     ]
    },
    {
     "name": "stdout",
     "output_type": "stream",
     "text": [
      "Completed 681to582\n",
      "\n",
      "\n",
      "\n",
      "Started 682to290\n"
     ]
    },
    {
     "name": "stderr",
     "output_type": "stream",
     "text": [
      "Processing Mappings:  67%|██████▋   | 647/962 [1:05:21<46:31,  8.86s/mapping]"
     ]
    },
    {
     "name": "stdout",
     "output_type": "stream",
     "text": [
      "Completed 682to290\n",
      "\n",
      "\n",
      "\n",
      "Started 683to254\n"
     ]
    },
    {
     "name": "stderr",
     "output_type": "stream",
     "text": [
      "Processing Mappings:  67%|██████▋   | 648/962 [1:05:30<46:26,  8.88s/mapping]"
     ]
    },
    {
     "name": "stdout",
     "output_type": "stream",
     "text": [
      "Completed 683to254\n",
      "\n",
      "\n",
      "\n",
      "Started 684to593\n"
     ]
    },
    {
     "name": "stderr",
     "output_type": "stream",
     "text": [
      "Processing Mappings:  67%|██████▋   | 649/962 [1:05:39<46:16,  8.87s/mapping]"
     ]
    },
    {
     "name": "stdout",
     "output_type": "stream",
     "text": [
      "Completed 684to593\n",
      "\n",
      "\n",
      "\n",
      "Started 685to257\n"
     ]
    },
    {
     "name": "stderr",
     "output_type": "stream",
     "text": [
      "Processing Mappings:  68%|██████▊   | 650/962 [1:05:48<46:06,  8.87s/mapping]"
     ]
    },
    {
     "name": "stdout",
     "output_type": "stream",
     "text": [
      "Completed 685to257\n",
      "\n",
      "\n",
      "\n",
      "Started 686to188\n"
     ]
    },
    {
     "name": "stderr",
     "output_type": "stream",
     "text": [
      "Processing Mappings:  68%|██████▊   | 651/962 [1:05:57<45:56,  8.86s/mapping]"
     ]
    },
    {
     "name": "stdout",
     "output_type": "stream",
     "text": [
      "Completed 686to188\n",
      "\n",
      "\n",
      "\n",
      "Started 687to389\n"
     ]
    },
    {
     "name": "stderr",
     "output_type": "stream",
     "text": [
      "Processing Mappings:  68%|██████▊   | 652/962 [1:06:06<45:48,  8.87s/mapping]"
     ]
    },
    {
     "name": "stdout",
     "output_type": "stream",
     "text": [
      "Completed 687to389\n",
      "\n",
      "\n",
      "\n",
      "Started 688to432\n"
     ]
    },
    {
     "name": "stderr",
     "output_type": "stream",
     "text": [
      "Processing Mappings:  68%|██████▊   | 653/962 [1:06:15<45:38,  8.86s/mapping]"
     ]
    },
    {
     "name": "stdout",
     "output_type": "stream",
     "text": [
      "Completed 688to432\n",
      "\n",
      "\n",
      "\n",
      "Started 689to346\n"
     ]
    },
    {
     "name": "stderr",
     "output_type": "stream",
     "text": [
      "Processing Mappings:  68%|██████▊   | 654/962 [1:06:23<45:28,  8.86s/mapping]"
     ]
    },
    {
     "name": "stdout",
     "output_type": "stream",
     "text": [
      "Completed 689to346\n",
      "\n",
      "\n",
      "\n",
      "Started 68to792\n"
     ]
    },
    {
     "name": "stderr",
     "output_type": "stream",
     "text": [
      "Processing Mappings:  68%|██████▊   | 655/962 [1:06:32<45:19,  8.86s/mapping]"
     ]
    },
    {
     "name": "stdout",
     "output_type": "stream",
     "text": [
      "Completed 68to792\n",
      "\n",
      "\n",
      "\n",
      "Started 690to15\n"
     ]
    },
    {
     "name": "stderr",
     "output_type": "stream",
     "text": [
      "Processing Mappings:  68%|██████▊   | 656/962 [1:06:41<45:11,  8.86s/mapping]"
     ]
    },
    {
     "name": "stdout",
     "output_type": "stream",
     "text": [
      "Completed 690to15\n",
      "\n",
      "\n",
      "\n",
      "Started 691to540\n"
     ]
    },
    {
     "name": "stderr",
     "output_type": "stream",
     "text": [
      "Processing Mappings:  68%|██████▊   | 657/962 [1:06:50<45:02,  8.86s/mapping]"
     ]
    },
    {
     "name": "stdout",
     "output_type": "stream",
     "text": [
      "Completed 691to540\n",
      "\n",
      "\n",
      "\n",
      "Started 692to611\n"
     ]
    },
    {
     "name": "stderr",
     "output_type": "stream",
     "text": [
      "Processing Mappings:  68%|██████▊   | 658/962 [1:06:59<44:57,  8.87s/mapping]"
     ]
    },
    {
     "name": "stdout",
     "output_type": "stream",
     "text": [
      "Completed 692to611\n",
      "\n",
      "\n",
      "\n",
      "Started 693to115\n"
     ]
    },
    {
     "name": "stderr",
     "output_type": "stream",
     "text": [
      "Processing Mappings:  69%|██████▊   | 659/962 [1:07:08<44:46,  8.87s/mapping]"
     ]
    },
    {
     "name": "stdout",
     "output_type": "stream",
     "text": [
      "Completed 693to115\n",
      "\n",
      "\n",
      "\n",
      "Started 694to453\n"
     ]
    },
    {
     "name": "stderr",
     "output_type": "stream",
     "text": [
      "Processing Mappings:  69%|██████▊   | 660/962 [1:07:17<44:43,  8.88s/mapping]"
     ]
    },
    {
     "name": "stdout",
     "output_type": "stream",
     "text": [
      "Completed 694to453\n",
      "\n",
      "\n",
      "\n",
      "Started 695to356\n"
     ]
    },
    {
     "name": "stderr",
     "output_type": "stream",
     "text": [
      "Processing Mappings:  69%|██████▊   | 661/962 [1:07:26<44:31,  8.88s/mapping]"
     ]
    },
    {
     "name": "stdout",
     "output_type": "stream",
     "text": [
      "Completed 695to356\n",
      "\n",
      "\n",
      "\n",
      "Started 696to521\n"
     ]
    },
    {
     "name": "stderr",
     "output_type": "stream",
     "text": [
      "Processing Mappings:  69%|██████▉   | 662/962 [1:07:34<44:20,  8.87s/mapping]"
     ]
    },
    {
     "name": "stdout",
     "output_type": "stream",
     "text": [
      "Completed 696to521\n",
      "\n",
      "\n",
      "\n",
      "Started 697to869\n"
     ]
    },
    {
     "name": "stderr",
     "output_type": "stream",
     "text": [
      "Processing Mappings:  69%|██████▉   | 663/962 [1:07:43<44:05,  8.85s/mapping]"
     ]
    },
    {
     "name": "stdout",
     "output_type": "stream",
     "text": [
      "Completed 697to869\n",
      "\n",
      "\n",
      "\n",
      "Started 698to92\n"
     ]
    },
    {
     "name": "stderr",
     "output_type": "stream",
     "text": [
      "Processing Mappings:  69%|██████▉   | 664/962 [1:07:52<43:57,  8.85s/mapping]"
     ]
    },
    {
     "name": "stdout",
     "output_type": "stream",
     "text": [
      "Completed 698to92\n",
      "\n",
      "\n",
      "\n",
      "Started 699to701\n"
     ]
    },
    {
     "name": "stderr",
     "output_type": "stream",
     "text": [
      "Processing Mappings:  69%|██████▉   | 665/962 [1:08:01<43:50,  8.86s/mapping]"
     ]
    },
    {
     "name": "stdout",
     "output_type": "stream",
     "text": [
      "Completed 699to701\n",
      "\n",
      "\n",
      "\n",
      "Started 69to842\n"
     ]
    },
    {
     "name": "stderr",
     "output_type": "stream",
     "text": [
      "Processing Mappings:  69%|██████▉   | 666/962 [1:08:10<43:38,  8.85s/mapping]"
     ]
    },
    {
     "name": "stdout",
     "output_type": "stream",
     "text": [
      "Completed 69to842\n",
      "\n",
      "\n",
      "\n",
      "Started 6to57\n"
     ]
    },
    {
     "name": "stderr",
     "output_type": "stream",
     "text": [
      "Processing Mappings:  69%|██████▉   | 667/962 [1:08:19<43:30,  8.85s/mapping]"
     ]
    },
    {
     "name": "stdout",
     "output_type": "stream",
     "text": [
      "Completed 6to57\n",
      "\n",
      "\n",
      "\n",
      "Started 700to943\n"
     ]
    },
    {
     "name": "stderr",
     "output_type": "stream",
     "text": [
      "Processing Mappings:  69%|██████▉   | 668/962 [1:08:27<43:10,  8.81s/mapping]"
     ]
    },
    {
     "name": "stdout",
     "output_type": "stream",
     "text": [
      "Completed 700to943\n",
      "\n",
      "\n",
      "\n",
      "Started 701to104\n"
     ]
    },
    {
     "name": "stderr",
     "output_type": "stream",
     "text": [
      "Processing Mappings:  70%|██████▉   | 669/962 [1:08:36<43:05,  8.82s/mapping]"
     ]
    },
    {
     "name": "stdout",
     "output_type": "stream",
     "text": [
      "Completed 701to104\n",
      "\n",
      "\n",
      "\n",
      "Started 702to22\n"
     ]
    },
    {
     "name": "stderr",
     "output_type": "stream",
     "text": [
      "Processing Mappings:  70%|██████▉   | 670/962 [1:08:45<43:02,  8.84s/mapping]"
     ]
    },
    {
     "name": "stdout",
     "output_type": "stream",
     "text": [
      "Completed 702to22\n",
      "\n",
      "\n",
      "\n",
      "Started 703to27\n"
     ]
    },
    {
     "name": "stderr",
     "output_type": "stream",
     "text": [
      "Processing Mappings:  70%|██████▉   | 671/962 [1:08:54<42:39,  8.80s/mapping]"
     ]
    },
    {
     "name": "stdout",
     "output_type": "stream",
     "text": [
      "Completed 703to27\n",
      "\n",
      "\n",
      "\n",
      "Started 704to950\n"
     ]
    },
    {
     "name": "stderr",
     "output_type": "stream",
     "text": [
      "Processing Mappings:  70%|██████▉   | 672/962 [1:09:02<42:03,  8.70s/mapping]"
     ]
    },
    {
     "name": "stdout",
     "output_type": "stream",
     "text": [
      "Completed 704to950\n",
      "\n",
      "\n",
      "\n",
      "Started 705to741\n"
     ]
    },
    {
     "name": "stderr",
     "output_type": "stream",
     "text": [
      "Processing Mappings:  70%|██████▉   | 673/962 [1:09:11<42:08,  8.75s/mapping]"
     ]
    },
    {
     "name": "stdout",
     "output_type": "stream",
     "text": [
      "Completed 705to741\n",
      "\n",
      "\n",
      "\n",
      "Started 706to312\n"
     ]
    },
    {
     "name": "stderr",
     "output_type": "stream",
     "text": [
      "Processing Mappings:  70%|███████   | 674/962 [1:09:20<42:09,  8.78s/mapping]"
     ]
    },
    {
     "name": "stdout",
     "output_type": "stream",
     "text": [
      "Completed 706to312\n",
      "\n",
      "\n",
      "\n",
      "Started 707to875\n"
     ]
    },
    {
     "name": "stderr",
     "output_type": "stream",
     "text": [
      "Processing Mappings:  70%|███████   | 675/962 [1:09:29<41:51,  8.75s/mapping]"
     ]
    },
    {
     "name": "stdout",
     "output_type": "stream",
     "text": [
      "Completed 707to875\n",
      "\n",
      "\n",
      "\n",
      "Started 708to238\n"
     ]
    },
    {
     "name": "stderr",
     "output_type": "stream",
     "text": [
      "Processing Mappings:  70%|███████   | 676/962 [1:09:38<41:51,  8.78s/mapping]"
     ]
    },
    {
     "name": "stdout",
     "output_type": "stream",
     "text": [
      "Completed 708to238\n",
      "\n",
      "\n",
      "\n",
      "Started 709to241\n"
     ]
    },
    {
     "name": "stderr",
     "output_type": "stream",
     "text": [
      "Processing Mappings:  70%|███████   | 677/962 [1:09:46<41:51,  8.81s/mapping]"
     ]
    },
    {
     "name": "stdout",
     "output_type": "stream",
     "text": [
      "Completed 709to241\n",
      "\n",
      "\n",
      "\n",
      "Started 70to559\n"
     ]
    },
    {
     "name": "stderr",
     "output_type": "stream",
     "text": [
      "Processing Mappings:  70%|███████   | 678/962 [1:09:55<41:47,  8.83s/mapping]"
     ]
    },
    {
     "name": "stdout",
     "output_type": "stream",
     "text": [
      "Completed 70to559\n",
      "\n",
      "\n",
      "\n",
      "Started 710to618\n"
     ]
    },
    {
     "name": "stderr",
     "output_type": "stream",
     "text": [
      "Processing Mappings:  71%|███████   | 679/962 [1:10:04<41:25,  8.78s/mapping]"
     ]
    },
    {
     "name": "stdout",
     "output_type": "stream",
     "text": [
      "Completed 710to618\n",
      "\n",
      "\n",
      "\n",
      "Started 711to164\n"
     ]
    },
    {
     "name": "stderr",
     "output_type": "stream",
     "text": [
      "Processing Mappings:  71%|███████   | 680/962 [1:10:13<41:25,  8.81s/mapping]"
     ]
    },
    {
     "name": "stdout",
     "output_type": "stream",
     "text": [
      "Completed 711to164\n",
      "\n",
      "\n",
      "\n",
      "Started 712to286\n"
     ]
    },
    {
     "name": "stderr",
     "output_type": "stream",
     "text": [
      "Processing Mappings:  71%|███████   | 681/962 [1:10:22<41:21,  8.83s/mapping]"
     ]
    },
    {
     "name": "stdout",
     "output_type": "stream",
     "text": [
      "Completed 712to286\n",
      "\n",
      "\n",
      "\n",
      "Started 713to834\n"
     ]
    },
    {
     "name": "stderr",
     "output_type": "stream",
     "text": [
      "Processing Mappings:  71%|███████   | 682/962 [1:10:31<41:18,  8.85s/mapping]"
     ]
    },
    {
     "name": "stdout",
     "output_type": "stream",
     "text": [
      "Completed 713to834\n",
      "\n",
      "\n",
      "\n",
      "Started 714to667\n"
     ]
    },
    {
     "name": "stderr",
     "output_type": "stream",
     "text": [
      "Processing Mappings:  71%|███████   | 683/962 [1:10:39<41:11,  8.86s/mapping]"
     ]
    },
    {
     "name": "stdout",
     "output_type": "stream",
     "text": [
      "Completed 714to667\n",
      "\n",
      "\n",
      "\n",
      "Started 715to784\n"
     ]
    },
    {
     "name": "stderr",
     "output_type": "stream",
     "text": [
      "Processing Mappings:  71%|███████   | 684/962 [1:10:48<41:02,  8.86s/mapping]"
     ]
    },
    {
     "name": "stdout",
     "output_type": "stream",
     "text": [
      "Completed 715to784\n",
      "\n",
      "\n",
      "\n",
      "Started 716to487\n"
     ]
    },
    {
     "name": "stderr",
     "output_type": "stream",
     "text": [
      "Processing Mappings:  71%|███████   | 685/962 [1:10:57<40:54,  8.86s/mapping]"
     ]
    },
    {
     "name": "stdout",
     "output_type": "stream",
     "text": [
      "Completed 716to487\n",
      "\n",
      "\n",
      "\n",
      "Started 717to268\n"
     ]
    },
    {
     "name": "stderr",
     "output_type": "stream",
     "text": [
      "Processing Mappings:  71%|███████▏  | 686/962 [1:11:06<40:27,  8.80s/mapping]"
     ]
    },
    {
     "name": "stdout",
     "output_type": "stream",
     "text": [
      "Completed 717to268\n",
      "\n",
      "\n",
      "\n",
      "Started 718to907\n"
     ]
    },
    {
     "name": "stderr",
     "output_type": "stream",
     "text": [
      "Processing Mappings:  71%|███████▏  | 687/962 [1:11:15<40:20,  8.80s/mapping]"
     ]
    },
    {
     "name": "stdout",
     "output_type": "stream",
     "text": [
      "Completed 718to907\n",
      "\n",
      "\n",
      "\n",
      "Started 719to638\n"
     ]
    },
    {
     "name": "stderr",
     "output_type": "stream",
     "text": [
      "Processing Mappings:  72%|███████▏  | 688/962 [1:11:24<40:20,  8.83s/mapping]"
     ]
    },
    {
     "name": "stdout",
     "output_type": "stream",
     "text": [
      "Completed 719to638\n",
      "\n",
      "\n",
      "\n",
      "Started 71to808\n"
     ]
    },
    {
     "name": "stderr",
     "output_type": "stream",
     "text": [
      "Processing Mappings:  72%|███████▏  | 689/962 [1:11:32<40:14,  8.84s/mapping]"
     ]
    },
    {
     "name": "stdout",
     "output_type": "stream",
     "text": [
      "Completed 71to808\n",
      "\n",
      "\n",
      "\n",
      "Started 720to849\n"
     ]
    },
    {
     "name": "stderr",
     "output_type": "stream",
     "text": [
      "Processing Mappings:  72%|███████▏  | 690/962 [1:11:41<40:01,  8.83s/mapping]"
     ]
    },
    {
     "name": "stdout",
     "output_type": "stream",
     "text": [
      "Completed 720to849\n",
      "\n",
      "\n",
      "\n",
      "Started 721to598\n"
     ]
    },
    {
     "name": "stderr",
     "output_type": "stream",
     "text": [
      "Processing Mappings:  72%|███████▏  | 691/962 [1:11:50<40:05,  8.87s/mapping]"
     ]
    },
    {
     "name": "stdout",
     "output_type": "stream",
     "text": [
      "Completed 721to598\n",
      "\n",
      "\n",
      "\n",
      "Started 722to460\n"
     ]
    },
    {
     "name": "stderr",
     "output_type": "stream",
     "text": [
      "Processing Mappings:  72%|███████▏  | 692/962 [1:11:59<39:54,  8.87s/mapping]"
     ]
    },
    {
     "name": "stdout",
     "output_type": "stream",
     "text": [
      "Completed 722to460\n",
      "\n",
      "\n",
      "\n",
      "Started 723to455\n"
     ]
    },
    {
     "name": "stderr",
     "output_type": "stream",
     "text": [
      "Processing Mappings:  72%|███████▏  | 693/962 [1:12:08<39:44,  8.86s/mapping]"
     ]
    },
    {
     "name": "stdout",
     "output_type": "stream",
     "text": [
      "Completed 723to455\n",
      "\n",
      "\n",
      "\n",
      "Started 724to152\n"
     ]
    },
    {
     "name": "stderr",
     "output_type": "stream",
     "text": [
      "Processing Mappings:  72%|███████▏  | 694/962 [1:12:17<39:34,  8.86s/mapping]"
     ]
    },
    {
     "name": "stdout",
     "output_type": "stream",
     "text": [
      "Completed 724to152\n",
      "\n",
      "\n",
      "\n",
      "Started 725to930\n"
     ]
    },
    {
     "name": "stderr",
     "output_type": "stream",
     "text": [
      "Processing Mappings:  72%|███████▏  | 695/962 [1:12:25<38:53,  8.74s/mapping]"
     ]
    },
    {
     "name": "stdout",
     "output_type": "stream",
     "text": [
      "Completed 725to930\n",
      "\n",
      "\n",
      "\n",
      "Started 726to472\n"
     ]
    },
    {
     "name": "stderr",
     "output_type": "stream",
     "text": [
      "Processing Mappings:  72%|███████▏  | 696/962 [1:12:34<38:55,  8.78s/mapping]"
     ]
    },
    {
     "name": "stdout",
     "output_type": "stream",
     "text": [
      "Completed 726to472\n",
      "\n",
      "\n",
      "\n",
      "Started 727to302\n"
     ]
    },
    {
     "name": "stderr",
     "output_type": "stream",
     "text": [
      "Processing Mappings:  72%|███████▏  | 697/962 [1:12:43<38:37,  8.75s/mapping]"
     ]
    },
    {
     "name": "stdout",
     "output_type": "stream",
     "text": [
      "Completed 727to302\n",
      "\n",
      "\n",
      "\n",
      "Started 728to689\n"
     ]
    },
    {
     "name": "stderr",
     "output_type": "stream",
     "text": [
      "Processing Mappings:  73%|███████▎  | 698/962 [1:12:52<38:37,  8.78s/mapping]"
     ]
    },
    {
     "name": "stdout",
     "output_type": "stream",
     "text": [
      "Completed 728to689\n",
      "\n",
      "\n",
      "\n",
      "Started 729to648\n"
     ]
    },
    {
     "name": "stderr",
     "output_type": "stream",
     "text": [
      "Processing Mappings:  73%|███████▎  | 699/962 [1:13:00<38:34,  8.80s/mapping]"
     ]
    },
    {
     "name": "stdout",
     "output_type": "stream",
     "text": [
      "Completed 729to648\n",
      "\n",
      "\n",
      "\n",
      "Started 72to959\n"
     ]
    },
    {
     "name": "stderr",
     "output_type": "stream",
     "text": [
      "Processing Mappings:  73%|███████▎  | 700/962 [1:13:09<37:59,  8.70s/mapping]"
     ]
    },
    {
     "name": "stdout",
     "output_type": "stream",
     "text": [
      "Completed 72to959\n",
      "\n",
      "\n",
      "\n",
      "Started 730to514\n"
     ]
    },
    {
     "name": "stderr",
     "output_type": "stream",
     "text": [
      "Processing Mappings:  73%|███████▎  | 701/962 [1:13:18<38:02,  8.75s/mapping]"
     ]
    },
    {
     "name": "stdout",
     "output_type": "stream",
     "text": [
      "Completed 730to514\n",
      "\n",
      "\n",
      "\n",
      "Started 731to561\n"
     ]
    },
    {
     "name": "stderr",
     "output_type": "stream",
     "text": [
      "Processing Mappings:  73%|███████▎  | 702/962 [1:13:27<38:11,  8.81s/mapping]"
     ]
    },
    {
     "name": "stdout",
     "output_type": "stream",
     "text": [
      "Completed 731to561\n",
      "\n",
      "\n",
      "\n",
      "Started 732to619\n"
     ]
    },
    {
     "name": "stderr",
     "output_type": "stream",
     "text": [
      "Processing Mappings:  73%|███████▎  | 703/962 [1:13:36<38:06,  8.83s/mapping]"
     ]
    },
    {
     "name": "stdout",
     "output_type": "stream",
     "text": [
      "Completed 732to619\n",
      "\n",
      "\n",
      "\n",
      "Started 733to507\n"
     ]
    },
    {
     "name": "stderr",
     "output_type": "stream",
     "text": [
      "Processing Mappings:  73%|███████▎  | 704/962 [1:13:44<37:59,  8.84s/mapping]"
     ]
    },
    {
     "name": "stdout",
     "output_type": "stream",
     "text": [
      "Completed 733to507\n",
      "\n",
      "\n",
      "\n",
      "Started 734to130\n"
     ]
    },
    {
     "name": "stderr",
     "output_type": "stream",
     "text": [
      "Processing Mappings:  73%|███████▎  | 705/962 [1:13:53<37:52,  8.84s/mapping]"
     ]
    },
    {
     "name": "stdout",
     "output_type": "stream",
     "text": [
      "Completed 734to130\n",
      "\n",
      "\n",
      "\n",
      "Started 735to469\n"
     ]
    },
    {
     "name": "stderr",
     "output_type": "stream",
     "text": [
      "Processing Mappings:  73%|███████▎  | 706/962 [1:14:02<37:44,  8.85s/mapping]"
     ]
    },
    {
     "name": "stdout",
     "output_type": "stream",
     "text": [
      "Completed 735to469\n",
      "\n",
      "\n",
      "\n",
      "Started 736to551\n"
     ]
    },
    {
     "name": "stderr",
     "output_type": "stream",
     "text": [
      "Processing Mappings:  73%|███████▎  | 707/962 [1:14:11<37:36,  8.85s/mapping]"
     ]
    },
    {
     "name": "stdout",
     "output_type": "stream",
     "text": [
      "Completed 736to551\n",
      "\n",
      "\n",
      "\n",
      "Started 737to696\n"
     ]
    },
    {
     "name": "stderr",
     "output_type": "stream",
     "text": [
      "Processing Mappings:  74%|███████▎  | 708/962 [1:14:20<37:27,  8.85s/mapping]"
     ]
    },
    {
     "name": "stdout",
     "output_type": "stream",
     "text": [
      "Completed 737to696\n",
      "\n",
      "\n",
      "\n",
      "Started 738to235\n"
     ]
    },
    {
     "name": "stderr",
     "output_type": "stream",
     "text": [
      "Processing Mappings:  74%|███████▎  | 709/962 [1:14:29<37:19,  8.85s/mapping]"
     ]
    },
    {
     "name": "stdout",
     "output_type": "stream",
     "text": [
      "Completed 738to235\n",
      "\n",
      "\n",
      "\n",
      "Started 739to458\n"
     ]
    },
    {
     "name": "stderr",
     "output_type": "stream",
     "text": [
      "Processing Mappings:  74%|███████▍  | 710/962 [1:14:38<37:11,  8.86s/mapping]"
     ]
    },
    {
     "name": "stdout",
     "output_type": "stream",
     "text": [
      "Completed 739to458\n",
      "\n",
      "\n",
      "\n",
      "Started 73to549\n"
     ]
    },
    {
     "name": "stderr",
     "output_type": "stream",
     "text": [
      "Processing Mappings:  74%|███████▍  | 711/962 [1:14:47<37:06,  8.87s/mapping]"
     ]
    },
    {
     "name": "stdout",
     "output_type": "stream",
     "text": [
      "Completed 73to549\n",
      "\n",
      "\n",
      "\n",
      "Started 740to743\n"
     ]
    },
    {
     "name": "stderr",
     "output_type": "stream",
     "text": [
      "Processing Mappings:  74%|███████▍  | 712/962 [1:14:55<36:57,  8.87s/mapping]"
     ]
    },
    {
     "name": "stdout",
     "output_type": "stream",
     "text": [
      "Completed 740to743\n",
      "\n",
      "\n",
      "\n",
      "Started 741to88\n"
     ]
    },
    {
     "name": "stderr",
     "output_type": "stream",
     "text": [
      "Processing Mappings:  74%|███████▍  | 713/962 [1:15:04<36:47,  8.87s/mapping]"
     ]
    },
    {
     "name": "stdout",
     "output_type": "stream",
     "text": [
      "Completed 741to88\n",
      "\n",
      "\n",
      "\n",
      "Started 742to482\n"
     ]
    },
    {
     "name": "stderr",
     "output_type": "stream",
     "text": [
      "Processing Mappings:  74%|███████▍  | 714/962 [1:15:13<36:37,  8.86s/mapping]"
     ]
    },
    {
     "name": "stdout",
     "output_type": "stream",
     "text": [
      "Completed 742to482\n",
      "\n",
      "\n",
      "\n",
      "Started 743to420\n"
     ]
    },
    {
     "name": "stderr",
     "output_type": "stream",
     "text": [
      "Processing Mappings:  74%|███████▍  | 715/962 [1:15:22<36:29,  8.86s/mapping]"
     ]
    },
    {
     "name": "stdout",
     "output_type": "stream",
     "text": [
      "Completed 743to420\n",
      "\n",
      "\n",
      "\n",
      "Started 744to516\n"
     ]
    },
    {
     "name": "stderr",
     "output_type": "stream",
     "text": [
      "Processing Mappings:  74%|███████▍  | 716/962 [1:15:31<36:23,  8.88s/mapping]"
     ]
    },
    {
     "name": "stdout",
     "output_type": "stream",
     "text": [
      "Completed 744to516\n",
      "\n",
      "\n",
      "\n",
      "Started 745to365\n"
     ]
    },
    {
     "name": "stderr",
     "output_type": "stream",
     "text": [
      "Processing Mappings:  75%|███████▍  | 717/962 [1:15:40<36:13,  8.87s/mapping]"
     ]
    },
    {
     "name": "stdout",
     "output_type": "stream",
     "text": [
      "Completed 745to365\n",
      "\n",
      "\n",
      "\n",
      "Started 746to839\n"
     ]
    },
    {
     "name": "stderr",
     "output_type": "stream",
     "text": [
      "Processing Mappings:  75%|███████▍  | 718/962 [1:15:48<35:45,  8.79s/mapping]"
     ]
    },
    {
     "name": "stdout",
     "output_type": "stream",
     "text": [
      "Completed 746to839\n",
      "\n",
      "\n",
      "\n",
      "Started 747to122\n"
     ]
    },
    {
     "name": "stderr",
     "output_type": "stream",
     "text": [
      "Processing Mappings:  75%|███████▍  | 719/962 [1:15:57<35:41,  8.81s/mapping]"
     ]
    },
    {
     "name": "stdout",
     "output_type": "stream",
     "text": [
      "Completed 747to122\n",
      "\n",
      "\n",
      "\n",
      "Started 748to8\n"
     ]
    },
    {
     "name": "stderr",
     "output_type": "stream",
     "text": [
      "Processing Mappings:  75%|███████▍  | 720/962 [1:16:06<35:36,  8.83s/mapping]"
     ]
    },
    {
     "name": "stdout",
     "output_type": "stream",
     "text": [
      "Completed 748to8\n",
      "\n",
      "\n",
      "\n",
      "Started 749to457\n"
     ]
    },
    {
     "name": "stderr",
     "output_type": "stream",
     "text": [
      "Processing Mappings:  75%|███████▍  | 721/962 [1:16:15<35:30,  8.84s/mapping]"
     ]
    },
    {
     "name": "stdout",
     "output_type": "stream",
     "text": [
      "Completed 749to457\n",
      "\n",
      "\n",
      "\n",
      "Started 74to483\n"
     ]
    },
    {
     "name": "stderr",
     "output_type": "stream",
     "text": [
      "Processing Mappings:  75%|███████▌  | 722/962 [1:16:24<35:26,  8.86s/mapping]"
     ]
    },
    {
     "name": "stdout",
     "output_type": "stream",
     "text": [
      "Completed 74to483\n",
      "\n",
      "\n",
      "\n",
      "Started 750to423\n"
     ]
    },
    {
     "name": "stderr",
     "output_type": "stream",
     "text": [
      "Processing Mappings:  75%|███████▌  | 723/962 [1:16:33<35:17,  8.86s/mapping]"
     ]
    },
    {
     "name": "stdout",
     "output_type": "stream",
     "text": [
      "Completed 750to423\n",
      "\n",
      "\n",
      "\n",
      "Started 751to812\n"
     ]
    },
    {
     "name": "stderr",
     "output_type": "stream",
     "text": [
      "Processing Mappings:  75%|███████▌  | 724/962 [1:16:42<35:12,  8.88s/mapping]"
     ]
    },
    {
     "name": "stdout",
     "output_type": "stream",
     "text": [
      "Completed 751to812\n",
      "\n",
      "\n",
      "\n",
      "Started 752to313\n"
     ]
    },
    {
     "name": "stderr",
     "output_type": "stream",
     "text": [
      "Processing Mappings:  75%|███████▌  | 725/962 [1:16:50<35:02,  8.87s/mapping]"
     ]
    },
    {
     "name": "stdout",
     "output_type": "stream",
     "text": [
      "Completed 752to313\n",
      "\n",
      "\n",
      "\n",
      "Started 753to379\n"
     ]
    },
    {
     "name": "stderr",
     "output_type": "stream",
     "text": [
      "Processing Mappings:  75%|███████▌  | 726/962 [1:16:59<34:52,  8.87s/mapping]"
     ]
    },
    {
     "name": "stdout",
     "output_type": "stream",
     "text": [
      "Completed 753to379\n",
      "\n",
      "\n",
      "\n",
      "Started 754to761\n"
     ]
    },
    {
     "name": "stderr",
     "output_type": "stream",
     "text": [
      "Processing Mappings:  76%|███████▌  | 727/962 [1:17:08<34:42,  8.86s/mapping]"
     ]
    },
    {
     "name": "stdout",
     "output_type": "stream",
     "text": [
      "Completed 754to761\n",
      "\n",
      "\n",
      "\n",
      "Started 755to273\n"
     ]
    },
    {
     "name": "stderr",
     "output_type": "stream",
     "text": [
      "Processing Mappings:  76%|███████▌  | 728/962 [1:17:17<34:36,  8.88s/mapping]"
     ]
    },
    {
     "name": "stdout",
     "output_type": "stream",
     "text": [
      "Completed 755to273\n",
      "\n",
      "\n",
      "\n",
      "Started 756to387\n"
     ]
    },
    {
     "name": "stderr",
     "output_type": "stream",
     "text": [
      "Processing Mappings:  76%|███████▌  | 729/962 [1:17:26<34:27,  8.88s/mapping]"
     ]
    },
    {
     "name": "stdout",
     "output_type": "stream",
     "text": [
      "Completed 756to387\n",
      "\n",
      "\n",
      "\n",
      "Started 757to591\n"
     ]
    },
    {
     "name": "stderr",
     "output_type": "stream",
     "text": [
      "Processing Mappings:  76%|███████▌  | 730/962 [1:17:35<34:17,  8.87s/mapping]"
     ]
    },
    {
     "name": "stdout",
     "output_type": "stream",
     "text": [
      "Completed 757to591\n",
      "\n",
      "\n",
      "\n",
      "Started 758to225\n"
     ]
    },
    {
     "name": "stderr",
     "output_type": "stream",
     "text": [
      "Processing Mappings:  76%|███████▌  | 731/962 [1:17:44<34:08,  8.87s/mapping]"
     ]
    },
    {
     "name": "stdout",
     "output_type": "stream",
     "text": [
      "Completed 758to225\n",
      "\n",
      "\n",
      "\n",
      "Started 759to304\n"
     ]
    },
    {
     "name": "stderr",
     "output_type": "stream",
     "text": [
      "Processing Mappings:  76%|███████▌  | 732/962 [1:17:53<33:58,  8.86s/mapping]"
     ]
    },
    {
     "name": "stdout",
     "output_type": "stream",
     "text": [
      "Completed 759to304\n",
      "\n",
      "\n",
      "\n",
      "Started 75to413\n"
     ]
    },
    {
     "name": "stderr",
     "output_type": "stream",
     "text": [
      "Processing Mappings:  76%|███████▌  | 733/962 [1:18:01<33:48,  8.86s/mapping]"
     ]
    },
    {
     "name": "stdout",
     "output_type": "stream",
     "text": [
      "Completed 75to413\n",
      "\n",
      "\n",
      "\n",
      "Started 760to725\n"
     ]
    },
    {
     "name": "stderr",
     "output_type": "stream",
     "text": [
      "Processing Mappings:  76%|███████▋  | 734/962 [1:18:10<33:39,  8.86s/mapping]"
     ]
    },
    {
     "name": "stdout",
     "output_type": "stream",
     "text": [
      "Completed 760to725\n",
      "\n",
      "\n",
      "\n",
      "Started 761to905\n"
     ]
    },
    {
     "name": "stderr",
     "output_type": "stream",
     "text": [
      "Processing Mappings:  76%|███████▋  | 735/962 [1:18:19<33:16,  8.79s/mapping]"
     ]
    },
    {
     "name": "stdout",
     "output_type": "stream",
     "text": [
      "Completed 761to905\n",
      "\n",
      "\n",
      "\n",
      "Started 762to613\n"
     ]
    },
    {
     "name": "stderr",
     "output_type": "stream",
     "text": [
      "Processing Mappings:  77%|███████▋  | 736/962 [1:18:28<33:11,  8.81s/mapping]"
     ]
    },
    {
     "name": "stdout",
     "output_type": "stream",
     "text": [
      "Completed 762to613\n",
      "\n",
      "\n",
      "\n",
      "Started 763to400\n"
     ]
    },
    {
     "name": "stderr",
     "output_type": "stream",
     "text": [
      "Processing Mappings:  77%|███████▋  | 737/962 [1:18:37<33:10,  8.85s/mapping]"
     ]
    },
    {
     "name": "stdout",
     "output_type": "stream",
     "text": [
      "Completed 763to400\n",
      "\n",
      "\n",
      "\n",
      "Started 764to885\n"
     ]
    },
    {
     "name": "stderr",
     "output_type": "stream",
     "text": [
      "Processing Mappings:  77%|███████▋  | 738/962 [1:18:45<32:52,  8.80s/mapping]"
     ]
    },
    {
     "name": "stdout",
     "output_type": "stream",
     "text": [
      "Completed 764to885\n",
      "\n",
      "\n",
      "\n",
      "Started 765to724\n"
     ]
    },
    {
     "name": "stderr",
     "output_type": "stream",
     "text": [
      "Processing Mappings:  77%|███████▋  | 739/962 [1:18:54<32:48,  8.83s/mapping]"
     ]
    },
    {
     "name": "stdout",
     "output_type": "stream",
     "text": [
      "Completed 765to724\n",
      "\n",
      "\n",
      "\n",
      "Started 766to461\n"
     ]
    },
    {
     "name": "stderr",
     "output_type": "stream",
     "text": [
      "Processing Mappings:  77%|███████▋  | 740/962 [1:19:03<32:42,  8.84s/mapping]"
     ]
    },
    {
     "name": "stdout",
     "output_type": "stream",
     "text": [
      "Completed 766to461\n",
      "\n",
      "\n",
      "\n",
      "Started 767to590\n"
     ]
    },
    {
     "name": "stderr",
     "output_type": "stream",
     "text": [
      "Processing Mappings:  77%|███████▋  | 741/962 [1:19:12<32:36,  8.85s/mapping]"
     ]
    },
    {
     "name": "stdout",
     "output_type": "stream",
     "text": [
      "Completed 767to590\n",
      "\n",
      "\n",
      "\n",
      "Started 768to262\n"
     ]
    },
    {
     "name": "stderr",
     "output_type": "stream",
     "text": [
      "Processing Mappings:  77%|███████▋  | 742/962 [1:19:21<32:31,  8.87s/mapping]"
     ]
    },
    {
     "name": "stdout",
     "output_type": "stream",
     "text": [
      "Completed 768to262\n",
      "\n",
      "\n",
      "\n",
      "Started 769to421\n"
     ]
    },
    {
     "name": "stderr",
     "output_type": "stream",
     "text": [
      "Processing Mappings:  77%|███████▋  | 743/962 [1:19:30<32:21,  8.87s/mapping]"
     ]
    },
    {
     "name": "stdout",
     "output_type": "stream",
     "text": [
      "Completed 769to421\n",
      "\n",
      "\n",
      "\n",
      "Started 76to825\n"
     ]
    },
    {
     "name": "stderr",
     "output_type": "stream",
     "text": [
      "Processing Mappings:  77%|███████▋  | 744/962 [1:19:39<32:03,  8.82s/mapping]"
     ]
    },
    {
     "name": "stdout",
     "output_type": "stream",
     "text": [
      "Completed 76to825\n",
      "\n",
      "\n",
      "\n",
      "Started 770to465\n"
     ]
    },
    {
     "name": "stderr",
     "output_type": "stream",
     "text": [
      "Processing Mappings:  77%|███████▋  | 745/962 [1:19:47<31:56,  8.83s/mapping]"
     ]
    },
    {
     "name": "stdout",
     "output_type": "stream",
     "text": [
      "Completed 770to465\n",
      "\n",
      "\n",
      "\n",
      "Started 771to632\n"
     ]
    },
    {
     "name": "stderr",
     "output_type": "stream",
     "text": [
      "Processing Mappings:  78%|███████▊  | 746/962 [1:19:56<31:51,  8.85s/mapping]"
     ]
    },
    {
     "name": "stdout",
     "output_type": "stream",
     "text": [
      "Completed 771to632\n",
      "\n",
      "\n",
      "\n",
      "Started 772to12\n"
     ]
    },
    {
     "name": "stderr",
     "output_type": "stream",
     "text": [
      "Processing Mappings:  78%|███████▊  | 747/962 [1:20:05<31:44,  8.86s/mapping]"
     ]
    },
    {
     "name": "stdout",
     "output_type": "stream",
     "text": [
      "Completed 772to12\n",
      "\n",
      "\n",
      "\n",
      "Started 773to49\n"
     ]
    },
    {
     "name": "stderr",
     "output_type": "stream",
     "text": [
      "Processing Mappings:  78%|███████▊  | 748/962 [1:20:14<31:36,  8.86s/mapping]"
     ]
    },
    {
     "name": "stdout",
     "output_type": "stream",
     "text": [
      "Completed 773to49\n",
      "\n",
      "\n",
      "\n",
      "Started 774to628\n"
     ]
    },
    {
     "name": "stderr",
     "output_type": "stream",
     "text": [
      "Processing Mappings:  78%|███████▊  | 749/962 [1:20:23<31:27,  8.86s/mapping]"
     ]
    },
    {
     "name": "stdout",
     "output_type": "stream",
     "text": [
      "Completed 774to628\n",
      "\n",
      "\n",
      "\n",
      "Started 775to269\n"
     ]
    },
    {
     "name": "stderr",
     "output_type": "stream",
     "text": [
      "Processing Mappings:  78%|███████▊  | 750/962 [1:20:32<31:22,  8.88s/mapping]"
     ]
    },
    {
     "name": "stdout",
     "output_type": "stream",
     "text": [
      "Completed 775to269\n",
      "\n",
      "\n",
      "\n",
      "Started 776to862\n"
     ]
    },
    {
     "name": "stderr",
     "output_type": "stream",
     "text": [
      "Processing Mappings:  78%|███████▊  | 751/962 [1:20:41<31:03,  8.83s/mapping]"
     ]
    },
    {
     "name": "stdout",
     "output_type": "stream",
     "text": [
      "Completed 776to862\n",
      "\n",
      "\n",
      "\n",
      "Started 777to397\n"
     ]
    },
    {
     "name": "stderr",
     "output_type": "stream",
     "text": [
      "Processing Mappings:  78%|███████▊  | 752/962 [1:20:49<30:40,  8.76s/mapping]"
     ]
    },
    {
     "name": "stdout",
     "output_type": "stream",
     "text": [
      "Completed 777to397\n",
      "\n",
      "\n",
      "\n",
      "Started 778to826\n"
     ]
    },
    {
     "name": "stderr",
     "output_type": "stream",
     "text": [
      "Processing Mappings:  78%|███████▊  | 753/962 [1:20:58<30:37,  8.79s/mapping]"
     ]
    },
    {
     "name": "stdout",
     "output_type": "stream",
     "text": [
      "Completed 778to826\n",
      "\n",
      "\n",
      "\n",
      "Started 779to798\n"
     ]
    },
    {
     "name": "stderr",
     "output_type": "stream",
     "text": [
      "Processing Mappings:  78%|███████▊  | 754/962 [1:21:07<30:24,  8.77s/mapping]"
     ]
    },
    {
     "name": "stdout",
     "output_type": "stream",
     "text": [
      "Completed 779to798\n",
      "\n",
      "\n",
      "\n",
      "Started 77to957\n"
     ]
    },
    {
     "name": "stderr",
     "output_type": "stream",
     "text": [
      "Processing Mappings:  78%|███████▊  | 755/962 [1:21:15<29:50,  8.65s/mapping]"
     ]
    },
    {
     "name": "stdout",
     "output_type": "stream",
     "text": [
      "Completed 77to957\n",
      "\n",
      "\n",
      "\n",
      "Started 780to910\n"
     ]
    },
    {
     "name": "stderr",
     "output_type": "stream",
     "text": [
      "Processing Mappings:  79%|███████▊  | 756/962 [1:21:24<29:30,  8.60s/mapping]"
     ]
    },
    {
     "name": "stdout",
     "output_type": "stream",
     "text": [
      "Completed 780to910\n",
      "\n",
      "\n",
      "\n",
      "Started 781to96\n"
     ]
    },
    {
     "name": "stderr",
     "output_type": "stream",
     "text": [
      "Processing Mappings:  79%|███████▊  | 757/962 [1:21:32<29:22,  8.60s/mapping]"
     ]
    },
    {
     "name": "stdout",
     "output_type": "stream",
     "text": [
      "Completed 781to96\n",
      "\n",
      "\n",
      "\n",
      "Started 782to733\n"
     ]
    },
    {
     "name": "stderr",
     "output_type": "stream",
     "text": [
      "Processing Mappings:  79%|███████▉  | 758/962 [1:21:41<29:13,  8.60s/mapping]"
     ]
    },
    {
     "name": "stdout",
     "output_type": "stream",
     "text": [
      "Completed 782to733\n",
      "\n",
      "\n",
      "\n",
      "Started 783to59\n"
     ]
    },
    {
     "name": "stderr",
     "output_type": "stream",
     "text": [
      "Processing Mappings:  79%|███████▉  | 759/962 [1:21:50<29:21,  8.68s/mapping]"
     ]
    },
    {
     "name": "stdout",
     "output_type": "stream",
     "text": [
      "Completed 783to59\n",
      "\n",
      "\n",
      "\n",
      "Started 784to213\n"
     ]
    },
    {
     "name": "stderr",
     "output_type": "stream",
     "text": [
      "Processing Mappings:  79%|███████▉  | 760/962 [1:21:58<29:09,  8.66s/mapping]"
     ]
    },
    {
     "name": "stdout",
     "output_type": "stream",
     "text": [
      "Completed 784to213\n",
      "\n",
      "\n",
      "\n",
      "Started 785to732\n"
     ]
    },
    {
     "name": "stderr",
     "output_type": "stream",
     "text": [
      "Processing Mappings:  79%|███████▉  | 761/962 [1:22:07<28:57,  8.65s/mapping]"
     ]
    },
    {
     "name": "stdout",
     "output_type": "stream",
     "text": [
      "Completed 785to732\n",
      "\n",
      "\n",
      "\n",
      "Started 786to617\n"
     ]
    },
    {
     "name": "stderr",
     "output_type": "stream",
     "text": [
      "Processing Mappings:  79%|███████▉  | 762/962 [1:22:15<28:46,  8.63s/mapping]"
     ]
    },
    {
     "name": "stdout",
     "output_type": "stream",
     "text": [
      "Completed 786to617\n",
      "\n",
      "\n",
      "\n",
      "Started 787to499\n"
     ]
    },
    {
     "name": "stderr",
     "output_type": "stream",
     "text": [
      "Processing Mappings:  79%|███████▉  | 763/962 [1:22:24<28:40,  8.65s/mapping]"
     ]
    },
    {
     "name": "stdout",
     "output_type": "stream",
     "text": [
      "Completed 787to499\n",
      "\n",
      "\n",
      "\n",
      "Started 788to81\n"
     ]
    },
    {
     "name": "stderr",
     "output_type": "stream",
     "text": [
      "Processing Mappings:  79%|███████▉  | 764/962 [1:22:33<28:29,  8.64s/mapping]"
     ]
    },
    {
     "name": "stdout",
     "output_type": "stream",
     "text": [
      "Completed 788to81\n",
      "\n",
      "\n",
      "\n",
      "Started 789to242\n"
     ]
    },
    {
     "name": "stderr",
     "output_type": "stream",
     "text": [
      "Processing Mappings:  80%|███████▉  | 765/962 [1:22:42<28:34,  8.70s/mapping]"
     ]
    },
    {
     "name": "stdout",
     "output_type": "stream",
     "text": [
      "Completed 789to242\n",
      "\n",
      "\n",
      "\n",
      "Started 78to25\n"
     ]
    },
    {
     "name": "stderr",
     "output_type": "stream",
     "text": [
      "Processing Mappings:  80%|███████▉  | 766/962 [1:22:50<28:34,  8.75s/mapping]"
     ]
    },
    {
     "name": "stdout",
     "output_type": "stream",
     "text": [
      "Completed 78to25\n",
      "\n",
      "\n",
      "\n",
      "Started 790to53\n"
     ]
    },
    {
     "name": "stderr",
     "output_type": "stream",
     "text": [
      "Processing Mappings:  80%|███████▉  | 767/962 [1:22:59<28:20,  8.72s/mapping]"
     ]
    },
    {
     "name": "stdout",
     "output_type": "stream",
     "text": [
      "Completed 790to53\n",
      "\n",
      "\n",
      "\n",
      "Started 791to861\n"
     ]
    },
    {
     "name": "stderr",
     "output_type": "stream",
     "text": [
      "Processing Mappings:  80%|███████▉  | 768/962 [1:23:08<27:58,  8.65s/mapping]"
     ]
    },
    {
     "name": "stdout",
     "output_type": "stream",
     "text": [
      "Completed 791to861\n",
      "\n",
      "\n",
      "\n",
      "Started 792to212\n"
     ]
    },
    {
     "name": "stderr",
     "output_type": "stream",
     "text": [
      "Processing Mappings:  80%|███████▉  | 769/962 [1:23:17<28:06,  8.74s/mapping]"
     ]
    },
    {
     "name": "stdout",
     "output_type": "stream",
     "text": [
      "Completed 792to212\n",
      "\n",
      "\n",
      "\n",
      "Started 793to643\n"
     ]
    },
    {
     "name": "stderr",
     "output_type": "stream",
     "text": [
      "Processing Mappings:  80%|████████  | 770/962 [1:23:25<27:50,  8.70s/mapping]"
     ]
    },
    {
     "name": "stdout",
     "output_type": "stream",
     "text": [
      "Completed 793to643\n",
      "\n",
      "\n",
      "\n",
      "Started 794to744\n"
     ]
    },
    {
     "name": "stderr",
     "output_type": "stream",
     "text": [
      "Processing Mappings:  80%|████████  | 771/962 [1:23:34<27:50,  8.75s/mapping]"
     ]
    },
    {
     "name": "stdout",
     "output_type": "stream",
     "text": [
      "Completed 794to744\n",
      "\n",
      "\n",
      "\n",
      "Started 795to16\n"
     ]
    },
    {
     "name": "stderr",
     "output_type": "stream",
     "text": [
      "Processing Mappings:  80%|████████  | 772/962 [1:23:43<27:34,  8.71s/mapping]"
     ]
    },
    {
     "name": "stdout",
     "output_type": "stream",
     "text": [
      "Completed 795to16\n",
      "\n",
      "\n",
      "\n",
      "Started 796to923\n"
     ]
    },
    {
     "name": "stderr",
     "output_type": "stream",
     "text": [
      "Processing Mappings:  80%|████████  | 773/962 [1:23:51<26:57,  8.56s/mapping]"
     ]
    },
    {
     "name": "stdout",
     "output_type": "stream",
     "text": [
      "Completed 796to923\n",
      "\n",
      "\n",
      "\n",
      "Started 797to817\n"
     ]
    },
    {
     "name": "stderr",
     "output_type": "stream",
     "text": [
      "Processing Mappings:  80%|████████  | 774/962 [1:23:59<26:37,  8.50s/mapping]"
     ]
    },
    {
     "name": "stdout",
     "output_type": "stream",
     "text": [
      "Completed 797to817\n",
      "\n",
      "\n",
      "\n",
      "Started 798to431\n"
     ]
    },
    {
     "name": "stderr",
     "output_type": "stream",
     "text": [
      "Processing Mappings:  81%|████████  | 775/962 [1:24:08<26:34,  8.53s/mapping]"
     ]
    },
    {
     "name": "stdout",
     "output_type": "stream",
     "text": [
      "Completed 798to431\n",
      "\n",
      "\n",
      "\n",
      "Started 799to641\n"
     ]
    },
    {
     "name": "stderr",
     "output_type": "stream",
     "text": [
      "Processing Mappings:  81%|████████  | 776/962 [1:24:16<26:31,  8.56s/mapping]"
     ]
    },
    {
     "name": "stdout",
     "output_type": "stream",
     "text": [
      "Completed 799to641\n",
      "\n",
      "\n",
      "\n",
      "Started 79to822\n"
     ]
    },
    {
     "name": "stderr",
     "output_type": "stream",
     "text": [
      "Processing Mappings:  81%|████████  | 777/962 [1:24:25<26:35,  8.63s/mapping]"
     ]
    },
    {
     "name": "stdout",
     "output_type": "stream",
     "text": [
      "Completed 79to822\n",
      "\n",
      "\n",
      "\n",
      "Started 7to623\n"
     ]
    },
    {
     "name": "stderr",
     "output_type": "stream",
     "text": [
      "Processing Mappings:  81%|████████  | 778/962 [1:24:34<26:39,  8.69s/mapping]"
     ]
    },
    {
     "name": "stdout",
     "output_type": "stream",
     "text": [
      "Completed 7to623\n",
      "\n",
      "\n",
      "\n",
      "Started 800to852\n"
     ]
    },
    {
     "name": "stderr",
     "output_type": "stream",
     "text": [
      "Processing Mappings:  81%|████████  | 779/962 [1:24:42<26:14,  8.60s/mapping]"
     ]
    },
    {
     "name": "stdout",
     "output_type": "stream",
     "text": [
      "Completed 800to852\n",
      "\n",
      "\n",
      "\n",
      "Started 801to240\n"
     ]
    },
    {
     "name": "stderr",
     "output_type": "stream",
     "text": [
      "Processing Mappings:  81%|████████  | 780/962 [1:24:51<25:51,  8.52s/mapping]"
     ]
    },
    {
     "name": "stdout",
     "output_type": "stream",
     "text": [
      "Completed 801to240\n",
      "\n",
      "\n",
      "\n",
      "Started 802to883\n"
     ]
    },
    {
     "name": "stderr",
     "output_type": "stream",
     "text": [
      "Processing Mappings:  81%|████████  | 781/962 [1:24:59<25:42,  8.52s/mapping]"
     ]
    },
    {
     "name": "stdout",
     "output_type": "stream",
     "text": [
      "Completed 802to883\n",
      "\n",
      "\n",
      "\n",
      "Started 803to580\n"
     ]
    },
    {
     "name": "stderr",
     "output_type": "stream",
     "text": [
      "Processing Mappings:  81%|████████▏ | 782/962 [1:25:08<25:38,  8.55s/mapping]"
     ]
    },
    {
     "name": "stdout",
     "output_type": "stream",
     "text": [
      "Completed 803to580\n",
      "\n",
      "\n",
      "\n",
      "Started 804to258\n"
     ]
    },
    {
     "name": "stderr",
     "output_type": "stream",
     "text": [
      "Processing Mappings:  81%|████████▏ | 783/962 [1:25:16<25:33,  8.57s/mapping]"
     ]
    },
    {
     "name": "stdout",
     "output_type": "stream",
     "text": [
      "Completed 804to258\n",
      "\n",
      "\n",
      "\n",
      "Started 805to44\n"
     ]
    },
    {
     "name": "stderr",
     "output_type": "stream",
     "text": [
      "Processing Mappings:  81%|████████▏ | 784/962 [1:25:25<25:28,  8.59s/mapping]"
     ]
    },
    {
     "name": "stdout",
     "output_type": "stream",
     "text": [
      "Completed 805to44\n",
      "\n",
      "\n",
      "\n",
      "Started 806to820\n"
     ]
    },
    {
     "name": "stderr",
     "output_type": "stream",
     "text": [
      "Processing Mappings:  82%|████████▏ | 785/962 [1:25:34<25:20,  8.59s/mapping]"
     ]
    },
    {
     "name": "stdout",
     "output_type": "stream",
     "text": [
      "Completed 806to820\n",
      "\n",
      "\n",
      "\n",
      "Started 807to11\n"
     ]
    },
    {
     "name": "stderr",
     "output_type": "stream",
     "text": [
      "Processing Mappings:  82%|████████▏ | 786/962 [1:25:42<25:12,  8.59s/mapping]"
     ]
    },
    {
     "name": "stdout",
     "output_type": "stream",
     "text": [
      "Completed 807to11\n",
      "\n",
      "\n",
      "\n",
      "Started 808to914\n"
     ]
    },
    {
     "name": "stderr",
     "output_type": "stream",
     "text": [
      "Processing Mappings:  82%|████████▏ | 787/962 [1:25:51<25:12,  8.64s/mapping]"
     ]
    },
    {
     "name": "stdout",
     "output_type": "stream",
     "text": [
      "Completed 808to914\n",
      "\n",
      "\n",
      "\n",
      "Started 809to585\n"
     ]
    },
    {
     "name": "stderr",
     "output_type": "stream",
     "text": [
      "Processing Mappings:  82%|████████▏ | 788/962 [1:26:00<25:02,  8.63s/mapping]"
     ]
    },
    {
     "name": "stdout",
     "output_type": "stream",
     "text": [
      "Completed 809to585\n",
      "\n",
      "\n",
      "\n",
      "Started 80to675\n"
     ]
    },
    {
     "name": "stderr",
     "output_type": "stream",
     "text": [
      "Processing Mappings:  82%|████████▏ | 789/962 [1:26:09<25:05,  8.70s/mapping]"
     ]
    },
    {
     "name": "stdout",
     "output_type": "stream",
     "text": [
      "Completed 80to675\n",
      "\n",
      "\n",
      "\n",
      "Started 810to771\n"
     ]
    },
    {
     "name": "stderr",
     "output_type": "stream",
     "text": [
      "Processing Mappings:  82%|████████▏ | 790/962 [1:26:17<25:07,  8.77s/mapping]"
     ]
    },
    {
     "name": "stdout",
     "output_type": "stream",
     "text": [
      "Completed 810to771\n",
      "\n",
      "\n",
      "\n",
      "Started 811to933\n"
     ]
    },
    {
     "name": "stderr",
     "output_type": "stream",
     "text": [
      "Processing Mappings:  82%|████████▏ | 791/962 [1:26:26<24:37,  8.64s/mapping]"
     ]
    },
    {
     "name": "stdout",
     "output_type": "stream",
     "text": [
      "Completed 811to933\n",
      "\n",
      "\n",
      "\n",
      "Started 812to881\n"
     ]
    },
    {
     "name": "stderr",
     "output_type": "stream",
     "text": [
      "Processing Mappings:  82%|████████▏ | 792/962 [1:26:34<24:29,  8.64s/mapping]"
     ]
    },
    {
     "name": "stdout",
     "output_type": "stream",
     "text": [
      "Completed 812to881\n",
      "\n",
      "\n",
      "\n",
      "Started 813to920\n"
     ]
    },
    {
     "name": "stderr",
     "output_type": "stream",
     "text": [
      "Processing Mappings:  82%|████████▏ | 793/962 [1:26:43<24:01,  8.53s/mapping]"
     ]
    },
    {
     "name": "stdout",
     "output_type": "stream",
     "text": [
      "Completed 813to920\n",
      "\n",
      "\n",
      "\n",
      "Started 814to417\n"
     ]
    },
    {
     "name": "stderr",
     "output_type": "stream",
     "text": [
      "Processing Mappings:  83%|████████▎ | 794/962 [1:26:51<23:57,  8.55s/mapping]"
     ]
    },
    {
     "name": "stdout",
     "output_type": "stream",
     "text": [
      "Completed 814to417\n",
      "\n",
      "\n",
      "\n",
      "Started 815to937\n"
     ]
    },
    {
     "name": "stderr",
     "output_type": "stream",
     "text": [
      "Processing Mappings:  83%|████████▎ | 795/962 [1:27:00<23:47,  8.55s/mapping]"
     ]
    },
    {
     "name": "stdout",
     "output_type": "stream",
     "text": [
      "Completed 815to937\n",
      "\n",
      "\n",
      "\n",
      "Started 816to437\n"
     ]
    },
    {
     "name": "stderr",
     "output_type": "stream",
     "text": [
      "Processing Mappings:  83%|████████▎ | 796/962 [1:27:09<23:57,  8.66s/mapping]"
     ]
    },
    {
     "name": "stdout",
     "output_type": "stream",
     "text": [
      "Completed 816to437\n",
      "\n",
      "\n",
      "\n",
      "Started 817to146\n"
     ]
    },
    {
     "name": "stderr",
     "output_type": "stream",
     "text": [
      "Processing Mappings:  83%|████████▎ | 797/962 [1:27:18<23:58,  8.72s/mapping]"
     ]
    },
    {
     "name": "stdout",
     "output_type": "stream",
     "text": [
      "Completed 817to146\n",
      "\n",
      "\n",
      "\n",
      "Started 818to879\n"
     ]
    },
    {
     "name": "stderr",
     "output_type": "stream",
     "text": [
      "Processing Mappings:  83%|████████▎ | 798/962 [1:27:26<23:25,  8.57s/mapping]"
     ]
    },
    {
     "name": "stdout",
     "output_type": "stream",
     "text": [
      "Completed 818to879\n",
      "\n",
      "\n",
      "\n",
      "Started 819to157\n"
     ]
    },
    {
     "name": "stderr",
     "output_type": "stream",
     "text": [
      "Processing Mappings:  83%|████████▎ | 799/962 [1:27:34<23:18,  8.58s/mapping]"
     ]
    },
    {
     "name": "stdout",
     "output_type": "stream",
     "text": [
      "Completed 819to157\n",
      "\n",
      "\n",
      "\n",
      "Started 81to444\n"
     ]
    },
    {
     "name": "stderr",
     "output_type": "stream",
     "text": [
      "Processing Mappings:  83%|████████▎ | 800/962 [1:27:43<23:23,  8.66s/mapping]"
     ]
    },
    {
     "name": "stdout",
     "output_type": "stream",
     "text": [
      "Completed 81to444\n",
      "\n",
      "\n",
      "\n",
      "Started 820to348\n"
     ]
    },
    {
     "name": "stderr",
     "output_type": "stream",
     "text": [
      "Processing Mappings:  83%|████████▎ | 801/962 [1:27:52<23:23,  8.72s/mapping]"
     ]
    },
    {
     "name": "stdout",
     "output_type": "stream",
     "text": [
      "Completed 820to348\n",
      "\n",
      "\n",
      "\n",
      "Started 821to803\n"
     ]
    },
    {
     "name": "stderr",
     "output_type": "stream",
     "text": [
      "Processing Mappings:  83%|████████▎ | 802/962 [1:28:00<22:51,  8.57s/mapping]"
     ]
    },
    {
     "name": "stdout",
     "output_type": "stream",
     "text": [
      "Completed 821to803\n",
      "\n",
      "\n",
      "\n",
      "Started 822to767\n"
     ]
    },
    {
     "name": "stderr",
     "output_type": "stream",
     "text": [
      "Processing Mappings:  83%|████████▎ | 803/962 [1:28:09<22:45,  8.59s/mapping]"
     ]
    },
    {
     "name": "stdout",
     "output_type": "stream",
     "text": [
      "Completed 822to767\n",
      "\n",
      "\n",
      "\n",
      "Started 823to107\n"
     ]
    },
    {
     "name": "stderr",
     "output_type": "stream",
     "text": [
      "Processing Mappings:  84%|████████▎ | 804/962 [1:28:18<22:37,  8.59s/mapping]"
     ]
    },
    {
     "name": "stdout",
     "output_type": "stream",
     "text": [
      "Completed 823to107\n",
      "\n",
      "\n",
      "\n",
      "Started 824to467\n"
     ]
    },
    {
     "name": "stderr",
     "output_type": "stream",
     "text": [
      "Processing Mappings:  84%|████████▎ | 805/962 [1:28:27<22:41,  8.67s/mapping]"
     ]
    },
    {
     "name": "stdout",
     "output_type": "stream",
     "text": [
      "Completed 824to467\n",
      "\n",
      "\n",
      "\n",
      "Started 825to175\n"
     ]
    },
    {
     "name": "stderr",
     "output_type": "stream",
     "text": [
      "Processing Mappings:  84%|████████▍ | 806/962 [1:28:35<22:30,  8.66s/mapping]"
     ]
    },
    {
     "name": "stdout",
     "output_type": "stream",
     "text": [
      "Completed 825to175\n",
      "\n",
      "\n",
      "\n",
      "Started 826to845\n"
     ]
    },
    {
     "name": "stderr",
     "output_type": "stream",
     "text": [
      "Processing Mappings:  84%|████████▍ | 807/962 [1:28:44<22:20,  8.65s/mapping]"
     ]
    },
    {
     "name": "stdout",
     "output_type": "stream",
     "text": [
      "Completed 826to845\n",
      "\n",
      "\n",
      "\n",
      "Started 827to98\n"
     ]
    },
    {
     "name": "stderr",
     "output_type": "stream",
     "text": [
      "Processing Mappings:  84%|████████▍ | 808/962 [1:28:52<22:10,  8.64s/mapping]"
     ]
    },
    {
     "name": "stdout",
     "output_type": "stream",
     "text": [
      "Completed 827to98\n",
      "\n",
      "\n",
      "\n",
      "Started 828to170\n"
     ]
    },
    {
     "name": "stderr",
     "output_type": "stream",
     "text": [
      "Processing Mappings:  84%|████████▍ | 809/962 [1:29:01<22:05,  8.66s/mapping]"
     ]
    },
    {
     "name": "stdout",
     "output_type": "stream",
     "text": [
      "Completed 828to170\n",
      "\n",
      "\n",
      "\n",
      "Started 829to832\n"
     ]
    },
    {
     "name": "stderr",
     "output_type": "stream",
     "text": [
      "Processing Mappings:  84%|████████▍ | 810/962 [1:29:10<21:59,  8.68s/mapping]"
     ]
    },
    {
     "name": "stdout",
     "output_type": "stream",
     "text": [
      "Completed 829to832\n",
      "\n",
      "\n",
      "\n",
      "Started 82to388\n"
     ]
    },
    {
     "name": "stderr",
     "output_type": "stream",
     "text": [
      "Processing Mappings:  84%|████████▍ | 811/962 [1:29:19<21:58,  8.73s/mapping]"
     ]
    },
    {
     "name": "stdout",
     "output_type": "stream",
     "text": [
      "Completed 82to388\n",
      "\n",
      "\n",
      "\n",
      "Started 830to4\n"
     ]
    },
    {
     "name": "stderr",
     "output_type": "stream",
     "text": [
      "Processing Mappings:  84%|████████▍ | 812/962 [1:29:28<21:55,  8.77s/mapping]"
     ]
    },
    {
     "name": "stdout",
     "output_type": "stream",
     "text": [
      "Completed 830to4\n",
      "\n",
      "\n",
      "\n",
      "Started 831to494\n"
     ]
    },
    {
     "name": "stderr",
     "output_type": "stream",
     "text": [
      "Processing Mappings:  85%|████████▍ | 813/962 [1:29:36<21:38,  8.72s/mapping]"
     ]
    },
    {
     "name": "stdout",
     "output_type": "stream",
     "text": [
      "Completed 831to494\n",
      "\n",
      "\n",
      "\n",
      "Started 832to382\n"
     ]
    },
    {
     "name": "stderr",
     "output_type": "stream",
     "text": [
      "Processing Mappings:  85%|████████▍ | 814/962 [1:29:45<21:25,  8.69s/mapping]"
     ]
    },
    {
     "name": "stdout",
     "output_type": "stream",
     "text": [
      "Completed 832to382\n",
      "\n",
      "\n",
      "\n",
      "Started 833to787\n"
     ]
    },
    {
     "name": "stderr",
     "output_type": "stream",
     "text": [
      "Processing Mappings:  85%|████████▍ | 815/962 [1:29:53<21:04,  8.60s/mapping]"
     ]
    },
    {
     "name": "stdout",
     "output_type": "stream",
     "text": [
      "Completed 833to787\n",
      "\n",
      "\n",
      "\n",
      "Started 834to848\n"
     ]
    },
    {
     "name": "stderr",
     "output_type": "stream",
     "text": [
      "Processing Mappings:  85%|████████▍ | 816/962 [1:30:02<21:03,  8.66s/mapping]"
     ]
    },
    {
     "name": "stdout",
     "output_type": "stream",
     "text": [
      "Completed 834to848\n",
      "\n",
      "\n",
      "\n",
      "Started 835to754\n"
     ]
    },
    {
     "name": "stderr",
     "output_type": "stream",
     "text": [
      "Processing Mappings:  85%|████████▍ | 817/962 [1:30:11<21:06,  8.73s/mapping]"
     ]
    },
    {
     "name": "stdout",
     "output_type": "stream",
     "text": [
      "Completed 835to754\n",
      "\n",
      "\n",
      "\n",
      "Started 836to948\n"
     ]
    },
    {
     "name": "stderr",
     "output_type": "stream",
     "text": [
      "Processing Mappings:  85%|████████▌ | 818/962 [1:30:20<20:57,  8.73s/mapping]"
     ]
    },
    {
     "name": "stdout",
     "output_type": "stream",
     "text": [
      "Completed 836to948\n",
      "\n",
      "\n",
      "\n",
      "Started 837to407\n"
     ]
    },
    {
     "name": "stderr",
     "output_type": "stream",
     "text": [
      "Processing Mappings:  85%|████████▌ | 819/962 [1:30:28<20:32,  8.62s/mapping]"
     ]
    },
    {
     "name": "stdout",
     "output_type": "stream",
     "text": [
      "Completed 837to407\n",
      "\n",
      "\n",
      "\n",
      "Started 838to322\n"
     ]
    },
    {
     "name": "stderr",
     "output_type": "stream",
     "text": [
      "Processing Mappings:  85%|████████▌ | 820/962 [1:30:37<20:33,  8.69s/mapping]"
     ]
    },
    {
     "name": "stdout",
     "output_type": "stream",
     "text": [
      "Completed 838to322\n",
      "\n",
      "\n",
      "\n",
      "Started 839to479\n"
     ]
    },
    {
     "name": "stderr",
     "output_type": "stream",
     "text": [
      "Processing Mappings:  85%|████████▌ | 821/962 [1:30:45<20:21,  8.66s/mapping]"
     ]
    },
    {
     "name": "stdout",
     "output_type": "stream",
     "text": [
      "Completed 839to479\n",
      "\n",
      "\n",
      "\n",
      "Started 83to831\n"
     ]
    },
    {
     "name": "stderr",
     "output_type": "stream",
     "text": [
      "Processing Mappings:  85%|████████▌ | 822/962 [1:30:54<20:07,  8.63s/mapping]"
     ]
    },
    {
     "name": "stdout",
     "output_type": "stream",
     "text": [
      "Completed 83to831\n",
      "\n",
      "\n",
      "\n",
      "Started 840to873\n"
     ]
    },
    {
     "name": "stderr",
     "output_type": "stream",
     "text": [
      "Processing Mappings:  86%|████████▌ | 823/962 [1:31:03<20:13,  8.73s/mapping]"
     ]
    },
    {
     "name": "stdout",
     "output_type": "stream",
     "text": [
      "Completed 840to873\n",
      "\n",
      "\n",
      "\n",
      "Started 841to183\n"
     ]
    },
    {
     "name": "stderr",
     "output_type": "stream",
     "text": [
      "Processing Mappings:  86%|████████▌ | 824/962 [1:31:11<19:59,  8.69s/mapping]"
     ]
    },
    {
     "name": "stdout",
     "output_type": "stream",
     "text": [
      "Completed 841to183\n",
      "\n",
      "\n",
      "\n",
      "Started 842to652\n"
     ]
    },
    {
     "name": "stderr",
     "output_type": "stream",
     "text": [
      "Processing Mappings:  86%|████████▌ | 825/962 [1:31:20<19:57,  8.74s/mapping]"
     ]
    },
    {
     "name": "stdout",
     "output_type": "stream",
     "text": [
      "Completed 842to652\n",
      "\n",
      "\n",
      "\n",
      "Started 843to659\n"
     ]
    },
    {
     "name": "stderr",
     "output_type": "stream",
     "text": [
      "Processing Mappings:  86%|████████▌ | 826/962 [1:31:29<19:42,  8.69s/mapping]"
     ]
    },
    {
     "name": "stdout",
     "output_type": "stream",
     "text": [
      "Completed 843to659\n",
      "\n",
      "\n",
      "\n",
      "Started 844to484\n"
     ]
    },
    {
     "name": "stderr",
     "output_type": "stream",
     "text": [
      "Processing Mappings:  86%|████████▌ | 827/962 [1:31:38<19:29,  8.66s/mapping]"
     ]
    },
    {
     "name": "stdout",
     "output_type": "stream",
     "text": [
      "Completed 844to484\n",
      "\n",
      "\n",
      "\n",
      "Started 845to108\n"
     ]
    },
    {
     "name": "stderr",
     "output_type": "stream",
     "text": [
      "Processing Mappings:  86%|████████▌ | 828/962 [1:31:46<19:17,  8.64s/mapping]"
     ]
    },
    {
     "name": "stdout",
     "output_type": "stream",
     "text": [
      "Completed 845to108\n",
      "\n",
      "\n",
      "\n",
      "Started 846to518\n"
     ]
    },
    {
     "name": "stderr",
     "output_type": "stream",
     "text": [
      "Processing Mappings:  86%|████████▌ | 829/962 [1:31:55<19:07,  8.63s/mapping]"
     ]
    },
    {
     "name": "stdout",
     "output_type": "stream",
     "text": [
      "Completed 846to518\n",
      "\n",
      "\n",
      "\n",
      "Started 847to731\n"
     ]
    },
    {
     "name": "stderr",
     "output_type": "stream",
     "text": [
      "Processing Mappings:  86%|████████▋ | 830/962 [1:32:04<19:08,  8.70s/mapping]"
     ]
    },
    {
     "name": "stdout",
     "output_type": "stream",
     "text": [
      "Completed 847to731\n",
      "\n",
      "\n",
      "\n",
      "Started 848to811\n"
     ]
    },
    {
     "name": "stderr",
     "output_type": "stream",
     "text": [
      "Processing Mappings:  86%|████████▋ | 831/962 [1:32:12<18:43,  8.58s/mapping]"
     ]
    },
    {
     "name": "stdout",
     "output_type": "stream",
     "text": [
      "Completed 848to811\n",
      "\n",
      "\n",
      "\n",
      "Started 849to646\n"
     ]
    },
    {
     "name": "stderr",
     "output_type": "stream",
     "text": [
      "Processing Mappings:  86%|████████▋ | 832/962 [1:32:21<18:37,  8.60s/mapping]"
     ]
    },
    {
     "name": "stdout",
     "output_type": "stream",
     "text": [
      "Completed 849to646\n",
      "\n",
      "\n",
      "\n",
      "Started 84to334\n"
     ]
    },
    {
     "name": "stderr",
     "output_type": "stream",
     "text": [
      "Processing Mappings:  87%|████████▋ | 833/962 [1:32:29<18:39,  8.68s/mapping]"
     ]
    },
    {
     "name": "stdout",
     "output_type": "stream",
     "text": [
      "Completed 84to334\n",
      "\n",
      "\n",
      "\n",
      "Started 850to173\n"
     ]
    },
    {
     "name": "stderr",
     "output_type": "stream",
     "text": [
      "Processing Mappings:  87%|████████▋ | 834/962 [1:32:38<18:27,  8.65s/mapping]"
     ]
    },
    {
     "name": "stdout",
     "output_type": "stream",
     "text": [
      "Completed 850to173\n",
      "\n",
      "\n",
      "\n",
      "Started 851to232\n"
     ]
    },
    {
     "name": "stderr",
     "output_type": "stream",
     "text": [
      "Processing Mappings:  87%|████████▋ | 835/962 [1:32:47<18:16,  8.64s/mapping]"
     ]
    },
    {
     "name": "stdout",
     "output_type": "stream",
     "text": [
      "Completed 851to232\n",
      "\n",
      "\n",
      "\n",
      "Started 852to596\n"
     ]
    },
    {
     "name": "stderr",
     "output_type": "stream",
     "text": [
      "Processing Mappings:  87%|████████▋ | 836/962 [1:32:55<18:06,  8.62s/mapping]"
     ]
    },
    {
     "name": "stdout",
     "output_type": "stream",
     "text": [
      "Completed 852to596\n",
      "\n",
      "\n",
      "\n",
      "Started 853to358\n"
     ]
    },
    {
     "name": "stderr",
     "output_type": "stream",
     "text": [
      "Processing Mappings:  87%|████████▋ | 837/962 [1:33:04<17:56,  8.61s/mapping]"
     ]
    },
    {
     "name": "stdout",
     "output_type": "stream",
     "text": [
      "Completed 853to358\n",
      "\n",
      "\n",
      "\n",
      "Started 854to876\n"
     ]
    },
    {
     "name": "stderr",
     "output_type": "stream",
     "text": [
      "Processing Mappings:  87%|████████▋ | 838/962 [1:33:12<17:39,  8.55s/mapping]"
     ]
    },
    {
     "name": "stdout",
     "output_type": "stream",
     "text": [
      "Completed 854to876\n",
      "\n",
      "\n",
      "\n",
      "Started 855to653\n"
     ]
    },
    {
     "name": "stderr",
     "output_type": "stream",
     "text": [
      "Processing Mappings:  87%|████████▋ | 839/962 [1:33:21<17:33,  8.56s/mapping]"
     ]
    },
    {
     "name": "stdout",
     "output_type": "stream",
     "text": [
      "Completed 855to653\n",
      "\n",
      "\n",
      "\n",
      "Started 856to899\n"
     ]
    },
    {
     "name": "stderr",
     "output_type": "stream",
     "text": [
      "Processing Mappings:  87%|████████▋ | 840/962 [1:33:29<17:10,  8.44s/mapping]"
     ]
    },
    {
     "name": "stdout",
     "output_type": "stream",
     "text": [
      "Completed 856to899\n",
      "\n",
      "\n",
      "\n",
      "Started 857to594\n"
     ]
    },
    {
     "name": "stderr",
     "output_type": "stream",
     "text": [
      "Processing Mappings:  87%|████████▋ | 841/962 [1:33:38<17:08,  8.50s/mapping]"
     ]
    },
    {
     "name": "stdout",
     "output_type": "stream",
     "text": [
      "Completed 857to594\n",
      "\n",
      "\n",
      "\n",
      "Started 858to547\n"
     ]
    },
    {
     "name": "stderr",
     "output_type": "stream",
     "text": [
      "Processing Mappings:  88%|████████▊ | 842/962 [1:33:46<17:12,  8.60s/mapping]"
     ]
    },
    {
     "name": "stdout",
     "output_type": "stream",
     "text": [
      "Completed 858to547\n",
      "\n",
      "\n",
      "\n",
      "Started 859to921\n"
     ]
    },
    {
     "name": "stderr",
     "output_type": "stream",
     "text": [
      "Processing Mappings:  88%|████████▊ | 843/962 [1:33:55<16:51,  8.50s/mapping]"
     ]
    },
    {
     "name": "stdout",
     "output_type": "stream",
     "text": [
      "Completed 859to921\n",
      "\n",
      "\n",
      "\n",
      "Started 85to97\n"
     ]
    },
    {
     "name": "stderr",
     "output_type": "stream",
     "text": [
      "Processing Mappings:  88%|████████▊ | 844/962 [1:34:04<17:00,  8.65s/mapping]"
     ]
    },
    {
     "name": "stdout",
     "output_type": "stream",
     "text": [
      "Completed 85to97\n",
      "\n",
      "\n",
      "\n",
      "Started 860to492\n"
     ]
    },
    {
     "name": "stderr",
     "output_type": "stream",
     "text": [
      "Processing Mappings:  88%|████████▊ | 845/962 [1:34:12<16:49,  8.63s/mapping]"
     ]
    },
    {
     "name": "stdout",
     "output_type": "stream",
     "text": [
      "Completed 860to492\n",
      "\n",
      "\n",
      "\n",
      "Started 861to649\n"
     ]
    },
    {
     "name": "stderr",
     "output_type": "stream",
     "text": [
      "Processing Mappings:  88%|████████▊ | 846/962 [1:34:21<16:41,  8.63s/mapping]"
     ]
    },
    {
     "name": "stdout",
     "output_type": "stream",
     "text": [
      "Completed 861to649\n",
      "\n",
      "\n",
      "\n",
      "Started 862to809\n"
     ]
    },
    {
     "name": "stderr",
     "output_type": "stream",
     "text": [
      "Processing Mappings:  88%|████████▊ | 847/962 [1:34:29<16:23,  8.56s/mapping]"
     ]
    },
    {
     "name": "stdout",
     "output_type": "stream",
     "text": [
      "Completed 862to809\n",
      "\n",
      "\n",
      "\n",
      "Started 863to331\n"
     ]
    },
    {
     "name": "stderr",
     "output_type": "stream",
     "text": [
      "Processing Mappings:  88%|████████▊ | 848/962 [1:34:38<16:26,  8.65s/mapping]"
     ]
    },
    {
     "name": "stdout",
     "output_type": "stream",
     "text": [
      "Completed 863to331\n",
      "\n",
      "\n",
      "\n",
      "Started 864to699\n"
     ]
    },
    {
     "name": "stderr",
     "output_type": "stream",
     "text": [
      "Processing Mappings:  88%|████████▊ | 849/962 [1:34:47<16:16,  8.65s/mapping]"
     ]
    },
    {
     "name": "stdout",
     "output_type": "stream",
     "text": [
      "Completed 864to699\n",
      "\n",
      "\n",
      "\n",
      "Started 865to177\n"
     ]
    },
    {
     "name": "stderr",
     "output_type": "stream",
     "text": [
      "Processing Mappings:  88%|████████▊ | 850/962 [1:34:55<16:06,  8.63s/mapping]"
     ]
    },
    {
     "name": "stdout",
     "output_type": "stream",
     "text": [
      "Completed 865to177\n",
      "\n",
      "\n",
      "\n",
      "Started 866to847\n"
     ]
    },
    {
     "name": "stderr",
     "output_type": "stream",
     "text": [
      "Processing Mappings:  88%|████████▊ | 851/962 [1:35:04<15:57,  8.62s/mapping]"
     ]
    },
    {
     "name": "stdout",
     "output_type": "stream",
     "text": [
      "Completed 866to847\n",
      "\n",
      "\n",
      "\n",
      "Started 867to712\n"
     ]
    },
    {
     "name": "stderr",
     "output_type": "stream",
     "text": [
      "Processing Mappings:  89%|████████▊ | 852/962 [1:35:13<15:47,  8.62s/mapping]"
     ]
    },
    {
     "name": "stdout",
     "output_type": "stream",
     "text": [
      "Completed 867to712\n",
      "\n",
      "\n",
      "\n",
      "Started 868to810\n"
     ]
    },
    {
     "name": "stderr",
     "output_type": "stream",
     "text": [
      "Processing Mappings:  89%|████████▊ | 853/962 [1:35:21<15:37,  8.60s/mapping]"
     ]
    },
    {
     "name": "stdout",
     "output_type": "stream",
     "text": [
      "Completed 868to810\n",
      "\n",
      "\n",
      "\n",
      "Started 869to480\n"
     ]
    },
    {
     "name": "stderr",
     "output_type": "stream",
     "text": [
      "Processing Mappings:  89%|████████▉ | 854/962 [1:35:30<15:37,  8.68s/mapping]"
     ]
    },
    {
     "name": "stdout",
     "output_type": "stream",
     "text": [
      "Completed 869to480\n",
      "\n",
      "\n",
      "\n",
      "Started 86to684\n"
     ]
    },
    {
     "name": "stderr",
     "output_type": "stream",
     "text": [
      "Processing Mappings:  89%|████████▉ | 855/962 [1:35:39<15:35,  8.75s/mapping]"
     ]
    },
    {
     "name": "stdout",
     "output_type": "stream",
     "text": [
      "Completed 86to684\n",
      "\n",
      "\n",
      "\n",
      "Started 870to52\n"
     ]
    },
    {
     "name": "stderr",
     "output_type": "stream",
     "text": [
      "Processing Mappings:  89%|████████▉ | 856/962 [1:35:47<15:22,  8.70s/mapping]"
     ]
    },
    {
     "name": "stdout",
     "output_type": "stream",
     "text": [
      "Completed 870to52\n",
      "\n",
      "\n",
      "\n",
      "Started 871to33\n"
     ]
    },
    {
     "name": "stderr",
     "output_type": "stream",
     "text": [
      "Processing Mappings:  89%|████████▉ | 857/962 [1:35:56<15:14,  8.71s/mapping]"
     ]
    },
    {
     "name": "stdout",
     "output_type": "stream",
     "text": [
      "Completed 871to33\n",
      "\n",
      "\n",
      "\n",
      "Started 872to493\n"
     ]
    },
    {
     "name": "stderr",
     "output_type": "stream",
     "text": [
      "Processing Mappings:  89%|████████▉ | 858/962 [1:36:05<15:03,  8.68s/mapping]"
     ]
    },
    {
     "name": "stdout",
     "output_type": "stream",
     "text": [
      "Completed 872to493\n",
      "\n",
      "\n",
      "\n",
      "Started 873to282\n"
     ]
    },
    {
     "name": "stderr",
     "output_type": "stream",
     "text": [
      "Processing Mappings:  89%|████████▉ | 859/962 [1:36:14<14:59,  8.73s/mapping]"
     ]
    },
    {
     "name": "stdout",
     "output_type": "stream",
     "text": [
      "Completed 873to282\n",
      "\n",
      "\n",
      "\n",
      "Started 874to958\n"
     ]
    },
    {
     "name": "stderr",
     "output_type": "stream",
     "text": [
      "Processing Mappings:  89%|████████▉ | 860/962 [1:36:22<14:36,  8.59s/mapping]"
     ]
    },
    {
     "name": "stdout",
     "output_type": "stream",
     "text": [
      "Completed 874to958\n",
      "\n",
      "\n",
      "\n",
      "Started 875to406\n"
     ]
    },
    {
     "name": "stderr",
     "output_type": "stream",
     "text": [
      "Processing Mappings:  90%|████████▉ | 861/962 [1:36:31<14:27,  8.59s/mapping]"
     ]
    },
    {
     "name": "stdout",
     "output_type": "stream",
     "text": [
      "Completed 875to406\n",
      "\n",
      "\n",
      "\n",
      "Started 876to399\n"
     ]
    },
    {
     "name": "stderr",
     "output_type": "stream",
     "text": [
      "Processing Mappings:  90%|████████▉ | 862/962 [1:36:39<14:18,  8.59s/mapping]"
     ]
    },
    {
     "name": "stdout",
     "output_type": "stream",
     "text": [
      "Completed 876to399\n",
      "\n",
      "\n",
      "\n",
      "Started 877to323\n"
     ]
    },
    {
     "name": "stderr",
     "output_type": "stream",
     "text": [
      "Processing Mappings:  90%|████████▉ | 863/962 [1:36:48<14:10,  8.59s/mapping]"
     ]
    },
    {
     "name": "stdout",
     "output_type": "stream",
     "text": [
      "Completed 877to323\n",
      "\n",
      "\n",
      "\n",
      "Started 878to917\n"
     ]
    },
    {
     "name": "stderr",
     "output_type": "stream",
     "text": [
      "Processing Mappings:  90%|████████▉ | 864/962 [1:36:56<14:04,  8.61s/mapping]"
     ]
    },
    {
     "name": "stdout",
     "output_type": "stream",
     "text": [
      "Completed 878to917\n",
      "\n",
      "\n",
      "\n",
      "Started 879to459\n"
     ]
    },
    {
     "name": "stderr",
     "output_type": "stream",
     "text": [
      "Processing Mappings:  90%|████████▉ | 865/962 [1:37:05<13:55,  8.62s/mapping]"
     ]
    },
    {
     "name": "stdout",
     "output_type": "stream",
     "text": [
      "Completed 879to459\n",
      "\n",
      "\n",
      "\n",
      "Started 87to76\n"
     ]
    },
    {
     "name": "stderr",
     "output_type": "stream",
     "text": [
      "Processing Mappings:  90%|█████████ | 866/962 [1:37:14<13:54,  8.69s/mapping]"
     ]
    },
    {
     "name": "stdout",
     "output_type": "stream",
     "text": [
      "Completed 87to76\n",
      "\n",
      "\n",
      "\n",
      "Started 880to791\n"
     ]
    },
    {
     "name": "stderr",
     "output_type": "stream",
     "text": [
      "Processing Mappings:  90%|█████████ | 867/962 [1:37:22<13:39,  8.62s/mapping]"
     ]
    },
    {
     "name": "stdout",
     "output_type": "stream",
     "text": [
      "Completed 880to791\n",
      "\n",
      "\n",
      "\n",
      "Started 881to504\n"
     ]
    },
    {
     "name": "stderr",
     "output_type": "stream",
     "text": [
      "Processing Mappings:  90%|█████████ | 868/962 [1:37:31<13:29,  8.61s/mapping]"
     ]
    },
    {
     "name": "stdout",
     "output_type": "stream",
     "text": [
      "Completed 881to504\n",
      "\n",
      "\n",
      "\n",
      "Started 882to178\n"
     ]
    },
    {
     "name": "stderr",
     "output_type": "stream",
     "text": [
      "Processing Mappings:  90%|█████████ | 869/962 [1:37:40<13:20,  8.61s/mapping]"
     ]
    },
    {
     "name": "stdout",
     "output_type": "stream",
     "text": [
      "Completed 882to178\n",
      "\n",
      "\n",
      "\n",
      "Started 883to281\n"
     ]
    },
    {
     "name": "stderr",
     "output_type": "stream",
     "text": [
      "Processing Mappings:  90%|█████████ | 870/962 [1:37:48<13:14,  8.63s/mapping]"
     ]
    },
    {
     "name": "stdout",
     "output_type": "stream",
     "text": [
      "Completed 883to281\n",
      "\n",
      "\n",
      "\n",
      "Started 884to353\n"
     ]
    },
    {
     "name": "stderr",
     "output_type": "stream",
     "text": [
      "Processing Mappings:  91%|█████████ | 871/962 [1:37:57<13:05,  8.63s/mapping]"
     ]
    },
    {
     "name": "stdout",
     "output_type": "stream",
     "text": [
      "Completed 884to353\n",
      "\n",
      "\n",
      "\n",
      "Started 885to657\n"
     ]
    },
    {
     "name": "stderr",
     "output_type": "stream",
     "text": [
      "Processing Mappings:  91%|█████████ | 872/962 [1:38:05<12:55,  8.62s/mapping]"
     ]
    },
    {
     "name": "stdout",
     "output_type": "stream",
     "text": [
      "Completed 885to657\n",
      "\n",
      "\n",
      "\n",
      "Started 886to378\n"
     ]
    },
    {
     "name": "stderr",
     "output_type": "stream",
     "text": [
      "Processing Mappings:  91%|█████████ | 873/962 [1:38:14<12:46,  8.62s/mapping]"
     ]
    },
    {
     "name": "stdout",
     "output_type": "stream",
     "text": [
      "Completed 886to378\n",
      "\n",
      "\n",
      "\n",
      "Started 887to317\n"
     ]
    },
    {
     "name": "stderr",
     "output_type": "stream",
     "text": [
      "Processing Mappings:  91%|█████████ | 874/962 [1:38:23<12:37,  8.61s/mapping]"
     ]
    },
    {
     "name": "stdout",
     "output_type": "stream",
     "text": [
      "Completed 887to317\n",
      "\n",
      "\n",
      "\n",
      "Started 888to155\n"
     ]
    },
    {
     "name": "stderr",
     "output_type": "stream",
     "text": [
      "Processing Mappings:  91%|█████████ | 875/962 [1:38:31<12:29,  8.61s/mapping]"
     ]
    },
    {
     "name": "stdout",
     "output_type": "stream",
     "text": [
      "Completed 888to155\n",
      "\n",
      "\n",
      "\n",
      "Started 889to330\n"
     ]
    },
    {
     "name": "stderr",
     "output_type": "stream",
     "text": [
      "Processing Mappings:  91%|█████████ | 876/962 [1:38:40<12:22,  8.63s/mapping]"
     ]
    },
    {
     "name": "stdout",
     "output_type": "stream",
     "text": [
      "Completed 889to330\n",
      "\n",
      "\n",
      "\n",
      "Started 88to375\n"
     ]
    },
    {
     "name": "stderr",
     "output_type": "stream",
     "text": [
      "Processing Mappings:  91%|█████████ | 877/962 [1:38:49<12:19,  8.70s/mapping]"
     ]
    },
    {
     "name": "stdout",
     "output_type": "stream",
     "text": [
      "Completed 88to375\n",
      "\n",
      "\n",
      "\n",
      "Started 890to485\n"
     ]
    },
    {
     "name": "stderr",
     "output_type": "stream",
     "text": [
      "Processing Mappings:  91%|█████████▏| 878/962 [1:38:57<12:08,  8.67s/mapping]"
     ]
    },
    {
     "name": "stdout",
     "output_type": "stream",
     "text": [
      "Completed 890to485\n",
      "\n",
      "\n",
      "\n",
      "Started 891to525\n"
     ]
    },
    {
     "name": "stderr",
     "output_type": "stream",
     "text": [
      "Processing Mappings:  91%|█████████▏| 879/962 [1:39:06<12:03,  8.72s/mapping]"
     ]
    },
    {
     "name": "stdout",
     "output_type": "stream",
     "text": [
      "Completed 891to525\n",
      "\n",
      "\n",
      "\n",
      "Started 892to429\n"
     ]
    },
    {
     "name": "stderr",
     "output_type": "stream",
     "text": [
      "Processing Mappings:  91%|█████████▏| 880/962 [1:39:15<11:52,  8.68s/mapping]"
     ]
    },
    {
     "name": "stdout",
     "output_type": "stream",
     "text": [
      "Completed 892to429\n",
      "\n",
      "\n",
      "\n",
      "Started 893to683\n"
     ]
    },
    {
     "name": "stderr",
     "output_type": "stream",
     "text": [
      "Processing Mappings:  92%|█████████▏| 881/962 [1:39:23<11:35,  8.58s/mapping]"
     ]
    },
    {
     "name": "stdout",
     "output_type": "stream",
     "text": [
      "Completed 893to683\n",
      "\n",
      "\n",
      "\n",
      "Started 894to424\n"
     ]
    },
    {
     "name": "stderr",
     "output_type": "stream",
     "text": [
      "Processing Mappings:  92%|█████████▏| 882/962 [1:39:32<11:27,  8.60s/mapping]"
     ]
    },
    {
     "name": "stdout",
     "output_type": "stream",
     "text": [
      "Completed 894to424\n",
      "\n",
      "\n",
      "\n",
      "Started 895to636\n"
     ]
    },
    {
     "name": "stderr",
     "output_type": "stream",
     "text": [
      "Processing Mappings:  92%|█████████▏| 883/962 [1:39:40<11:13,  8.52s/mapping]"
     ]
    },
    {
     "name": "stdout",
     "output_type": "stream",
     "text": [
      "Completed 895to636\n",
      "\n",
      "\n",
      "\n",
      "Started 896to529\n"
     ]
    },
    {
     "name": "stderr",
     "output_type": "stream",
     "text": [
      "Processing Mappings:  92%|█████████▏| 884/962 [1:39:49<11:13,  8.64s/mapping]"
     ]
    },
    {
     "name": "stdout",
     "output_type": "stream",
     "text": [
      "Completed 896to529\n",
      "\n",
      "\n",
      "\n",
      "Started 897to880\n"
     ]
    },
    {
     "name": "stderr",
     "output_type": "stream",
     "text": [
      "Processing Mappings:  92%|█████████▏| 885/962 [1:39:57<10:54,  8.50s/mapping]"
     ]
    },
    {
     "name": "stdout",
     "output_type": "stream",
     "text": [
      "Completed 897to880\n",
      "\n",
      "\n",
      "\n",
      "Started 898to91\n"
     ]
    },
    {
     "name": "stderr",
     "output_type": "stream",
     "text": [
      "Processing Mappings:  92%|█████████▏| 886/962 [1:40:06<10:48,  8.53s/mapping]"
     ]
    },
    {
     "name": "stdout",
     "output_type": "stream",
     "text": [
      "Completed 898to91\n",
      "\n",
      "\n",
      "\n",
      "Started 899to256\n"
     ]
    },
    {
     "name": "stderr",
     "output_type": "stream",
     "text": [
      "Processing Mappings:  92%|█████████▏| 887/962 [1:40:15<10:43,  8.59s/mapping]"
     ]
    },
    {
     "name": "stdout",
     "output_type": "stream",
     "text": [
      "Completed 899to256\n",
      "\n",
      "\n",
      "\n",
      "Started 89to263\n"
     ]
    },
    {
     "name": "stderr",
     "output_type": "stream",
     "text": [
      "Processing Mappings:  92%|█████████▏| 888/962 [1:40:23<10:42,  8.68s/mapping]"
     ]
    },
    {
     "name": "stdout",
     "output_type": "stream",
     "text": [
      "Completed 89to263\n",
      "\n",
      "\n",
      "\n",
      "Started 8to364\n"
     ]
    },
    {
     "name": "stderr",
     "output_type": "stream",
     "text": [
      "Processing Mappings:  92%|█████████▏| 889/962 [1:40:32<10:37,  8.73s/mapping]"
     ]
    },
    {
     "name": "stdout",
     "output_type": "stream",
     "text": [
      "Completed 8to364\n",
      "\n",
      "\n",
      "\n",
      "Started 900to360\n"
     ]
    },
    {
     "name": "stderr",
     "output_type": "stream",
     "text": [
      "Processing Mappings:  93%|█████████▎| 890/962 [1:40:41<10:26,  8.70s/mapping]"
     ]
    },
    {
     "name": "stdout",
     "output_type": "stream",
     "text": [
      "Completed 900to360\n",
      "\n",
      "\n",
      "\n",
      "Started 901to306\n"
     ]
    },
    {
     "name": "stderr",
     "output_type": "stream",
     "text": [
      "Processing Mappings:  93%|█████████▎| 891/962 [1:40:49<10:10,  8.60s/mapping]"
     ]
    },
    {
     "name": "stdout",
     "output_type": "stream",
     "text": [
      "Completed 901to306\n",
      "\n",
      "\n",
      "\n",
      "Started 902to936\n"
     ]
    },
    {
     "name": "stderr",
     "output_type": "stream",
     "text": [
      "Processing Mappings:  93%|█████████▎| 892/962 [1:40:58<09:57,  8.54s/mapping]"
     ]
    },
    {
     "name": "stdout",
     "output_type": "stream",
     "text": [
      "Completed 902to936\n",
      "\n",
      "\n",
      "\n",
      "Started 903to251\n"
     ]
    },
    {
     "name": "stderr",
     "output_type": "stream",
     "text": [
      "Processing Mappings:  93%|█████████▎| 893/962 [1:41:06<09:50,  8.55s/mapping]"
     ]
    },
    {
     "name": "stdout",
     "output_type": "stream",
     "text": [
      "Completed 903to251\n",
      "\n",
      "\n",
      "\n",
      "Started 904to526\n"
     ]
    },
    {
     "name": "stderr",
     "output_type": "stream",
     "text": [
      "Processing Mappings:  93%|█████████▎| 894/962 [1:41:15<09:37,  8.50s/mapping]"
     ]
    },
    {
     "name": "stdout",
     "output_type": "stream",
     "text": [
      "Completed 904to526\n",
      "\n",
      "\n",
      "\n",
      "Started 905to124\n"
     ]
    },
    {
     "name": "stderr",
     "output_type": "stream",
     "text": [
      "Processing Mappings:  93%|█████████▎| 895/962 [1:41:23<09:31,  8.53s/mapping]"
     ]
    },
    {
     "name": "stdout",
     "output_type": "stream",
     "text": [
      "Completed 905to124\n",
      "\n",
      "\n",
      "\n",
      "Started 906to463\n"
     ]
    },
    {
     "name": "stderr",
     "output_type": "stream",
     "text": [
      "Processing Mappings:  93%|█████████▎| 896/962 [1:41:32<09:24,  8.55s/mapping]"
     ]
    },
    {
     "name": "stdout",
     "output_type": "stream",
     "text": [
      "Completed 906to463\n",
      "\n",
      "\n",
      "\n",
      "Started 907to837\n"
     ]
    },
    {
     "name": "stderr",
     "output_type": "stream",
     "text": [
      "Processing Mappings:  93%|█████████▎| 897/962 [1:41:40<09:13,  8.51s/mapping]"
     ]
    },
    {
     "name": "stdout",
     "output_type": "stream",
     "text": [
      "Completed 907to837\n",
      "\n",
      "\n",
      "\n",
      "Started 908to889\n"
     ]
    },
    {
     "name": "stderr",
     "output_type": "stream",
     "text": [
      "Processing Mappings:  93%|█████████▎| 898/962 [1:41:49<09:08,  8.58s/mapping]"
     ]
    },
    {
     "name": "stdout",
     "output_type": "stream",
     "text": [
      "Completed 908to889\n",
      "\n",
      "\n",
      "\n",
      "Started 909to320\n"
     ]
    },
    {
     "name": "stderr",
     "output_type": "stream",
     "text": [
      "Processing Mappings:  93%|█████████▎| 899/962 [1:41:58<09:00,  8.58s/mapping]"
     ]
    },
    {
     "name": "stdout",
     "output_type": "stream",
     "text": [
      "Completed 909to320\n",
      "\n",
      "\n",
      "\n",
      "Started 90to370\n"
     ]
    },
    {
     "name": "stderr",
     "output_type": "stream",
     "text": [
      "Processing Mappings:  94%|█████████▎| 900/962 [1:42:06<08:57,  8.66s/mapping]"
     ]
    },
    {
     "name": "stdout",
     "output_type": "stream",
     "text": [
      "Completed 90to370\n",
      "\n",
      "\n",
      "\n",
      "Started 910to927\n"
     ]
    },
    {
     "name": "stderr",
     "output_type": "stream",
     "text": [
      "Processing Mappings:  94%|█████████▎| 901/962 [1:42:15<08:41,  8.55s/mapping]"
     ]
    },
    {
     "name": "stdout",
     "output_type": "stream",
     "text": [
      "Completed 910to927\n",
      "\n",
      "\n",
      "\n",
      "Started 911to409\n"
     ]
    },
    {
     "name": "stderr",
     "output_type": "stream",
     "text": [
      "Processing Mappings:  94%|█████████▍| 902/962 [1:42:23<08:34,  8.57s/mapping]"
     ]
    },
    {
     "name": "stdout",
     "output_type": "stream",
     "text": [
      "Completed 911to409\n",
      "\n",
      "\n",
      "\n",
      "Started 912to350\n"
     ]
    },
    {
     "name": "stderr",
     "output_type": "stream",
     "text": [
      "Processing Mappings:  94%|█████████▍| 903/962 [1:42:32<08:21,  8.51s/mapping]"
     ]
    },
    {
     "name": "stdout",
     "output_type": "stream",
     "text": [
      "Completed 912to350\n",
      "\n",
      "\n",
      "\n",
      "Started 913to565\n"
     ]
    },
    {
     "name": "stderr",
     "output_type": "stream",
     "text": [
      "Processing Mappings:  94%|█████████▍| 904/962 [1:42:40<08:14,  8.53s/mapping]"
     ]
    },
    {
     "name": "stdout",
     "output_type": "stream",
     "text": [
      "Completed 913to565\n",
      "\n",
      "\n",
      "\n",
      "Started 914to650\n"
     ]
    },
    {
     "name": "stderr",
     "output_type": "stream",
     "text": [
      "Processing Mappings:  94%|█████████▍| 905/962 [1:42:49<08:08,  8.57s/mapping]"
     ]
    },
    {
     "name": "stdout",
     "output_type": "stream",
     "text": [
      "Completed 914to650\n",
      "\n",
      "\n",
      "\n",
      "Started 915to440\n"
     ]
    },
    {
     "name": "stderr",
     "output_type": "stream",
     "text": [
      "Processing Mappings:  94%|█████████▍| 906/962 [1:42:58<08:00,  8.58s/mapping]"
     ]
    },
    {
     "name": "stdout",
     "output_type": "stream",
     "text": [
      "Completed 915to440\n",
      "\n",
      "\n",
      "\n",
      "Started 916to149\n"
     ]
    },
    {
     "name": "stderr",
     "output_type": "stream",
     "text": [
      "Processing Mappings:  94%|█████████▍| 907/962 [1:43:06<07:52,  8.58s/mapping]"
     ]
    },
    {
     "name": "stdout",
     "output_type": "stream",
     "text": [
      "Completed 916to149\n",
      "\n",
      "\n",
      "\n",
      "Started 917to390\n"
     ]
    },
    {
     "name": "stderr",
     "output_type": "stream",
     "text": [
      "Processing Mappings:  94%|█████████▍| 908/962 [1:43:15<07:47,  8.66s/mapping]"
     ]
    },
    {
     "name": "stdout",
     "output_type": "stream",
     "text": [
      "Completed 917to390\n",
      "\n",
      "\n",
      "\n",
      "Started 918to491\n"
     ]
    },
    {
     "name": "stderr",
     "output_type": "stream",
     "text": [
      "Processing Mappings:  94%|█████████▍| 909/962 [1:43:24<07:38,  8.65s/mapping]"
     ]
    },
    {
     "name": "stdout",
     "output_type": "stream",
     "text": [
      "Completed 918to491\n",
      "\n",
      "\n",
      "\n",
      "Started 919to747\n"
     ]
    },
    {
     "name": "stderr",
     "output_type": "stream",
     "text": [
      "Processing Mappings:  95%|█████████▍| 910/962 [1:43:32<07:25,  8.56s/mapping]"
     ]
    },
    {
     "name": "stdout",
     "output_type": "stream",
     "text": [
      "Completed 919to747\n",
      "\n",
      "\n",
      "\n",
      "Started 91to734\n"
     ]
    },
    {
     "name": "stderr",
     "output_type": "stream",
     "text": [
      "Processing Mappings:  95%|█████████▍| 911/962 [1:43:41<07:21,  8.66s/mapping]"
     ]
    },
    {
     "name": "stdout",
     "output_type": "stream",
     "text": [
      "Completed 91to734\n",
      "\n",
      "\n",
      "\n",
      "Started 920to562\n"
     ]
    },
    {
     "name": "stderr",
     "output_type": "stream",
     "text": [
      "Processing Mappings:  95%|█████████▍| 912/962 [1:43:49<07:08,  8.57s/mapping]"
     ]
    },
    {
     "name": "stdout",
     "output_type": "stream",
     "text": [
      "Completed 920to562\n",
      "\n",
      "\n",
      "\n",
      "Started 921to161\n"
     ]
    },
    {
     "name": "stderr",
     "output_type": "stream",
     "text": [
      "Processing Mappings:  95%|█████████▍| 913/962 [1:43:58<06:57,  8.52s/mapping]"
     ]
    },
    {
     "name": "stdout",
     "output_type": "stream",
     "text": [
      "Completed 921to161\n",
      "\n",
      "\n",
      "\n",
      "Started 922to190\n"
     ]
    },
    {
     "name": "stderr",
     "output_type": "stream",
     "text": [
      "Processing Mappings:  95%|█████████▌| 914/962 [1:44:06<06:46,  8.48s/mapping]"
     ]
    },
    {
     "name": "stdout",
     "output_type": "stream",
     "text": [
      "Completed 922to190\n",
      "\n",
      "\n",
      "\n",
      "Started 923to813\n"
     ]
    },
    {
     "name": "stderr",
     "output_type": "stream",
     "text": [
      "Processing Mappings:  95%|█████████▌| 915/962 [1:44:14<06:35,  8.41s/mapping]"
     ]
    },
    {
     "name": "stdout",
     "output_type": "stream",
     "text": [
      "Completed 923to813\n",
      "\n",
      "\n",
      "\n",
      "Started 924to630\n"
     ]
    },
    {
     "name": "stderr",
     "output_type": "stream",
     "text": [
      "Processing Mappings:  95%|█████████▌| 916/962 [1:44:23<06:29,  8.47s/mapping]"
     ]
    },
    {
     "name": "stdout",
     "output_type": "stream",
     "text": [
      "Completed 924to630\n",
      "\n",
      "\n",
      "\n",
      "Started 925to610\n"
     ]
    },
    {
     "name": "stderr",
     "output_type": "stream",
     "text": [
      "Processing Mappings:  95%|█████████▌| 917/962 [1:44:31<06:19,  8.44s/mapping]"
     ]
    },
    {
     "name": "stdout",
     "output_type": "stream",
     "text": [
      "Completed 925to610\n",
      "\n",
      "\n",
      "\n",
      "Started 926to295\n"
     ]
    },
    {
     "name": "stderr",
     "output_type": "stream",
     "text": [
      "Processing Mappings:  95%|█████████▌| 918/962 [1:44:40<06:14,  8.52s/mapping]"
     ]
    },
    {
     "name": "stdout",
     "output_type": "stream",
     "text": [
      "Completed 926to295\n",
      "\n",
      "\n",
      "\n",
      "Started 927to872\n"
     ]
    },
    {
     "name": "stderr",
     "output_type": "stream",
     "text": [
      "Processing Mappings:  96%|█████████▌| 919/962 [1:44:48<06:04,  8.47s/mapping]"
     ]
    },
    {
     "name": "stdout",
     "output_type": "stream",
     "text": [
      "Completed 927to872\n",
      "\n",
      "\n",
      "\n",
      "Started 928to308\n"
     ]
    },
    {
     "name": "stderr",
     "output_type": "stream",
     "text": [
      "Processing Mappings:  96%|█████████▌| 920/962 [1:44:57<05:57,  8.51s/mapping]"
     ]
    },
    {
     "name": "stdout",
     "output_type": "stream",
     "text": [
      "Completed 928to308\n",
      "\n",
      "\n",
      "\n",
      "Started 929to3\n"
     ]
    },
    {
     "name": "stderr",
     "output_type": "stream",
     "text": [
      "Processing Mappings:  96%|█████████▌| 921/962 [1:45:05<05:48,  8.49s/mapping]"
     ]
    },
    {
     "name": "stdout",
     "output_type": "stream",
     "text": [
      "Completed 929to3\n",
      "\n",
      "\n",
      "\n",
      "Started 92to728\n"
     ]
    },
    {
     "name": "stderr",
     "output_type": "stream",
     "text": [
      "Processing Mappings:  96%|█████████▌| 922/962 [1:45:14<05:44,  8.61s/mapping]"
     ]
    },
    {
     "name": "stdout",
     "output_type": "stream",
     "text": [
      "Completed 92to728\n",
      "\n",
      "\n",
      "\n",
      "Started 930to474\n"
     ]
    },
    {
     "name": "stderr",
     "output_type": "stream",
     "text": [
      "Processing Mappings:  96%|█████████▌| 923/962 [1:45:23<05:33,  8.54s/mapping]"
     ]
    },
    {
     "name": "stdout",
     "output_type": "stream",
     "text": [
      "Completed 930to474\n",
      "\n",
      "\n",
      "\n",
      "Started 931to603\n"
     ]
    },
    {
     "name": "stderr",
     "output_type": "stream",
     "text": [
      "Processing Mappings:  96%|█████████▌| 924/962 [1:45:31<05:25,  8.58s/mapping]"
     ]
    },
    {
     "name": "stdout",
     "output_type": "stream",
     "text": [
      "Completed 931to603\n",
      "\n",
      "\n",
      "\n",
      "Started 932to341\n"
     ]
    },
    {
     "name": "stderr",
     "output_type": "stream",
     "text": [
      "Processing Mappings:  96%|█████████▌| 925/962 [1:45:40<05:15,  8.52s/mapping]"
     ]
    },
    {
     "name": "stdout",
     "output_type": "stream",
     "text": [
      "Completed 932to341\n",
      "\n",
      "\n",
      "\n",
      "Started 933to931\n"
     ]
    },
    {
     "name": "stderr",
     "output_type": "stream",
     "text": [
      "Processing Mappings:  96%|█████████▋| 926/962 [1:45:48<05:05,  8.49s/mapping]"
     ]
    },
    {
     "name": "stdout",
     "output_type": "stream",
     "text": [
      "Completed 933to931\n",
      "\n",
      "\n",
      "\n",
      "Started 934to740\n"
     ]
    },
    {
     "name": "stderr",
     "output_type": "stream",
     "text": [
      "Processing Mappings:  96%|█████████▋| 927/962 [1:45:57<05:01,  8.61s/mapping]"
     ]
    },
    {
     "name": "stdout",
     "output_type": "stream",
     "text": [
      "Completed 934to740\n",
      "\n",
      "\n",
      "\n",
      "Started 935to362\n"
     ]
    },
    {
     "name": "stderr",
     "output_type": "stream",
     "text": [
      "Processing Mappings:  96%|█████████▋| 928/962 [1:46:06<04:52,  8.62s/mapping]"
     ]
    },
    {
     "name": "stdout",
     "output_type": "stream",
     "text": [
      "Completed 935to362\n",
      "\n",
      "\n",
      "\n",
      "Started 936to816\n"
     ]
    },
    {
     "name": "stderr",
     "output_type": "stream",
     "text": [
      "Processing Mappings:  97%|█████████▋| 929/962 [1:46:14<04:44,  8.61s/mapping]"
     ]
    },
    {
     "name": "stdout",
     "output_type": "stream",
     "text": [
      "Completed 936to816\n",
      "\n",
      "\n",
      "\n",
      "Started 937to445\n"
     ]
    },
    {
     "name": "stderr",
     "output_type": "stream",
     "text": [
      "Processing Mappings:  97%|█████████▋| 930/962 [1:46:23<04:35,  8.61s/mapping]"
     ]
    },
    {
     "name": "stdout",
     "output_type": "stream",
     "text": [
      "Completed 937to445\n",
      "\n",
      "\n",
      "\n",
      "Started 938to38\n"
     ]
    },
    {
     "name": "stderr",
     "output_type": "stream",
     "text": [
      "Processing Mappings:  97%|█████████▋| 931/962 [1:46:31<04:25,  8.56s/mapping]"
     ]
    },
    {
     "name": "stdout",
     "output_type": "stream",
     "text": [
      "Completed 938to38\n",
      "\n",
      "\n",
      "\n",
      "Started 939to745\n"
     ]
    },
    {
     "name": "stderr",
     "output_type": "stream",
     "text": [
      "Processing Mappings:  97%|█████████▋| 932/962 [1:46:40<04:17,  8.58s/mapping]"
     ]
    },
    {
     "name": "stdout",
     "output_type": "stream",
     "text": [
      "Completed 939to745\n",
      "\n",
      "\n",
      "\n",
      "Started 93to287\n"
     ]
    },
    {
     "name": "stderr",
     "output_type": "stream",
     "text": [
      "Processing Mappings:  97%|█████████▋| 933/962 [1:46:49<04:11,  8.67s/mapping]"
     ]
    },
    {
     "name": "stdout",
     "output_type": "stream",
     "text": [
      "Completed 93to287\n",
      "\n",
      "\n",
      "\n",
      "Started 940to65\n"
     ]
    },
    {
     "name": "stderr",
     "output_type": "stream",
     "text": [
      "Processing Mappings:  97%|█████████▋| 934/962 [1:46:57<04:00,  8.57s/mapping]"
     ]
    },
    {
     "name": "stdout",
     "output_type": "stream",
     "text": [
      "Completed 940to65\n",
      "\n",
      "\n",
      "\n",
      "Started 941to336\n"
     ]
    },
    {
     "name": "stderr",
     "output_type": "stream",
     "text": [
      "Processing Mappings:  97%|█████████▋| 935/962 [1:47:06<03:51,  8.59s/mapping]"
     ]
    },
    {
     "name": "stdout",
     "output_type": "stream",
     "text": [
      "Completed 941to336\n",
      "\n",
      "\n",
      "\n",
      "Started 942to13\n"
     ]
    },
    {
     "name": "stderr",
     "output_type": "stream",
     "text": [
      "Processing Mappings:  97%|█████████▋| 936/962 [1:47:14<03:41,  8.52s/mapping]"
     ]
    },
    {
     "name": "stdout",
     "output_type": "stream",
     "text": [
      "Completed 942to13\n",
      "\n",
      "\n",
      "\n",
      "Started 943to139\n"
     ]
    },
    {
     "name": "stderr",
     "output_type": "stream",
     "text": [
      "Processing Mappings:  97%|█████████▋| 937/962 [1:47:23<03:33,  8.55s/mapping]"
     ]
    },
    {
     "name": "stdout",
     "output_type": "stream",
     "text": [
      "Completed 943to139\n",
      "\n",
      "\n",
      "\n",
      "Started 944to558\n"
     ]
    },
    {
     "name": "stderr",
     "output_type": "stream",
     "text": [
      "Processing Mappings:  98%|█████████▊| 938/962 [1:47:31<03:26,  8.59s/mapping]"
     ]
    },
    {
     "name": "stdout",
     "output_type": "stream",
     "text": [
      "Completed 944to558\n",
      "\n",
      "\n",
      "\n",
      "Started 945to656\n"
     ]
    },
    {
     "name": "stderr",
     "output_type": "stream",
     "text": [
      "Processing Mappings:  98%|█████████▊| 939/962 [1:47:40<03:16,  8.52s/mapping]"
     ]
    },
    {
     "name": "stdout",
     "output_type": "stream",
     "text": [
      "Completed 945to656\n",
      "\n",
      "\n",
      "\n",
      "Started 946to368\n"
     ]
    },
    {
     "name": "stderr",
     "output_type": "stream",
     "text": [
      "Processing Mappings:  98%|█████████▊| 940/962 [1:47:48<03:06,  8.48s/mapping]"
     ]
    },
    {
     "name": "stdout",
     "output_type": "stream",
     "text": [
      "Completed 946to368\n",
      "\n",
      "\n",
      "\n",
      "Started 947to343\n"
     ]
    },
    {
     "name": "stderr",
     "output_type": "stream",
     "text": [
      "Processing Mappings:  98%|█████████▊| 941/962 [1:47:57<02:57,  8.45s/mapping]"
     ]
    },
    {
     "name": "stdout",
     "output_type": "stream",
     "text": [
      "Completed 947to343\n",
      "\n",
      "\n",
      "\n",
      "Started 948to654\n"
     ]
    },
    {
     "name": "stderr",
     "output_type": "stream",
     "text": [
      "Processing Mappings:  98%|█████████▊| 942/962 [1:48:05<02:50,  8.51s/mapping]"
     ]
    },
    {
     "name": "stdout",
     "output_type": "stream",
     "text": [
      "Completed 948to654\n",
      "\n",
      "\n",
      "\n",
      "Started 949to87\n"
     ]
    },
    {
     "name": "stderr",
     "output_type": "stream",
     "text": [
      "Processing Mappings:  98%|█████████▊| 943/962 [1:48:14<02:41,  8.48s/mapping]"
     ]
    },
    {
     "name": "stdout",
     "output_type": "stream",
     "text": [
      "Completed 949to87\n",
      "\n",
      "\n",
      "\n",
      "Started 94to536\n"
     ]
    },
    {
     "name": "stderr",
     "output_type": "stream",
     "text": [
      "Processing Mappings:  98%|█████████▊| 944/962 [1:48:22<02:34,  8.61s/mapping]"
     ]
    },
    {
     "name": "stdout",
     "output_type": "stream",
     "text": [
      "Completed 94to536\n",
      "\n",
      "\n",
      "\n",
      "Started 950to214\n"
     ]
    },
    {
     "name": "stderr",
     "output_type": "stream",
     "text": [
      "Processing Mappings:  98%|█████████▊| 945/962 [1:48:31<02:25,  8.56s/mapping]"
     ]
    },
    {
     "name": "stdout",
     "output_type": "stream",
     "text": [
      "Completed 950to214\n",
      "\n",
      "\n",
      "\n",
      "Started 951to685\n"
     ]
    },
    {
     "name": "stderr",
     "output_type": "stream",
     "text": [
      "Processing Mappings:  98%|█████████▊| 946/962 [1:48:40<02:17,  8.60s/mapping]"
     ]
    },
    {
     "name": "stdout",
     "output_type": "stream",
     "text": [
      "Completed 951to685\n",
      "\n",
      "\n",
      "\n",
      "Started 952to114\n"
     ]
    },
    {
     "name": "stderr",
     "output_type": "stream",
     "text": [
      "Processing Mappings:  98%|█████████▊| 947/962 [1:48:48<02:06,  8.46s/mapping]"
     ]
    },
    {
     "name": "stdout",
     "output_type": "stream",
     "text": [
      "Completed 952to114\n",
      "\n",
      "\n",
      "\n",
      "Started 953to1\n"
     ]
    },
    {
     "name": "stderr",
     "output_type": "stream",
     "text": [
      "Processing Mappings:  99%|█████████▊| 948/962 [1:48:56<01:59,  8.52s/mapping]"
     ]
    },
    {
     "name": "stdout",
     "output_type": "stream",
     "text": [
      "Completed 953to1\n",
      "\n",
      "\n",
      "\n",
      "Started 954to481\n"
     ]
    },
    {
     "name": "stderr",
     "output_type": "stream",
     "text": [
      "Processing Mappings:  99%|█████████▊| 949/962 [1:49:05<01:51,  8.55s/mapping]"
     ]
    },
    {
     "name": "stdout",
     "output_type": "stream",
     "text": [
      "Completed 954to481\n",
      "\n",
      "\n",
      "\n",
      "Started 955to510\n"
     ]
    },
    {
     "name": "stderr",
     "output_type": "stream",
     "text": [
      "Processing Mappings:  99%|█████████▉| 950/962 [1:49:14<01:43,  8.59s/mapping]"
     ]
    },
    {
     "name": "stdout",
     "output_type": "stream",
     "text": [
      "Completed 955to510\n",
      "\n",
      "\n",
      "\n",
      "Started 956to371\n"
     ]
    },
    {
     "name": "stderr",
     "output_type": "stream",
     "text": [
      "Processing Mappings:  99%|█████████▉| 951/962 [1:49:22<01:33,  8.47s/mapping]"
     ]
    },
    {
     "name": "stdout",
     "output_type": "stream",
     "text": [
      "Completed 956to371\n",
      "\n",
      "\n",
      "\n",
      "Started 957to647\n"
     ]
    },
    {
     "name": "stderr",
     "output_type": "stream",
     "text": [
      "Processing Mappings:  99%|█████████▉| 952/962 [1:49:30<01:24,  8.44s/mapping]"
     ]
    },
    {
     "name": "stdout",
     "output_type": "stream",
     "text": [
      "Completed 957to647\n",
      "\n",
      "\n",
      "\n",
      "Started 958to762\n"
     ]
    },
    {
     "name": "stderr",
     "output_type": "stream",
     "text": [
      "Processing Mappings:  99%|█████████▉| 953/962 [1:49:39<01:15,  8.43s/mapping]"
     ]
    },
    {
     "name": "stdout",
     "output_type": "stream",
     "text": [
      "Completed 958to762\n",
      "\n",
      "\n",
      "\n",
      "Started 959to110\n"
     ]
    },
    {
     "name": "stderr",
     "output_type": "stream",
     "text": [
      "Processing Mappings:  99%|█████████▉| 954/962 [1:49:47<01:07,  8.42s/mapping]"
     ]
    },
    {
     "name": "stdout",
     "output_type": "stream",
     "text": [
      "Completed 959to110\n",
      "\n",
      "\n",
      "\n",
      "Started 95to624\n"
     ]
    },
    {
     "name": "stderr",
     "output_type": "stream",
     "text": [
      "Processing Mappings:  99%|█████████▉| 955/962 [1:49:56<00:59,  8.56s/mapping]"
     ]
    },
    {
     "name": "stdout",
     "output_type": "stream",
     "text": [
      "Completed 95to624\n",
      "\n",
      "\n",
      "\n",
      "Started 960to133\n"
     ]
    },
    {
     "name": "stderr",
     "output_type": "stream",
     "text": [
      "Processing Mappings:  99%|█████████▉| 956/962 [1:50:04<00:51,  8.51s/mapping]"
     ]
    },
    {
     "name": "stdout",
     "output_type": "stream",
     "text": [
      "Completed 960to133\n",
      "\n",
      "\n",
      "\n",
      "Started 961to609\n"
     ]
    },
    {
     "name": "stderr",
     "output_type": "stream",
     "text": [
      "Processing Mappings:  99%|█████████▉| 957/962 [1:50:13<00:42,  8.47s/mapping]"
     ]
    },
    {
     "name": "stdout",
     "output_type": "stream",
     "text": [
      "Completed 961to609\n",
      "\n",
      "\n",
      "\n",
      "Started 96to720\n"
     ]
    },
    {
     "name": "stderr",
     "output_type": "stream",
     "text": [
      "Processing Mappings: 100%|█████████▉| 958/962 [1:50:22<00:34,  8.60s/mapping]"
     ]
    },
    {
     "name": "stdout",
     "output_type": "stream",
     "text": [
      "Completed 96to720\n",
      "\n",
      "\n",
      "\n",
      "Started 97to456\n"
     ]
    },
    {
     "name": "stderr",
     "output_type": "stream",
     "text": [
      "Processing Mappings: 100%|█████████▉| 959/962 [1:50:31<00:26,  8.70s/mapping]"
     ]
    },
    {
     "name": "stdout",
     "output_type": "stream",
     "text": [
      "Completed 97to456\n",
      "\n",
      "\n",
      "\n",
      "Started 98to443\n"
     ]
    },
    {
     "name": "stderr",
     "output_type": "stream",
     "text": [
      "Processing Mappings: 100%|█████████▉| 960/962 [1:50:40<00:17,  8.77s/mapping]"
     ]
    },
    {
     "name": "stdout",
     "output_type": "stream",
     "text": [
      "Completed 98to443\n",
      "\n",
      "\n",
      "\n",
      "Started 99to412\n"
     ]
    },
    {
     "name": "stderr",
     "output_type": "stream",
     "text": [
      "Processing Mappings: 100%|█████████▉| 961/962 [1:50:48<00:08,  8.81s/mapping]"
     ]
    },
    {
     "name": "stdout",
     "output_type": "stream",
     "text": [
      "Completed 99to412\n",
      "\n",
      "\n",
      "\n",
      "Started 9to414\n"
     ]
    },
    {
     "name": "stderr",
     "output_type": "stream",
     "text": [
      "Processing Mappings: 100%|██████████| 962/962 [1:50:57<00:00,  6.92s/mapping]"
     ]
    },
    {
     "name": "stdout",
     "output_type": "stream",
     "text": [
      "Completed 9to414\n",
      "\n",
      "\n",
      "\n",
      "Matrix data saved to sub-20190928-03_fast_similarity_matrix.h5\n"
     ]
    },
    {
     "name": "stderr",
     "output_type": "stream",
     "text": [
      "\n"
     ]
    }
   ],
   "source": [
    "for time_map in tqdm(mappings, desc=\"Processing Mappings\", unit=\"mapping\"):\n",
    "    if time_map in matrix_data:\n",
    "        print(f\"Skipping {time_map}, already computed.\")\n",
    "        continue\n",
    "    \n",
    "    print(f\"Started {time_map}\")\n",
    "    \n",
    "    # Assuming the data is correctly indexed here\n",
    "    array1_3d = warped_data[time_map]['warped_moving_roi']\n",
    "    array2_3d = fixed_rois[time_map][:,:,:]\n",
    "    \n",
    "    # Compute the IoU matrix (or any relevant function)\n",
    "    roi_overlap_matrix = IoU_3D_numba(array1_3d, array2_3d)\n",
    "    \n",
    "    # Save the computed matrix in the dictionary\n",
    "    matrix_data[time_map] = roi_overlap_matrix\n",
    "    \n",
    "    print(f\"Completed {time_map}\")\n",
    "    print(\"\\n\\n\")\n",
    "    \n",
    "    # Save the matrix_data to the HDF5 file after processing this time_map\n",
    "    with h5py.File(matrix_data_file, 'a') as f:  # Use 'a' to append\n",
    "        if time_map not in f:  # Check if the dataset exists\n",
    "            f.create_dataset(time_map, data=roi_overlap_matrix)  # Create dataset if it doesn't exist\n",
    "        else:\n",
    "            print(f\"Dataset {time_map} already exists, skipping creation.\")\n",
    "\n",
    "print(f\"Matrix data saved to {matrix_data_file}\")"
   ]
  },
  {
   "cell_type": "markdown",
   "id": "d97264b1-8352-4f47-9bd9-af0d98fc9cc3",
   "metadata": {},
   "source": [
    "# Scrap Work"
   ]
  },
  {
   "cell_type": "code",
   "execution_count": 11,
   "id": "a97fc443-5000-400e-9539-aab1977a0b8e",
   "metadata": {},
   "outputs": [
    {
     "data": {
      "text/plain": [
       "(256, 128, 21)"
      ]
     },
     "execution_count": 11,
     "metadata": {},
     "output_type": "execute_result"
    }
   ],
   "source": [
    "array1_3d = warped_data[mappings[0]]['warped_moving_roi']\n",
    "array1_3d.shape"
   ]
  },
  {
   "cell_type": "code",
   "execution_count": 12,
   "id": "baed3171-7b06-4207-a298-df8cfff19d05",
   "metadata": {},
   "outputs": [
    {
     "data": {
      "text/plain": [
       "(256, 128, 21)"
      ]
     },
     "execution_count": 12,
     "metadata": {},
     "output_type": "execute_result"
    }
   ],
   "source": [
    "array2_3d = fixed_rois[mappings[0]][:,:,:]\n",
    "array2_3d.shape"
   ]
  },
  {
   "cell_type": "code",
   "execution_count": 10,
   "id": "e1c02d0d-d4ce-4e48-810e-17431bca5ab5",
   "metadata": {},
   "outputs": [],
   "source": [
    "ROIs1=np.unique(array1_3d)\n",
    "ROIs2=np.unique(array2_3d)"
   ]
  },
  {
   "cell_type": "code",
   "execution_count": 11,
   "id": "2878ade3-1834-44fb-a15a-936c73a78a1d",
   "metadata": {},
   "outputs": [
    {
     "name": "stdout",
     "output_type": "stream",
     "text": [
      "CPU times: user 3h 4min 43s, sys: 812 ms, total: 3h 4min 44s\n",
      "Wall time: 16min 57s\n"
     ]
    }
   ],
   "source": [
    "%%time\n",
    "roi_overlap_matrix = IoU_3D(array1_3d, array2_3d)"
   ]
  },
  {
   "cell_type": "code",
   "execution_count": 13,
   "id": "b711206c-2f96-4128-af48-14828a877726",
   "metadata": {},
   "outputs": [
    {
     "name": "stdout",
     "output_type": "stream",
     "text": [
      "CPU times: user 1min 45s, sys: 6.98 ms, total: 1min 45s\n",
      "Wall time: 10.9 s\n"
     ]
    }
   ],
   "source": [
    "%%time\n",
    "roi_overlap_matrix_with_nmb = IoU_3D_numba(array1_3d, array2_3d)"
   ]
  },
  {
   "cell_type": "code",
   "execution_count": 14,
   "id": "c66cfa55-7b3b-4a28-a013-aa5e434698b0",
   "metadata": {},
   "outputs": [
    {
     "data": {
      "text/plain": [
       "array([[0.        , 0.        , 0.        , ..., 0.        , 0.        ,\n",
       "        0.        ],\n",
       "       [0.        , 0.        , 0.        , ..., 0.        , 0.        ,\n",
       "        0.        ],\n",
       "       [0.        , 0.        , 0.        , ..., 0.        , 0.        ,\n",
       "        0.        ],\n",
       "       ...,\n",
       "       [0.        , 0.        , 0.        , ..., 0.        , 0.        ,\n",
       "        0.        ],\n",
       "       [0.        , 0.        , 0.        , ..., 0.01712329, 0.00653595,\n",
       "        0.        ],\n",
       "       [0.        , 0.        , 0.        , ..., 0.        , 0.        ,\n",
       "        0.        ]])"
      ]
     },
     "execution_count": 14,
     "metadata": {},
     "output_type": "execute_result"
    }
   ],
   "source": [
    "roi_overlap_matrix_with_nmb"
   ]
  },
  {
   "cell_type": "code",
   "execution_count": 18,
   "id": "b45cda18-ec7b-4d04-a2c9-18a849298bff",
   "metadata": {},
   "outputs": [
    {
     "data": {
      "text/plain": [
       "array([[0.        , 0.        , 0.        , ..., 0.        , 0.        ,\n",
       "        0.        ],\n",
       "       [0.        , 0.        , 0.        , ..., 0.        , 0.        ,\n",
       "        0.        ],\n",
       "       [0.        , 0.        , 0.        , ..., 0.        , 0.        ,\n",
       "        0.        ],\n",
       "       ...,\n",
       "       [0.        , 0.        , 0.        , ..., 0.        , 0.        ,\n",
       "        0.        ],\n",
       "       [0.        , 0.        , 0.        , ..., 0.        , 0.        ,\n",
       "        0.        ],\n",
       "       [0.        , 0.        , 0.        , ..., 0.        , 0.01712329,\n",
       "        0.00653595]])"
      ]
     },
     "execution_count": 18,
     "metadata": {},
     "output_type": "execute_result"
    }
   ],
   "source": [
    "roi_overlap_matrix"
   ]
  },
  {
   "cell_type": "code",
   "execution_count": 25,
   "id": "bdbc1992-aeed-4fc8-9289-39040d8d5b6e",
   "metadata": {},
   "outputs": [
    {
     "data": {
      "text/plain": [
       "True"
      ]
     },
     "execution_count": 25,
     "metadata": {},
     "output_type": "execute_result"
    }
   ],
   "source": [
    "compare_matrix = roi_overlap_matrix == roi_overlap_matrix_with_nmb[:-1,:-1]\n",
    "np.all(compare_matrix)"
   ]
  },
  {
   "cell_type": "code",
   "execution_count": null,
   "id": "1ea3fb27-161f-403f-88c0-3bdfaaf01bce",
   "metadata": {},
   "outputs": [],
   "source": [
    "# Reread one last time and remove duplicates"
   ]
  },
  {
   "cell_type": "code",
   "execution_count": null,
   "id": "7e6626f3-e00b-458d-8802-b78097e16de2",
   "metadata": {},
   "outputs": [],
   "source": [
    "len(matrix_data)"
   ]
  }
 ],
 "metadata": {
  "kernelspec": {
   "display_name": "CV_ENV",
   "language": "python",
   "name": "cv_env"
  },
  "language_info": {
   "codemirror_mode": {
    "name": "ipython",
    "version": 3
   },
   "file_extension": ".py",
   "mimetype": "text/x-python",
   "name": "python",
   "nbconvert_exporter": "python",
   "pygments_lexer": "ipython3",
   "version": "3.10.15"
  }
 },
 "nbformat": 4,
 "nbformat_minor": 5
}
